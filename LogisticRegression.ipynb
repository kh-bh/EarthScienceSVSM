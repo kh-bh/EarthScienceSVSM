{
 "cells": [
  {
   "cell_type": "markdown",
   "id": "3f9f6034-e6b8-474a-98ec-b3a50d83fc88",
   "metadata": {},
   "source": [
    "# Logistic Regression"
   ]
  },
  {
   "cell_type": "code",
   "execution_count": 1,
   "id": "b42fd845-0516-413e-bef7-23edbc3f31e2",
   "metadata": {},
   "outputs": [
    {
     "name": "stdout",
     "output_type": "stream",
     "text": [
      "C:\\Users\\bhoom\\Earth Science NCSSM\\EarthScienceSVSM GitHub\n"
     ]
    }
   ],
   "source": [
    "#imports of all librarys needed\n",
    "import pandas as pd\n",
    "import numpy as np\n",
    "import statsmodels.api as sm\n",
    "import statsmodels.formula.api as smf\n",
    "import os\n",
    "cwd = os.getcwd()\n",
    "print(cwd)"
   ]
  },
  {
   "cell_type": "code",
   "execution_count": 2,
   "id": "727094f8-1150-455e-b681-4a8c2b1b1cd4",
   "metadata": {},
   "outputs": [],
   "source": [
    "#setting the variables for the locations of files in case of changes (I can feel myself changing the folder names and such)\n",
    "dataset2017 = \"EDA Analysis Folder/SRER_2017_training_bi.csv\"\n",
    "dataset2021 = \"EDA Analysis Folder/SRER21_dataset_v1.csv\""
   ]
  },
  {
   "cell_type": "markdown",
   "id": "1fc27fce-ccd4-413c-bc28-2190cddd4e4b",
   "metadata": {},
   "source": [
    "### 1. 2017 train --> 2021 test\n",
    "    - This is the beginning of the 2017 Data being used as training for accuracy. In order to determine accuracy, we use 2021 data. "
   ]
  },
  {
   "cell_type": "code",
   "execution_count": 3,
   "id": "c3ba5201-42bc-4a49-aa78-3118d965ffe1",
   "metadata": {},
   "outputs": [
    {
     "data": {
      "text/html": [
       "<div>\n",
       "<style scoped>\n",
       "    .dataframe tbody tr th:only-of-type {\n",
       "        vertical-align: middle;\n",
       "    }\n",
       "\n",
       "    .dataframe tbody tr th {\n",
       "        vertical-align: top;\n",
       "    }\n",
       "\n",
       "    .dataframe thead th {\n",
       "        text-align: right;\n",
       "    }\n",
       "</style>\n",
       "<table border=\"1\" class=\"dataframe\">\n",
       "  <thead>\n",
       "    <tr style=\"text-align: right;\">\n",
       "      <th></th>\n",
       "      <th>Id</th>\n",
       "      <th>gridcode</th>\n",
       "      <th>Shape_Length</th>\n",
       "      <th>Shape_Area</th>\n",
       "      <th>CH_mean</th>\n",
       "      <th>ARVI_max</th>\n",
       "      <th>ARVI_mean</th>\n",
       "      <th>ARVI_med</th>\n",
       "      <th>EVI_max</th>\n",
       "      <th>EVI_mean</th>\n",
       "      <th>EVI_med</th>\n",
       "      <th>NDVI_max</th>\n",
       "      <th>NDVI_mean</th>\n",
       "      <th>NDVI_med</th>\n",
       "      <th>SAVI_max</th>\n",
       "      <th>SAVI_mean</th>\n",
       "      <th>SAVI_med</th>\n",
       "      <th>Veg_class</th>\n",
       "    </tr>\n",
       "    <tr>\n",
       "      <th>OID_</th>\n",
       "      <th></th>\n",
       "      <th></th>\n",
       "      <th></th>\n",
       "      <th></th>\n",
       "      <th></th>\n",
       "      <th></th>\n",
       "      <th></th>\n",
       "      <th></th>\n",
       "      <th></th>\n",
       "      <th></th>\n",
       "      <th></th>\n",
       "      <th></th>\n",
       "      <th></th>\n",
       "      <th></th>\n",
       "      <th></th>\n",
       "      <th></th>\n",
       "      <th></th>\n",
       "      <th></th>\n",
       "    </tr>\n",
       "  </thead>\n",
       "  <tbody>\n",
       "    <tr>\n",
       "      <th>1</th>\n",
       "      <td>2</td>\n",
       "      <td>2</td>\n",
       "      <td>41.6</td>\n",
       "      <td>17.41</td>\n",
       "      <td>0.190714</td>\n",
       "      <td>0.609099</td>\n",
       "      <td>0.344183</td>\n",
       "      <td>0.379428</td>\n",
       "      <td>0.443455</td>\n",
       "      <td>0.292047</td>\n",
       "      <td>0.290985</td>\n",
       "      <td>0.665698</td>\n",
       "      <td>0.476709</td>\n",
       "      <td>0.507514</td>\n",
       "      <td>0.406991</td>\n",
       "      <td>0.286203</td>\n",
       "      <td>0.288351</td>\n",
       "      <td>woody</td>\n",
       "    </tr>\n",
       "    <tr>\n",
       "      <th>2</th>\n",
       "      <td>3</td>\n",
       "      <td>3</td>\n",
       "      <td>31.4</td>\n",
       "      <td>5.05</td>\n",
       "      <td>0.045000</td>\n",
       "      <td>0.387755</td>\n",
       "      <td>0.245301</td>\n",
       "      <td>0.274936</td>\n",
       "      <td>0.332059</td>\n",
       "      <td>0.252919</td>\n",
       "      <td>0.244477</td>\n",
       "      <td>0.526375</td>\n",
       "      <td>0.406745</td>\n",
       "      <td>0.433791</td>\n",
       "      <td>0.328585</td>\n",
       "      <td>0.254814</td>\n",
       "      <td>0.248126</td>\n",
       "      <td>non-woody</td>\n",
       "    </tr>\n",
       "    <tr>\n",
       "      <th>3</th>\n",
       "      <td>5</td>\n",
       "      <td>5</td>\n",
       "      <td>33.4</td>\n",
       "      <td>4.84</td>\n",
       "      <td>0.010000</td>\n",
       "      <td>0.038844</td>\n",
       "      <td>0.004040</td>\n",
       "      <td>0.026805</td>\n",
       "      <td>0.150550</td>\n",
       "      <td>0.131985</td>\n",
       "      <td>0.134891</td>\n",
       "      <td>0.208300</td>\n",
       "      <td>0.181575</td>\n",
       "      <td>0.205117</td>\n",
       "      <td>0.150184</td>\n",
       "      <td>0.131642</td>\n",
       "      <td>0.135063</td>\n",
       "      <td>non-woody</td>\n",
       "    </tr>\n",
       "    <tr>\n",
       "      <th>4</th>\n",
       "      <td>6</td>\n",
       "      <td>6</td>\n",
       "      <td>32.2</td>\n",
       "      <td>14.20</td>\n",
       "      <td>0.011667</td>\n",
       "      <td>0.189842</td>\n",
       "      <td>0.033418</td>\n",
       "      <td>0.018961</td>\n",
       "      <td>0.198972</td>\n",
       "      <td>0.141579</td>\n",
       "      <td>0.138338</td>\n",
       "      <td>0.341480</td>\n",
       "      <td>0.207390</td>\n",
       "      <td>0.197327</td>\n",
       "      <td>0.197330</td>\n",
       "      <td>0.141500</td>\n",
       "      <td>0.138725</td>\n",
       "      <td>non-woody</td>\n",
       "    </tr>\n",
       "    <tr>\n",
       "      <th>5</th>\n",
       "      <td>7</td>\n",
       "      <td>7</td>\n",
       "      <td>28.8</td>\n",
       "      <td>10.73</td>\n",
       "      <td>0.013750</td>\n",
       "      <td>0.322694</td>\n",
       "      <td>0.080315</td>\n",
       "      <td>0.061453</td>\n",
       "      <td>0.248442</td>\n",
       "      <td>0.158710</td>\n",
       "      <td>0.142326</td>\n",
       "      <td>0.457103</td>\n",
       "      <td>0.247391</td>\n",
       "      <td>0.228112</td>\n",
       "      <td>0.248598</td>\n",
       "      <td>0.158618</td>\n",
       "      <td>0.142817</td>\n",
       "      <td>non-woody</td>\n",
       "    </tr>\n",
       "  </tbody>\n",
       "</table>\n",
       "</div>"
      ],
      "text/plain": [
       "      Id  gridcode  Shape_Length  Shape_Area   CH_mean  ARVI_max  ARVI_mean  \\\n",
       "OID_                                                                          \n",
       "1      2         2          41.6       17.41  0.190714  0.609099   0.344183   \n",
       "2      3         3          31.4        5.05  0.045000  0.387755   0.245301   \n",
       "3      5         5          33.4        4.84  0.010000  0.038844   0.004040   \n",
       "4      6         6          32.2       14.20  0.011667  0.189842   0.033418   \n",
       "5      7         7          28.8       10.73  0.013750  0.322694   0.080315   \n",
       "\n",
       "      ARVI_med   EVI_max  EVI_mean   EVI_med  NDVI_max  NDVI_mean  NDVI_med  \\\n",
       "OID_                                                                          \n",
       "1     0.379428  0.443455  0.292047  0.290985  0.665698   0.476709  0.507514   \n",
       "2     0.274936  0.332059  0.252919  0.244477  0.526375   0.406745  0.433791   \n",
       "3     0.026805  0.150550  0.131985  0.134891  0.208300   0.181575  0.205117   \n",
       "4     0.018961  0.198972  0.141579  0.138338  0.341480   0.207390  0.197327   \n",
       "5     0.061453  0.248442  0.158710  0.142326  0.457103   0.247391  0.228112   \n",
       "\n",
       "      SAVI_max  SAVI_mean  SAVI_med  Veg_class  \n",
       "OID_                                            \n",
       "1     0.406991   0.286203  0.288351      woody  \n",
       "2     0.328585   0.254814  0.248126  non-woody  \n",
       "3     0.150184   0.131642  0.135063  non-woody  \n",
       "4     0.197330   0.141500  0.138725  non-woody  \n",
       "5     0.248598   0.158618  0.142817  non-woody  "
      ]
     },
     "execution_count": 3,
     "metadata": {},
     "output_type": "execute_result"
    }
   ],
   "source": [
    "df = pd.read_csv(dataset2017, index_col=0, parse_dates=True)\n",
    "df.isnull().sum()\n",
    "df.dropna(axis=0,inplace=True)\n",
    "df.head()"
   ]
  },
  {
   "cell_type": "code",
   "execution_count": 4,
   "id": "e252f5e5-ffc7-45fe-a30c-4a30afc3718c",
   "metadata": {},
   "outputs": [
    {
     "data": {
      "text/plain": [
       "Id              0\n",
       "gridcode        0\n",
       "Shape_Length    0\n",
       "Shape_Area      0\n",
       "CH_mean         0\n",
       "ARVI_max        0\n",
       "ARVI_mean       0\n",
       "ARVI_med        0\n",
       "EVI_max         0\n",
       "EVI_mean        0\n",
       "EVI_med         0\n",
       "NDVI_max        0\n",
       "NDVI_mean       0\n",
       "NDVI_med        0\n",
       "SAVI_max        0\n",
       "SAVI_mean       0\n",
       "SAVI_med        0\n",
       "Veg_class       0\n",
       "dtype: int64"
      ]
     },
     "execution_count": 4,
     "metadata": {},
     "output_type": "execute_result"
    }
   ],
   "source": [
    "df.isnull().sum()"
   ]
  },
  {
   "cell_type": "code",
   "execution_count": 5,
   "id": "0adf2fa3-7c7d-43b0-9d68-fc997a5f2ef0",
   "metadata": {},
   "outputs": [],
   "source": [
    "#How it is predicted (question to consider, do we want CH_mean?)\n",
    "formula = 'Veg_class ~ CH_mean+ARVI_max+ARVI_mean+ARVI_med+EVI_max+EVI_mean+EVI_med+NDVI_max+NDVI_mean+NDVI_med+SAVI_max+SAVI_mean+SAVI_med'"
   ]
  },
  {
   "cell_type": "code",
   "execution_count": 6,
   "id": "a10687fd-55ce-44ec-8f93-d3700d5ba11b",
   "metadata": {},
   "outputs": [
    {
     "name": "stdout",
     "output_type": "stream",
     "text": [
      "                              Generalized Linear Model Regression Results                               \n",
      "========================================================================================================\n",
      "Dep. Variable:     ['Veg_class[non-woody]', 'Veg_class[woody]']   No. Observations:                 4339\n",
      "Model:                                                      GLM   Df Residuals:                     4325\n",
      "Model Family:                                          Binomial   Df Model:                           13\n",
      "Link Function:                                            logit   Scale:                          1.0000\n",
      "Method:                                                    IRLS   Log-Likelihood:                -2541.8\n",
      "Date:                                          Thu, 07 Jul 2022   Deviance:                       5083.6\n",
      "Time:                                                  13:41:00   Pearson chi2:                 2.66e+05\n",
      "No. Iterations:                                               8                                         \n",
      "Covariance Type:                                      nonrobust                                         \n",
      "==============================================================================\n",
      "                 coef    std err          z      P>|z|      [0.025      0.975]\n",
      "------------------------------------------------------------------------------\n",
      "Intercept      9.1120      1.775      5.132      0.000       5.632      12.592\n",
      "CH_mean       -8.1961      1.140     -7.190      0.000     -10.430      -5.962\n",
      "ARVI_max      -2.1699      6.280     -0.346      0.730     -14.478      10.139\n",
      "ARVI_mean     36.6061     16.310      2.244      0.025       4.638      68.574\n",
      "ARVI_med       5.9015      8.752      0.674      0.500     -11.252      23.055\n",
      "EVI_max       39.8545     15.430      2.583      0.010       9.612      70.097\n",
      "EVI_mean    -188.1593     46.463     -4.050      0.000    -279.225     -97.093\n",
      "EVI_med       48.4551     27.921      1.735      0.083      -6.269     103.179\n",
      "NDVI_max      -1.7505      8.632     -0.203      0.839     -18.669      15.168\n",
      "NDVI_mean    -54.0205     22.247     -2.428      0.015     -97.624     -10.417\n",
      "NDVI_med     -10.8929     11.425     -0.953      0.340     -33.286      11.500\n",
      "SAVI_max     -34.3296     18.750     -1.831      0.067     -71.078       2.419\n",
      "SAVI_mean    217.8226     54.132      4.024      0.000     111.727     323.918\n",
      "SAVI_med     -54.4792     31.257     -1.743      0.081    -115.743       6.784\n",
      "==============================================================================\n"
     ]
    }
   ],
   "source": [
    "#running a logistic regression rather than another type of linear\n",
    "model_log = smf.glm(formula = formula, data=df, family=sm.families.Binomial())\n",
    "result = model_log.fit()\n",
    "print(result.summary())"
   ]
  },
  {
   "cell_type": "code",
   "execution_count": 7,
   "id": "c25b91a5-50db-41e2-98a6-bf59329bbbef",
   "metadata": {},
   "outputs": [
    {
     "name": "stdout",
     "output_type": "stream",
     "text": [
      "Coefficeients\n",
      "Intercept      9.112032\n",
      "CH_mean       -8.196147\n",
      "ARVI_max      -2.169899\n",
      "ARVI_mean     36.606140\n",
      "ARVI_med       5.901491\n",
      "EVI_max       39.854487\n",
      "EVI_mean    -188.159328\n",
      "EVI_med       48.455148\n",
      "NDVI_max      -1.750538\n",
      "NDVI_mean    -54.020462\n",
      "NDVI_med     -10.892938\n",
      "SAVI_max     -34.329641\n",
      "SAVI_mean    217.822560\n",
      "SAVI_med     -54.479211\n",
      "dtype: float64\n",
      "\n",
      "p-Values\n",
      "Intercept    2.860077e-07\n",
      "CH_mean      6.487483e-13\n",
      "ARVI_max     7.296996e-01\n",
      "ARVI_mean    2.481022e-02\n",
      "ARVI_med     5.001155e-01\n",
      "EVI_max      9.797461e-03\n",
      "EVI_mean     5.129502e-05\n",
      "EVI_med      8.266144e-02\n",
      "NDVI_max     8.392977e-01\n",
      "NDVI_mean    1.517295e-02\n",
      "NDVI_med     3.403718e-01\n",
      "SAVI_max     6.710801e-02\n",
      "SAVI_mean    5.723029e-05\n",
      "SAVI_med     8.134798e-02\n",
      "dtype: float64\n",
      "\n",
      "Dependent variables\n",
      "['Veg_class[non-woody]', 'Veg_class[woody]']\n"
     ]
    }
   ],
   "source": [
    "#1st, print the main variables in the model\n",
    "#2nd, probability of obtaining results at least as extreme as the observed results of a statistical hypothesis test (thank you Google)\n",
    "#3rd, Stating the variables predicted\n",
    "print(\"Coefficeients\")\n",
    "print(result.params)\n",
    "print()\n",
    "print(\"p-Values\")\n",
    "print(result.pvalues)\n",
    "print()\n",
    "print(\"Dependent variables\")\n",
    "print(result.model.endog_names)"
   ]
  },
  {
   "cell_type": "code",
   "execution_count": 8,
   "id": "e6ba94c8-603a-4e15-8773-fbe502ae8c0c",
   "metadata": {},
   "outputs": [
    {
     "name": "stdout",
     "output_type": "stream",
     "text": [
      "[0.13038227 0.28537094 0.66972367 0.61605885 0.53084829 0.45466805\n",
      " 0.37682633 0.77316985 0.2905401  0.29999304]\n"
     ]
    }
   ],
   "source": [
    "#Uses data to make predictions (.5 being the cutoff for later)\n",
    "predictions = result.predict()\n",
    "print(predictions[0:10])"
   ]
  },
  {
   "cell_type": "code",
   "execution_count": 9,
   "id": "00bbead3-eaf1-4bce-8a24-889c7c4c8818",
   "metadata": {},
   "outputs": [
    {
     "name": "stdout",
     "output_type": "stream",
     "text": [
      "[['woody' 0.0]\n",
      " ['non-woody' 1.0]\n",
      " ['non-woody' 1.0]\n",
      " ...\n",
      " ['woody' 0.0]\n",
      " ['woody' 0.0]\n",
      " ['woody' 0.0]]\n"
     ]
    }
   ],
   "source": [
    "print(np.column_stack((df.loc[:,\"Veg_class\"], result.model.endog)))"
   ]
  },
  {
   "cell_type": "code",
   "execution_count": 10,
   "id": "5c0055aa-fb19-4b0e-910a-75c965117ca5",
   "metadata": {
    "tags": []
   },
   "outputs": [
    {
     "name": "stdout",
     "output_type": "stream",
     "text": [
      "['woody', 'non-woody', 'non-woody', 'non-woody', 'woody', 'woody', 'non-woody', 'woody', 'woody']\n"
     ]
    }
   ],
   "source": [
    "#make sure this is correct, but woody versus non-woody for x\n",
    "predictions_nominal = [ \"woody\" if x < 0.5 else \"non-woody\" for x in predictions]\n",
    "print(predictions_nominal[1:10])"
   ]
  },
  {
   "cell_type": "code",
   "execution_count": 11,
   "id": "7b6fcedd-4aa6-4fef-b9b7-5996dcde3ac7",
   "metadata": {},
   "outputs": [
    {
     "name": "stdout",
     "output_type": "stream",
     "text": [
      "[[1497  591]\n",
      " [ 782 1469]]\n"
     ]
    }
   ],
   "source": [
    "#Confusion matrix, x-axis is predicted and y-axis is true\n",
    "from sklearn.metrics import confusion_matrix, classification_report\n",
    "print(confusion_matrix(df[\"Veg_class\"], predictions_nominal))"
   ]
  },
  {
   "cell_type": "code",
   "execution_count": 12,
   "id": "e7695352-813d-4ccc-abd0-5caa8e34ec4a",
   "metadata": {},
   "outputs": [
    {
     "data": {
      "text/plain": [
       "woody        2251\n",
       "non-woody    2088\n",
       "Name: Veg_class, dtype: int64"
      ]
     },
     "execution_count": 12,
     "metadata": {},
     "output_type": "execute_result"
    }
   ],
   "source": [
    "#Number of woody and non-woody\n",
    "df[\"Veg_class\"].value_counts()"
   ]
  },
  {
   "cell_type": "code",
   "execution_count": 13,
   "id": "8b19bc9d-8d75-412d-8200-94b23e380e34",
   "metadata": {},
   "outputs": [
    {
     "name": "stdout",
     "output_type": "stream",
     "text": [
      "              precision    recall  f1-score   support\n",
      "\n",
      "   non-woody      0.657     0.717     0.686      2088\n",
      "       woody      0.713     0.653     0.682      2251\n",
      "\n",
      "    accuracy                          0.684      4339\n",
      "   macro avg      0.685     0.685     0.684      4339\n",
      "weighted avg      0.686     0.684     0.683      4339\n",
      "\n"
     ]
    }
   ],
   "source": [
    "print(classification_report(df[\"Veg_class\"], predictions_nominal, digits = 3))"
   ]
  },
  {
   "cell_type": "code",
   "execution_count": 14,
   "id": "7485d042-c773-44d4-8c06-0cc35f0391b5",
   "metadata": {},
   "outputs": [],
   "source": [
    "data = pd.read_csv(dataset2021, index_col=0, parse_dates=True)\n",
    "data.isnull().sum()\n",
    "data.dropna(axis=0,inplace=True)\n",
    "x_train = df[:]\n",
    "y_train = df['Veg_class']\n",
    "\n",
    "x_test = data[:]\n",
    "y_test = data['Veg_class']"
   ]
  },
  {
   "cell_type": "code",
   "execution_count": 15,
   "id": "d5a95b1e-ed99-4724-803f-0e9a515d8c19",
   "metadata": {},
   "outputs": [
    {
     "name": "stdout",
     "output_type": "stream",
     "text": [
      "                              Generalized Linear Model Regression Results                               \n",
      "========================================================================================================\n",
      "Dep. Variable:     ['Veg_class[non-woody]', 'Veg_class[woody]']   No. Observations:                 4339\n",
      "Model:                                                      GLM   Df Residuals:                     4325\n",
      "Model Family:                                          Binomial   Df Model:                           13\n",
      "Link Function:                                            logit   Scale:                          1.0000\n",
      "Method:                                                    IRLS   Log-Likelihood:                -2541.8\n",
      "Date:                                          Thu, 07 Jul 2022   Deviance:                       5083.6\n",
      "Time:                                                  13:41:01   Pearson chi2:                 2.66e+05\n",
      "No. Iterations:                                               8                                         \n",
      "Covariance Type:                                      nonrobust                                         \n",
      "==============================================================================\n",
      "                 coef    std err          z      P>|z|      [0.025      0.975]\n",
      "------------------------------------------------------------------------------\n",
      "Intercept      9.1120      1.775      5.132      0.000       5.632      12.592\n",
      "CH_mean       -8.1961      1.140     -7.190      0.000     -10.430      -5.962\n",
      "ARVI_max      -2.1699      6.280     -0.346      0.730     -14.478      10.139\n",
      "ARVI_mean     36.6061     16.310      2.244      0.025       4.638      68.574\n",
      "ARVI_med       5.9015      8.752      0.674      0.500     -11.252      23.055\n",
      "EVI_max       39.8545     15.430      2.583      0.010       9.612      70.097\n",
      "EVI_mean    -188.1593     46.463     -4.050      0.000    -279.225     -97.093\n",
      "EVI_med       48.4551     27.921      1.735      0.083      -6.269     103.179\n",
      "NDVI_max      -1.7505      8.632     -0.203      0.839     -18.669      15.168\n",
      "NDVI_mean    -54.0205     22.247     -2.428      0.015     -97.624     -10.417\n",
      "NDVI_med     -10.8929     11.425     -0.953      0.340     -33.286      11.500\n",
      "SAVI_max     -34.3296     18.750     -1.831      0.067     -71.078       2.419\n",
      "SAVI_mean    217.8226     54.132      4.024      0.000     111.727     323.918\n",
      "SAVI_med     -54.4792     31.257     -1.743      0.081    -115.743       6.784\n",
      "==============================================================================\n"
     ]
    }
   ],
   "source": [
    "model = smf.glm(formula = formula, data = x_train, family = sm.families.Binomial())\n",
    "result = model.fit()\n",
    "print(result.summary())"
   ]
  },
  {
   "cell_type": "code",
   "execution_count": 16,
   "id": "53c59c42-14d7-47e9-a275-5ffe1ecb9dab",
   "metadata": {},
   "outputs": [
    {
     "name": "stdout",
     "output_type": "stream",
     "text": [
      "OID_\n",
      "2       0.000182\n",
      "3       0.000022\n",
      "4       0.000116\n",
      "5       0.000089\n",
      "6       0.535308\n",
      "          ...   \n",
      "7761    0.000749\n",
      "7762    0.000054\n",
      "7763    0.005361\n",
      "7766    0.001169\n",
      "7767    0.001433\n",
      "Length: 6805, dtype: float64\n",
      "              precision    recall  f1-score   support\n",
      "\n",
      "   non-woody      0.850     0.323     0.468      2230\n",
      "       woody      0.747     0.972     0.845      4575\n",
      "\n",
      "    accuracy                          0.759      6805\n",
      "   macro avg      0.798     0.648     0.656      6805\n",
      "weighted avg      0.780     0.759     0.721      6805\n",
      "\n"
     ]
    }
   ],
   "source": [
    "predictions = result.predict(x_test)\n",
    "print(predictions)\n",
    "predictions_nominal = [ \"woody\" if x < 0.5 else \"non-woody\" for x in predictions]\n",
    "print(classification_report(y_test, predictions_nominal, digits = 3))"
   ]
  },
  {
   "cell_type": "code",
   "execution_count": 17,
   "id": "4215e5d9-9913-4ede-b743-2267bab7fe9a",
   "metadata": {},
   "outputs": [
    {
     "name": "stdout",
     "output_type": "stream",
     "text": [
      "                              Generalized Linear Model Regression Results                               \n",
      "========================================================================================================\n",
      "Dep. Variable:     ['Veg_class[non-woody]', 'Veg_class[woody]']   No. Observations:                 4339\n",
      "Model:                                                      GLM   Df Residuals:                     4325\n",
      "Model Family:                                          Binomial   Df Model:                           13\n",
      "Link Function:                                            logit   Scale:                          1.0000\n",
      "Method:                                                    IRLS   Log-Likelihood:                -2541.8\n",
      "Date:                                          Thu, 07 Jul 2022   Deviance:                       5083.6\n",
      "Time:                                                  13:41:01   Pearson chi2:                 2.66e+05\n",
      "No. Iterations:                                               8                                         \n",
      "Covariance Type:                                      nonrobust                                         \n",
      "==============================================================================\n",
      "                 coef    std err          z      P>|z|      [0.025      0.975]\n",
      "------------------------------------------------------------------------------\n",
      "Intercept      9.1120      1.775      5.132      0.000       5.632      12.592\n",
      "CH_mean       -8.1961      1.140     -7.190      0.000     -10.430      -5.962\n",
      "ARVI_max      -2.1699      6.280     -0.346      0.730     -14.478      10.139\n",
      "ARVI_mean     36.6061     16.310      2.244      0.025       4.638      68.574\n",
      "ARVI_med       5.9015      8.752      0.674      0.500     -11.252      23.055\n",
      "EVI_max       39.8545     15.430      2.583      0.010       9.612      70.097\n",
      "EVI_mean    -188.1593     46.463     -4.050      0.000    -279.225     -97.093\n",
      "EVI_med       48.4551     27.921      1.735      0.083      -6.269     103.179\n",
      "NDVI_max      -1.7505      8.632     -0.203      0.839     -18.669      15.168\n",
      "NDVI_mean    -54.0205     22.247     -2.428      0.015     -97.624     -10.417\n",
      "NDVI_med     -10.8929     11.425     -0.953      0.340     -33.286      11.500\n",
      "SAVI_max     -34.3296     18.750     -1.831      0.067     -71.078       2.419\n",
      "SAVI_mean    217.8226     54.132      4.024      0.000     111.727     323.918\n",
      "SAVI_med     -54.4792     31.257     -1.743      0.081    -115.743       6.784\n",
      "==============================================================================\n",
      "\n",
      "              precision    recall  f1-score   support\n",
      "\n",
      "   non-woody      0.850     0.323     0.468      2230\n",
      "       woody      0.747     0.972     0.845      4575\n",
      "\n",
      "    accuracy                          0.759      6805\n",
      "   macro avg      0.798     0.648     0.656      6805\n",
      "weighted avg      0.780     0.759     0.721      6805\n",
      "\n"
     ]
    }
   ],
   "source": [
    "formula = 'Veg_class ~ CH_mean+ARVI_max+ARVI_mean+ARVI_med+EVI_max+EVI_mean+EVI_med+NDVI_max+NDVI_mean+NDVI_med+SAVI_max+SAVI_mean+SAVI_med'\n",
    "model = smf.glm(formula = formula, data = x_train, family = sm.families.Binomial())\n",
    "\n",
    "# -----------------------------------\n",
    "# This will test your new model; \n",
    "# You don't need to change anything below\n",
    "# -----------------------------------\n",
    "result = model.fit()\n",
    "print(result.summary())\n",
    "print()\n",
    "\n",
    "predictions = result.predict(x_test)\n",
    "predictions_nominal = [\"woody\" if x < 0.5 else \"non-woody\" for x in predictions]\n",
    "print(classification_report(y_test, predictions_nominal, digits = 3))"
   ]
  },
  {
   "cell_type": "markdown",
   "id": "5f11a036-7098-41a3-be1e-e51d1079554b",
   "metadata": {},
   "source": [
    "### 2. 2021 train --> 2017 test\n",
    "    - This is the beginning of the 2021 Data being used as training for accuracy. In order to determine accuracy, we use 2017 data. "
   ]
  },
  {
   "cell_type": "code",
   "execution_count": 18,
   "id": "69b6e9aa-35f8-4084-90e8-1a4d1af19e88",
   "metadata": {},
   "outputs": [
    {
     "data": {
      "text/html": [
       "<div>\n",
       "<style scoped>\n",
       "    .dataframe tbody tr th:only-of-type {\n",
       "        vertical-align: middle;\n",
       "    }\n",
       "\n",
       "    .dataframe tbody tr th {\n",
       "        vertical-align: top;\n",
       "    }\n",
       "\n",
       "    .dataframe thead th {\n",
       "        text-align: right;\n",
       "    }\n",
       "</style>\n",
       "<table border=\"1\" class=\"dataframe\">\n",
       "  <thead>\n",
       "    <tr style=\"text-align: right;\">\n",
       "      <th></th>\n",
       "      <th>Id</th>\n",
       "      <th>gridcode</th>\n",
       "      <th>Shape_Length</th>\n",
       "      <th>Shape_Area</th>\n",
       "      <th>CH_mean</th>\n",
       "      <th>ARVI_mean</th>\n",
       "      <th>ARVI_med</th>\n",
       "      <th>ARVI_max</th>\n",
       "      <th>EVI_mean</th>\n",
       "      <th>EVI_med</th>\n",
       "      <th>EVI_max</th>\n",
       "      <th>NDVI_mean</th>\n",
       "      <th>NDVI_med</th>\n",
       "      <th>NDVI_max</th>\n",
       "      <th>SAVI_mean</th>\n",
       "      <th>SAVI_med</th>\n",
       "      <th>SAVI_max</th>\n",
       "      <th>Veg_class</th>\n",
       "    </tr>\n",
       "    <tr>\n",
       "      <th>OID_</th>\n",
       "      <th></th>\n",
       "      <th></th>\n",
       "      <th></th>\n",
       "      <th></th>\n",
       "      <th></th>\n",
       "      <th></th>\n",
       "      <th></th>\n",
       "      <th></th>\n",
       "      <th></th>\n",
       "      <th></th>\n",
       "      <th></th>\n",
       "      <th></th>\n",
       "      <th></th>\n",
       "      <th></th>\n",
       "      <th></th>\n",
       "      <th></th>\n",
       "      <th></th>\n",
       "      <th></th>\n",
       "    </tr>\n",
       "  </thead>\n",
       "  <tbody>\n",
       "    <tr>\n",
       "      <th>2</th>\n",
       "      <td>2</td>\n",
       "      <td>2</td>\n",
       "      <td>20.4</td>\n",
       "      <td>2.38</td>\n",
       "      <td>1.000000</td>\n",
       "      <td>0.273945</td>\n",
       "      <td>0.273945</td>\n",
       "      <td>0.273945</td>\n",
       "      <td>0.323257</td>\n",
       "      <td>0.323257</td>\n",
       "      <td>0.323257</td>\n",
       "      <td>0.428208</td>\n",
       "      <td>0.428208</td>\n",
       "      <td>0.428208</td>\n",
       "      <td>0.311936</td>\n",
       "      <td>0.311936</td>\n",
       "      <td>0.311936</td>\n",
       "      <td>woody</td>\n",
       "    </tr>\n",
       "    <tr>\n",
       "      <th>3</th>\n",
       "      <td>3</td>\n",
       "      <td>3</td>\n",
       "      <td>8.2</td>\n",
       "      <td>1.32</td>\n",
       "      <td>1.000000</td>\n",
       "      <td>0.530157</td>\n",
       "      <td>0.530157</td>\n",
       "      <td>0.530157</td>\n",
       "      <td>0.460513</td>\n",
       "      <td>0.460513</td>\n",
       "      <td>0.460513</td>\n",
       "      <td>0.611745</td>\n",
       "      <td>0.611745</td>\n",
       "      <td>0.611745</td>\n",
       "      <td>0.416492</td>\n",
       "      <td>0.416492</td>\n",
       "      <td>0.416492</td>\n",
       "      <td>woody</td>\n",
       "    </tr>\n",
       "    <tr>\n",
       "      <th>4</th>\n",
       "      <td>4</td>\n",
       "      <td>4</td>\n",
       "      <td>55.8</td>\n",
       "      <td>24.43</td>\n",
       "      <td>0.920000</td>\n",
       "      <td>0.477979</td>\n",
       "      <td>0.501013</td>\n",
       "      <td>0.616707</td>\n",
       "      <td>0.381095</td>\n",
       "      <td>0.384718</td>\n",
       "      <td>0.447304</td>\n",
       "      <td>0.576437</td>\n",
       "      <td>0.596638</td>\n",
       "      <td>0.673767</td>\n",
       "      <td>0.359786</td>\n",
       "      <td>0.364317</td>\n",
       "      <td>0.414173</td>\n",
       "      <td>woody</td>\n",
       "    </tr>\n",
       "    <tr>\n",
       "      <th>5</th>\n",
       "      <td>5</td>\n",
       "      <td>5</td>\n",
       "      <td>15.2</td>\n",
       "      <td>1.88</td>\n",
       "      <td>1.000000</td>\n",
       "      <td>0.342944</td>\n",
       "      <td>0.342944</td>\n",
       "      <td>0.342944</td>\n",
       "      <td>0.346714</td>\n",
       "      <td>0.346714</td>\n",
       "      <td>0.346714</td>\n",
       "      <td>0.468738</td>\n",
       "      <td>0.468738</td>\n",
       "      <td>0.468738</td>\n",
       "      <td>0.323907</td>\n",
       "      <td>0.323907</td>\n",
       "      <td>0.323907</td>\n",
       "      <td>woody</td>\n",
       "    </tr>\n",
       "    <tr>\n",
       "      <th>6</th>\n",
       "      <td>6</td>\n",
       "      <td>6</td>\n",
       "      <td>27.2</td>\n",
       "      <td>9.29</td>\n",
       "      <td>0.142857</td>\n",
       "      <td>0.044382</td>\n",
       "      <td>-0.008903</td>\n",
       "      <td>0.265536</td>\n",
       "      <td>0.181714</td>\n",
       "      <td>0.147391</td>\n",
       "      <td>0.315684</td>\n",
       "      <td>0.223522</td>\n",
       "      <td>0.178629</td>\n",
       "      <td>0.412030</td>\n",
       "      <td>0.177739</td>\n",
       "      <td>0.147325</td>\n",
       "      <td>0.299311</td>\n",
       "      <td>non-woody</td>\n",
       "    </tr>\n",
       "  </tbody>\n",
       "</table>\n",
       "</div>"
      ],
      "text/plain": [
       "      Id  gridcode  Shape_Length  Shape_Area   CH_mean  ARVI_mean  ARVI_med  \\\n",
       "OID_                                                                          \n",
       "2      2         2          20.4        2.38  1.000000   0.273945  0.273945   \n",
       "3      3         3           8.2        1.32  1.000000   0.530157  0.530157   \n",
       "4      4         4          55.8       24.43  0.920000   0.477979  0.501013   \n",
       "5      5         5          15.2        1.88  1.000000   0.342944  0.342944   \n",
       "6      6         6          27.2        9.29  0.142857   0.044382 -0.008903   \n",
       "\n",
       "      ARVI_max  EVI_mean   EVI_med   EVI_max  NDVI_mean  NDVI_med  NDVI_max  \\\n",
       "OID_                                                                          \n",
       "2     0.273945  0.323257  0.323257  0.323257   0.428208  0.428208  0.428208   \n",
       "3     0.530157  0.460513  0.460513  0.460513   0.611745  0.611745  0.611745   \n",
       "4     0.616707  0.381095  0.384718  0.447304   0.576437  0.596638  0.673767   \n",
       "5     0.342944  0.346714  0.346714  0.346714   0.468738  0.468738  0.468738   \n",
       "6     0.265536  0.181714  0.147391  0.315684   0.223522  0.178629  0.412030   \n",
       "\n",
       "      SAVI_mean  SAVI_med  SAVI_max  Veg_class  \n",
       "OID_                                            \n",
       "2      0.311936  0.311936  0.311936      woody  \n",
       "3      0.416492  0.416492  0.416492      woody  \n",
       "4      0.359786  0.364317  0.414173      woody  \n",
       "5      0.323907  0.323907  0.323907      woody  \n",
       "6      0.177739  0.147325  0.299311  non-woody  "
      ]
     },
     "execution_count": 18,
     "metadata": {},
     "output_type": "execute_result"
    }
   ],
   "source": [
    "#2021 data as training and 2017 as test\n",
    "df = pd.read_csv(dataset2021, index_col=0, parse_dates=True)\n",
    "df.isnull().sum()\n",
    "df.dropna(axis=0,inplace=True)\n",
    "df.head()"
   ]
  },
  {
   "cell_type": "code",
   "execution_count": 19,
   "id": "0197e89b-9e3e-456a-b4e2-324754b6b14f",
   "metadata": {},
   "outputs": [],
   "source": [
    "#all of the values used for the Regression\n",
    "formula = 'Veg_class ~ CH_mean+ARVI_max+ARVI_mean+ARVI_med+EVI_max+EVI_mean+EVI_med+NDVI_max+NDVI_mean+NDVI_med+SAVI_max+SAVI_mean+SAVI_med'"
   ]
  },
  {
   "cell_type": "code",
   "execution_count": 20,
   "id": "c49b8365-3fbe-440c-a7f3-4efc97d20e7a",
   "metadata": {},
   "outputs": [
    {
     "name": "stdout",
     "output_type": "stream",
     "text": [
      "                              Generalized Linear Model Regression Results                               \n",
      "========================================================================================================\n",
      "Dep. Variable:     ['Veg_class[non-woody]', 'Veg_class[woody]']   No. Observations:                 6805\n",
      "Model:                                                      GLM   Df Residuals:                     6791\n",
      "Model Family:                                          Binomial   Df Model:                           13\n",
      "Link Function:                                            logit   Scale:                          1.0000\n",
      "Method:                                                    IRLS   Log-Likelihood:                -2145.4\n",
      "Date:                                          Thu, 07 Jul 2022   Deviance:                       4290.7\n",
      "Time:                                                  13:41:02   Pearson chi2:                 6.63e+03\n",
      "No. Iterations:                                               7                                         \n",
      "Covariance Type:                                      nonrobust                                         \n",
      "==============================================================================\n",
      "                 coef    std err          z      P>|z|      [0.025      0.975]\n",
      "------------------------------------------------------------------------------\n",
      "Intercept      7.6608      2.073      3.695      0.000       3.597      11.724\n",
      "CH_mean       -3.0693      0.106    -28.945      0.000      -3.277      -2.862\n",
      "ARVI_max     -17.9537     10.072     -1.783      0.075     -37.695       1.787\n",
      "ARVI_mean     64.0573     22.977      2.788      0.005      19.023     109.092\n",
      "ARVI_med     -17.5680     14.939     -1.176      0.240     -46.848      11.712\n",
      "EVI_max      -17.6747     16.016     -1.104      0.270     -49.065      13.716\n",
      "EVI_mean     -40.2284     43.278     -0.930      0.353    -125.053      44.596\n",
      "EVI_med      -14.8486     31.407     -0.473      0.636     -76.404      46.707\n",
      "NDVI_max      19.4885     14.240      1.369      0.171      -8.421      47.398\n",
      "NDVI_mean    -99.3565     31.591     -3.145      0.002    -161.274     -37.439\n",
      "NDVI_med       8.7249     20.368      0.428      0.668     -31.196      48.646\n",
      "SAVI_max      26.6214     21.009      1.267      0.205     -14.555      67.798\n",
      "SAVI_mean     85.6632     52.841      1.621      0.105     -17.903     189.229\n",
      "SAVI_med      14.9544     37.010      0.404      0.686     -57.584      87.493\n",
      "==============================================================================\n"
     ]
    }
   ],
   "source": [
    "#running a logistic regression rather than another type of linear\n",
    "model_log = smf.glm(formula = formula, data=df, family=sm.families.Binomial())\n",
    "result = model_log.fit()\n",
    "print(result.summary())"
   ]
  },
  {
   "cell_type": "code",
   "execution_count": 21,
   "id": "27bf1134-7520-402c-ba92-912c32097ace",
   "metadata": {},
   "outputs": [
    {
     "name": "stdout",
     "output_type": "stream",
     "text": [
      "Coefficeients\n",
      "Intercept     7.660782\n",
      "CH_mean      -3.069348\n",
      "ARVI_max    -17.953720\n",
      "ARVI_mean    64.057325\n",
      "ARVI_med    -17.568023\n",
      "EVI_max     -17.674746\n",
      "EVI_mean    -40.228436\n",
      "EVI_med     -14.848634\n",
      "NDVI_max     19.488512\n",
      "NDVI_mean   -99.356484\n",
      "NDVI_med      8.724930\n",
      "SAVI_max     26.621431\n",
      "SAVI_mean    85.663174\n",
      "SAVI_med     14.954386\n",
      "dtype: float64\n",
      "\n",
      "p-Values\n",
      "Intercept     2.197197e-04\n",
      "CH_mean      3.264286e-184\n",
      "ARVI_max      7.466407e-02\n",
      "ARVI_mean     5.305598e-03\n",
      "ARVI_med      2.396102e-01\n",
      "EVI_max       2.697779e-01\n",
      "EVI_mean      3.526160e-01\n",
      "EVI_med       6.363650e-01\n",
      "NDVI_max      1.711196e-01\n",
      "NDVI_mean     1.660316e-03\n",
      "NDVI_med      6.683869e-01\n",
      "SAVI_max      2.051031e-01\n",
      "SAVI_mean     1.049847e-01\n",
      "SAVI_med      6.861686e-01\n",
      "dtype: float64\n",
      "\n",
      "Dependent variables\n",
      "['Veg_class[non-woody]', 'Veg_class[woody]']\n"
     ]
    }
   ],
   "source": [
    "print(\"Coefficeients\")\n",
    "print(result.params)\n",
    "print()\n",
    "print(\"p-Values\")\n",
    "print(result.pvalues)\n",
    "print()\n",
    "print(\"Dependent variables\")\n",
    "print(result.model.endog_names)"
   ]
  },
  {
   "cell_type": "code",
   "execution_count": 22,
   "id": "ca450b3e-45ac-4ba8-ba35-fd37170afb6e",
   "metadata": {},
   "outputs": [
    {
     "name": "stdout",
     "output_type": "stream",
     "text": [
      "[0.13210276 0.01324508 0.0066246  0.04832021 0.95902727 0.00905119\n",
      " 0.00627938 0.92045806 0.71279178 0.0242499 ]\n"
     ]
    }
   ],
   "source": [
    "predictions = result.predict()\n",
    "print(predictions[0:10])"
   ]
  },
  {
   "cell_type": "code",
   "execution_count": 23,
   "id": "1b51f3d0-e81e-4e70-ac30-ac2ac035f528",
   "metadata": {},
   "outputs": [
    {
     "name": "stdout",
     "output_type": "stream",
     "text": [
      "[['woody' 0.0]\n",
      " ['woody' 0.0]\n",
      " ['woody' 0.0]\n",
      " ...\n",
      " ['woody' 0.0]\n",
      " ['woody' 0.0]\n",
      " ['woody' 0.0]]\n"
     ]
    }
   ],
   "source": [
    "print(np.column_stack((df.loc[:,\"Veg_class\"], result.model.endog)))"
   ]
  },
  {
   "cell_type": "code",
   "execution_count": 24,
   "id": "dccd7a5a-d00f-4f94-a601-c3903b25ee10",
   "metadata": {},
   "outputs": [
    {
     "name": "stdout",
     "output_type": "stream",
     "text": [
      "['woody', 'woody', 'woody', 'non-woody', 'woody', 'woody', 'non-woody', 'non-woody', 'woody']\n"
     ]
    }
   ],
   "source": [
    "#shows the first 10 predictions, important to make sure that dummy variables are correct\n",
    "predictions_nominal = [ \"woody\" if x < 0.5 else \"non-woody\" for x in predictions]\n",
    "print(predictions_nominal[1:10])"
   ]
  },
  {
   "cell_type": "code",
   "execution_count": 25,
   "id": "bd5d1039-45ea-4df7-adbf-ee4541084f43",
   "metadata": {},
   "outputs": [
    {
     "name": "stdout",
     "output_type": "stream",
     "text": [
      "[[1775  455]\n",
      " [ 470 4105]]\n"
     ]
    }
   ],
   "source": [
    "#predicted is x-axis and truth is y-axis\n",
    "print(confusion_matrix(df[\"Veg_class\"], predictions_nominal))"
   ]
  },
  {
   "cell_type": "code",
   "execution_count": 26,
   "id": "63d82529-7e77-4759-934f-a9b6e5d8853d",
   "metadata": {},
   "outputs": [
    {
     "data": {
      "text/plain": [
       "woody        4575\n",
       "non-woody    2230\n",
       "Name: Veg_class, dtype: int64"
      ]
     },
     "execution_count": 26,
     "metadata": {},
     "output_type": "execute_result"
    }
   ],
   "source": [
    "df[\"Veg_class\"].value_counts()"
   ]
  },
  {
   "cell_type": "code",
   "execution_count": 27,
   "id": "38eecca9-72ef-4367-a35e-af7723f3e58a",
   "metadata": {},
   "outputs": [
    {
     "name": "stdout",
     "output_type": "stream",
     "text": [
      "              precision    recall  f1-score   support\n",
      "\n",
      "   non-woody      0.791     0.796     0.793      2230\n",
      "       woody      0.900     0.897     0.899      4575\n",
      "\n",
      "    accuracy                          0.864      6805\n",
      "   macro avg      0.845     0.847     0.846      6805\n",
      "weighted avg      0.864     0.864     0.864      6805\n",
      "\n"
     ]
    }
   ],
   "source": [
    "print(classification_report(df[\"Veg_class\"], predictions_nominal, digits = 3))"
   ]
  },
  {
   "cell_type": "code",
   "execution_count": 28,
   "id": "a7c42f74-b7a4-40ad-a515-c2a0dfc1d292",
   "metadata": {},
   "outputs": [],
   "source": [
    "data = pd.read_csv(dataset2017, index_col=0, parse_dates=True)\n",
    "data.isnull().sum()\n",
    "data.dropna(axis=0,inplace=True)\n",
    "x_train = df[:]\n",
    "y_train = df['Veg_class']\n",
    "\n",
    "x_test = data[:]\n",
    "y_test = data['Veg_class']"
   ]
  },
  {
   "cell_type": "code",
   "execution_count": 29,
   "id": "6f5cb5c1-6e0a-4c32-ae42-14b6bf35ca42",
   "metadata": {},
   "outputs": [
    {
     "name": "stdout",
     "output_type": "stream",
     "text": [
      "                              Generalized Linear Model Regression Results                               \n",
      "========================================================================================================\n",
      "Dep. Variable:     ['Veg_class[non-woody]', 'Veg_class[woody]']   No. Observations:                 6805\n",
      "Model:                                                      GLM   Df Residuals:                     6791\n",
      "Model Family:                                          Binomial   Df Model:                           13\n",
      "Link Function:                                            logit   Scale:                          1.0000\n",
      "Method:                                                    IRLS   Log-Likelihood:                -2145.4\n",
      "Date:                                          Thu, 07 Jul 2022   Deviance:                       4290.7\n",
      "Time:                                                  13:41:02   Pearson chi2:                 6.63e+03\n",
      "No. Iterations:                                               7                                         \n",
      "Covariance Type:                                      nonrobust                                         \n",
      "==============================================================================\n",
      "                 coef    std err          z      P>|z|      [0.025      0.975]\n",
      "------------------------------------------------------------------------------\n",
      "Intercept      7.6608      2.073      3.695      0.000       3.597      11.724\n",
      "CH_mean       -3.0693      0.106    -28.945      0.000      -3.277      -2.862\n",
      "ARVI_max     -17.9537     10.072     -1.783      0.075     -37.695       1.787\n",
      "ARVI_mean     64.0573     22.977      2.788      0.005      19.023     109.092\n",
      "ARVI_med     -17.5680     14.939     -1.176      0.240     -46.848      11.712\n",
      "EVI_max      -17.6747     16.016     -1.104      0.270     -49.065      13.716\n",
      "EVI_mean     -40.2284     43.278     -0.930      0.353    -125.053      44.596\n",
      "EVI_med      -14.8486     31.407     -0.473      0.636     -76.404      46.707\n",
      "NDVI_max      19.4885     14.240      1.369      0.171      -8.421      47.398\n",
      "NDVI_mean    -99.3565     31.591     -3.145      0.002    -161.274     -37.439\n",
      "NDVI_med       8.7249     20.368      0.428      0.668     -31.196      48.646\n",
      "SAVI_max      26.6214     21.009      1.267      0.205     -14.555      67.798\n",
      "SAVI_mean     85.6632     52.841      1.621      0.105     -17.903     189.229\n",
      "SAVI_med      14.9544     37.010      0.404      0.686     -57.584      87.493\n",
      "==============================================================================\n"
     ]
    }
   ],
   "source": [
    "model = smf.glm(formula = formula, data = x_train, family = sm.families.Binomial())\n",
    "result = model.fit()\n",
    "print(result.summary())"
   ]
  },
  {
   "cell_type": "code",
   "execution_count": 30,
   "id": "bbfc4697-0d40-423d-82a1-e19c782e6dbe",
   "metadata": {},
   "outputs": [
    {
     "name": "stdout",
     "output_type": "stream",
     "text": [
      "OID_\n",
      "1       0.063886\n",
      "2       0.422364\n",
      "3       0.864174\n",
      "4       0.878457\n",
      "5       0.840386\n",
      "          ...   \n",
      "4335    0.422447\n",
      "4336    0.309382\n",
      "4337    0.028272\n",
      "4338    0.060589\n",
      "4339    0.001900\n",
      "Length: 4339, dtype: float64\n",
      "              precision    recall  f1-score   support\n",
      "\n",
      "   non-woody      0.595     0.830     0.693      2088\n",
      "       woody      0.751     0.477     0.583      2251\n",
      "\n",
      "    accuracy                          0.647      4339\n",
      "   macro avg      0.673     0.653     0.638      4339\n",
      "weighted avg      0.676     0.647     0.636      4339\n",
      "\n"
     ]
    }
   ],
   "source": [
    "predictions = result.predict(x_test)\n",
    "print(predictions)\n",
    "predictions_nominal = [ \"woody\" if x < 0.5 else \"non-woody\" for x in predictions]\n",
    "print(classification_report(y_test, predictions_nominal, digits = 3))"
   ]
  },
  {
   "cell_type": "code",
   "execution_count": 31,
   "id": "30cf2c42-c40a-479b-aaef-2d61b6c15f5e",
   "metadata": {},
   "outputs": [
    {
     "name": "stdout",
     "output_type": "stream",
     "text": [
      "                              Generalized Linear Model Regression Results                               \n",
      "========================================================================================================\n",
      "Dep. Variable:     ['Veg_class[non-woody]', 'Veg_class[woody]']   No. Observations:                 6805\n",
      "Model:                                                      GLM   Df Residuals:                     6791\n",
      "Model Family:                                          Binomial   Df Model:                           13\n",
      "Link Function:                                            logit   Scale:                          1.0000\n",
      "Method:                                                    IRLS   Log-Likelihood:                -2145.4\n",
      "Date:                                          Thu, 07 Jul 2022   Deviance:                       4290.7\n",
      "Time:                                                  13:41:03   Pearson chi2:                 6.63e+03\n",
      "No. Iterations:                                               7                                         \n",
      "Covariance Type:                                      nonrobust                                         \n",
      "==============================================================================\n",
      "                 coef    std err          z      P>|z|      [0.025      0.975]\n",
      "------------------------------------------------------------------------------\n",
      "Intercept      7.6608      2.073      3.695      0.000       3.597      11.724\n",
      "CH_mean       -3.0693      0.106    -28.945      0.000      -3.277      -2.862\n",
      "ARVI_max     -17.9537     10.072     -1.783      0.075     -37.695       1.787\n",
      "ARVI_mean     64.0573     22.977      2.788      0.005      19.023     109.092\n",
      "ARVI_med     -17.5680     14.939     -1.176      0.240     -46.848      11.712\n",
      "EVI_max      -17.6747     16.016     -1.104      0.270     -49.065      13.716\n",
      "EVI_mean     -40.2284     43.278     -0.930      0.353    -125.053      44.596\n",
      "EVI_med      -14.8486     31.407     -0.473      0.636     -76.404      46.707\n",
      "NDVI_max      19.4885     14.240      1.369      0.171      -8.421      47.398\n",
      "NDVI_mean    -99.3565     31.591     -3.145      0.002    -161.274     -37.439\n",
      "NDVI_med       8.7249     20.368      0.428      0.668     -31.196      48.646\n",
      "SAVI_max      26.6214     21.009      1.267      0.205     -14.555      67.798\n",
      "SAVI_mean     85.6632     52.841      1.621      0.105     -17.903     189.229\n",
      "SAVI_med      14.9544     37.010      0.404      0.686     -57.584      87.493\n",
      "==============================================================================\n",
      "\n",
      "              precision    recall  f1-score   support\n",
      "\n",
      "   non-woody      0.595     0.830     0.693      2088\n",
      "       woody      0.751     0.477     0.583      2251\n",
      "\n",
      "    accuracy                          0.647      4339\n",
      "   macro avg      0.673     0.653     0.638      4339\n",
      "weighted avg      0.676     0.647     0.636      4339\n",
      "\n"
     ]
    }
   ],
   "source": [
    "formula = 'Veg_class ~ CH_mean+ARVI_max+ARVI_mean+ARVI_med+EVI_max+EVI_mean+EVI_med+NDVI_max+NDVI_mean+NDVI_med+SAVI_max+SAVI_mean+SAVI_med'\n",
    "model = smf.glm(formula = formula, data = x_train, family = sm.families.Binomial())\n",
    "\n",
    "# -----------------------------------\n",
    "# This will test your new model; \n",
    "# You don't need to change anything below\n",
    "# -----------------------------------\n",
    "result = model.fit()\n",
    "print(result.summary())\n",
    "print()\n",
    "\n",
    "predictions = result.predict(x_test)\n",
    "predictions_nominal = [\"woody\" if x < 0.5 else \"non-woody\" for x in predictions]\n",
    "print(classification_report(y_test, predictions_nominal, digits = 3))"
   ]
  },
  {
   "cell_type": "markdown",
   "id": "b4adc568-190d-490c-a319-86a93de19326",
   "metadata": {},
   "source": [
    "### 3. 2017 and 2021 train --> 2017 test\n",
    "    - This is the beginning of the 2017 and 2021 Data being used as training for accuracy. In order to determine accuracy, we use 2017 data. "
   ]
  },
  {
   "cell_type": "code",
   "execution_count": 32,
   "id": "2e148f30-b355-4192-ba64-11fa1ae6c0b0",
   "metadata": {},
   "outputs": [
    {
     "data": {
      "text/html": [
       "<div>\n",
       "<style scoped>\n",
       "    .dataframe tbody tr th:only-of-type {\n",
       "        vertical-align: middle;\n",
       "    }\n",
       "\n",
       "    .dataframe tbody tr th {\n",
       "        vertical-align: top;\n",
       "    }\n",
       "\n",
       "    .dataframe thead th {\n",
       "        text-align: right;\n",
       "    }\n",
       "</style>\n",
       "<table border=\"1\" class=\"dataframe\">\n",
       "  <thead>\n",
       "    <tr style=\"text-align: right;\">\n",
       "      <th></th>\n",
       "      <th>OID_</th>\n",
       "      <th>Id</th>\n",
       "      <th>gridcode</th>\n",
       "      <th>Shape_Length</th>\n",
       "      <th>Shape_Area</th>\n",
       "      <th>CH_mean</th>\n",
       "      <th>ARVI_mean</th>\n",
       "      <th>ARVI_med</th>\n",
       "      <th>ARVI_max</th>\n",
       "      <th>EVI_mean</th>\n",
       "      <th>EVI_med</th>\n",
       "      <th>EVI_max</th>\n",
       "      <th>NDVI_mean</th>\n",
       "      <th>NDVI_med</th>\n",
       "      <th>NDVI_max</th>\n",
       "      <th>SAVI_mean</th>\n",
       "      <th>SAVI_med</th>\n",
       "      <th>SAVI_max</th>\n",
       "      <th>Veg_class</th>\n",
       "    </tr>\n",
       "  </thead>\n",
       "  <tbody>\n",
       "    <tr>\n",
       "      <th>0</th>\n",
       "      <td>2</td>\n",
       "      <td>2</td>\n",
       "      <td>2</td>\n",
       "      <td>20.4</td>\n",
       "      <td>2.38</td>\n",
       "      <td>1.000000</td>\n",
       "      <td>0.273945</td>\n",
       "      <td>0.273945</td>\n",
       "      <td>0.273945</td>\n",
       "      <td>0.323257</td>\n",
       "      <td>0.323257</td>\n",
       "      <td>0.323257</td>\n",
       "      <td>0.428208</td>\n",
       "      <td>0.428208</td>\n",
       "      <td>0.428208</td>\n",
       "      <td>0.311936</td>\n",
       "      <td>0.311936</td>\n",
       "      <td>0.311936</td>\n",
       "      <td>woody</td>\n",
       "    </tr>\n",
       "    <tr>\n",
       "      <th>1</th>\n",
       "      <td>3</td>\n",
       "      <td>3</td>\n",
       "      <td>3</td>\n",
       "      <td>8.2</td>\n",
       "      <td>1.32</td>\n",
       "      <td>1.000000</td>\n",
       "      <td>0.530157</td>\n",
       "      <td>0.530157</td>\n",
       "      <td>0.530157</td>\n",
       "      <td>0.460513</td>\n",
       "      <td>0.460513</td>\n",
       "      <td>0.460513</td>\n",
       "      <td>0.611745</td>\n",
       "      <td>0.611745</td>\n",
       "      <td>0.611745</td>\n",
       "      <td>0.416492</td>\n",
       "      <td>0.416492</td>\n",
       "      <td>0.416492</td>\n",
       "      <td>woody</td>\n",
       "    </tr>\n",
       "    <tr>\n",
       "      <th>2</th>\n",
       "      <td>4</td>\n",
       "      <td>4</td>\n",
       "      <td>4</td>\n",
       "      <td>55.8</td>\n",
       "      <td>24.43</td>\n",
       "      <td>0.920000</td>\n",
       "      <td>0.477979</td>\n",
       "      <td>0.501013</td>\n",
       "      <td>0.616707</td>\n",
       "      <td>0.381095</td>\n",
       "      <td>0.384718</td>\n",
       "      <td>0.447304</td>\n",
       "      <td>0.576437</td>\n",
       "      <td>0.596638</td>\n",
       "      <td>0.673767</td>\n",
       "      <td>0.359786</td>\n",
       "      <td>0.364317</td>\n",
       "      <td>0.414173</td>\n",
       "      <td>woody</td>\n",
       "    </tr>\n",
       "    <tr>\n",
       "      <th>3</th>\n",
       "      <td>5</td>\n",
       "      <td>5</td>\n",
       "      <td>5</td>\n",
       "      <td>15.2</td>\n",
       "      <td>1.88</td>\n",
       "      <td>1.000000</td>\n",
       "      <td>0.342944</td>\n",
       "      <td>0.342944</td>\n",
       "      <td>0.342944</td>\n",
       "      <td>0.346714</td>\n",
       "      <td>0.346714</td>\n",
       "      <td>0.346714</td>\n",
       "      <td>0.468738</td>\n",
       "      <td>0.468738</td>\n",
       "      <td>0.468738</td>\n",
       "      <td>0.323907</td>\n",
       "      <td>0.323907</td>\n",
       "      <td>0.323907</td>\n",
       "      <td>woody</td>\n",
       "    </tr>\n",
       "    <tr>\n",
       "      <th>4</th>\n",
       "      <td>6</td>\n",
       "      <td>6</td>\n",
       "      <td>6</td>\n",
       "      <td>27.2</td>\n",
       "      <td>9.29</td>\n",
       "      <td>0.142857</td>\n",
       "      <td>0.044382</td>\n",
       "      <td>-0.008903</td>\n",
       "      <td>0.265536</td>\n",
       "      <td>0.181714</td>\n",
       "      <td>0.147391</td>\n",
       "      <td>0.315684</td>\n",
       "      <td>0.223522</td>\n",
       "      <td>0.178629</td>\n",
       "      <td>0.412030</td>\n",
       "      <td>0.177739</td>\n",
       "      <td>0.147325</td>\n",
       "      <td>0.299311</td>\n",
       "      <td>non-woody</td>\n",
       "    </tr>\n",
       "  </tbody>\n",
       "</table>\n",
       "</div>"
      ],
      "text/plain": [
       "   OID_  Id  gridcode  Shape_Length  Shape_Area   CH_mean  ARVI_mean  \\\n",
       "0     2   2         2          20.4        2.38  1.000000   0.273945   \n",
       "1     3   3         3           8.2        1.32  1.000000   0.530157   \n",
       "2     4   4         4          55.8       24.43  0.920000   0.477979   \n",
       "3     5   5         5          15.2        1.88  1.000000   0.342944   \n",
       "4     6   6         6          27.2        9.29  0.142857   0.044382   \n",
       "\n",
       "   ARVI_med  ARVI_max  EVI_mean   EVI_med   EVI_max  NDVI_mean  NDVI_med  \\\n",
       "0  0.273945  0.273945  0.323257  0.323257  0.323257   0.428208  0.428208   \n",
       "1  0.530157  0.530157  0.460513  0.460513  0.460513   0.611745  0.611745   \n",
       "2  0.501013  0.616707  0.381095  0.384718  0.447304   0.576437  0.596638   \n",
       "3  0.342944  0.342944  0.346714  0.346714  0.346714   0.468738  0.468738   \n",
       "4 -0.008903  0.265536  0.181714  0.147391  0.315684   0.223522  0.178629   \n",
       "\n",
       "   NDVI_max  SAVI_mean  SAVI_med  SAVI_max  Veg_class  \n",
       "0  0.428208   0.311936  0.311936  0.311936      woody  \n",
       "1  0.611745   0.416492  0.416492  0.416492      woody  \n",
       "2  0.673767   0.359786  0.364317  0.414173      woody  \n",
       "3  0.468738   0.323907  0.323907  0.323907      woody  \n",
       "4  0.412030   0.177739  0.147325  0.299311  non-woody  "
      ]
     },
     "execution_count": 32,
     "metadata": {},
     "output_type": "execute_result"
    }
   ],
   "source": [
    "df = pd.concat(map(pd.read_csv, [dataset2021, dataset2017]), ignore_index=True)\n",
    "df.isnull().sum()\n",
    "df.dropna(axis=0,inplace=True)\n",
    "df.head()"
   ]
  },
  {
   "cell_type": "code",
   "execution_count": 33,
   "id": "5b933bc6-1c75-4c1f-bdbe-fb89d6b6ffa8",
   "metadata": {},
   "outputs": [
    {
     "data": {
      "text/plain": [
       "OID_            0\n",
       "Id              0\n",
       "gridcode        0\n",
       "Shape_Length    0\n",
       "Shape_Area      0\n",
       "CH_mean         0\n",
       "ARVI_mean       0\n",
       "ARVI_med        0\n",
       "ARVI_max        0\n",
       "EVI_mean        0\n",
       "EVI_med         0\n",
       "EVI_max         0\n",
       "NDVI_mean       0\n",
       "NDVI_med        0\n",
       "NDVI_max        0\n",
       "SAVI_mean       0\n",
       "SAVI_med        0\n",
       "SAVI_max        0\n",
       "Veg_class       0\n",
       "dtype: int64"
      ]
     },
     "execution_count": 33,
     "metadata": {},
     "output_type": "execute_result"
    }
   ],
   "source": [
    "df.isnull().sum()"
   ]
  },
  {
   "cell_type": "code",
   "execution_count": 34,
   "id": "feee0355-ec06-419f-b3cd-e30c84acab80",
   "metadata": {},
   "outputs": [],
   "source": [
    "#all of the values used for the Regression\n",
    "formula = 'Veg_class ~ CH_mean+ARVI_max+ARVI_mean+ARVI_med+EVI_max+EVI_mean+EVI_med+NDVI_max+NDVI_mean+NDVI_med+SAVI_max+SAVI_mean+SAVI_med'"
   ]
  },
  {
   "cell_type": "code",
   "execution_count": 35,
   "id": "ab142884-ab69-45d1-9d0c-806100fa21a6",
   "metadata": {},
   "outputs": [
    {
     "name": "stdout",
     "output_type": "stream",
     "text": [
      "                              Generalized Linear Model Regression Results                               \n",
      "========================================================================================================\n",
      "Dep. Variable:     ['Veg_class[non-woody]', 'Veg_class[woody]']   No. Observations:                11144\n",
      "Model:                                                      GLM   Df Residuals:                    11130\n",
      "Model Family:                                          Binomial   Df Model:                           13\n",
      "Link Function:                                            logit   Scale:                          1.0000\n",
      "Method:                                                    IRLS   Log-Likelihood:                -4893.1\n",
      "Date:                                          Thu, 07 Jul 2022   Deviance:                       9786.2\n",
      "Time:                                                  13:41:03   Pearson chi2:                 1.35e+05\n",
      "No. Iterations:                                               6                                         \n",
      "Covariance Type:                                      nonrobust                                         \n",
      "==============================================================================\n",
      "                 coef    std err          z      P>|z|      [0.025      0.975]\n",
      "------------------------------------------------------------------------------\n",
      "Intercept      6.4963      0.968      6.709      0.000       4.599       8.394\n",
      "CH_mean       -2.7865      0.092    -30.221      0.000      -2.967      -2.606\n",
      "ARVI_max      -2.9340      5.079     -0.578      0.563     -12.889       7.021\n",
      "ARVI_mean     33.1848     11.608      2.859      0.004      10.433      55.936\n",
      "ARVI_med      -2.5521      7.395     -0.345      0.730     -17.046      11.942\n",
      "EVI_max       -2.6535     10.198     -0.260      0.795     -22.641      17.334\n",
      "EVI_mean     -81.7046     26.766     -3.053      0.002    -134.165     -29.244\n",
      "EVI_med       10.5854     18.908      0.560      0.576     -26.473      47.644\n",
      "NDVI_max      -2.4356      7.022     -0.347      0.729     -16.198      11.327\n",
      "NDVI_mean    -57.4643     15.711     -3.658      0.000     -88.256     -26.672\n",
      "NDVI_med      -2.2030      9.764     -0.226      0.821     -21.340      16.934\n",
      "SAVI_max      11.8540     13.004      0.912      0.362     -13.634      37.342\n",
      "SAVI_mean    125.6860     32.150      3.909      0.000      62.673     188.699\n",
      "SAVI_med     -18.2187     22.027     -0.827      0.408     -61.391      24.954\n",
      "==============================================================================\n"
     ]
    }
   ],
   "source": [
    "#running a logistic regression rather than another type of linear\n",
    "model_log = smf.glm(formula = formula, data=df, family=sm.families.Binomial())\n",
    "result = model_log.fit()\n",
    "print(result.summary())"
   ]
  },
  {
   "cell_type": "code",
   "execution_count": 36,
   "id": "e04367ac-bf8e-4a9c-bf82-de764176631f",
   "metadata": {},
   "outputs": [
    {
     "name": "stdout",
     "output_type": "stream",
     "text": [
      "Coefficeients\n",
      "Intercept      6.496282\n",
      "CH_mean       -2.786500\n",
      "ARVI_max      -2.933987\n",
      "ARVI_mean     33.184765\n",
      "ARVI_med      -2.552092\n",
      "EVI_max       -2.653476\n",
      "EVI_mean     -81.704612\n",
      "EVI_med       10.585350\n",
      "NDVI_max      -2.435573\n",
      "NDVI_mean    -57.464266\n",
      "NDVI_med      -2.202977\n",
      "SAVI_max      11.854024\n",
      "SAVI_mean    125.685962\n",
      "SAVI_med     -18.218685\n",
      "dtype: float64\n",
      "\n",
      "p-Values\n",
      "Intercept     1.952938e-11\n",
      "CH_mean      1.241347e-200\n",
      "ARVI_max      5.634901e-01\n",
      "ARVI_mean     4.252746e-03\n",
      "ARVI_med      7.300127e-01\n",
      "EVI_max       7.947080e-01\n",
      "EVI_mean      2.269064e-03\n",
      "EVI_med       5.755895e-01\n",
      "NDVI_max      7.286970e-01\n",
      "NDVI_mean     2.545025e-04\n",
      "NDVI_med      8.214909e-01\n",
      "SAVI_max      3.620060e-01\n",
      "SAVI_mean     9.254686e-05\n",
      "SAVI_med      4.081794e-01\n",
      "dtype: float64\n",
      "\n",
      "Dependent variables\n",
      "['Veg_class[non-woody]', 'Veg_class[woody]']\n"
     ]
    }
   ],
   "source": [
    "print(\"Coefficeients\")\n",
    "print(result.params)\n",
    "print()\n",
    "print(\"p-Values\")\n",
    "print(result.pvalues)\n",
    "print()\n",
    "print(\"Dependent variables\")\n",
    "print(result.model.endog_names)"
   ]
  },
  {
   "cell_type": "code",
   "execution_count": 37,
   "id": "29687fe4-f938-4eb9-b868-ce961d4007ae",
   "metadata": {},
   "outputs": [
    {
     "name": "stdout",
     "output_type": "stream",
     "text": [
      "[0.12762222 0.02035982 0.0157795  0.05571907 0.83915937 0.02597373\n",
      " 0.01142133 0.85130544 0.4922311  0.044878  ]\n"
     ]
    }
   ],
   "source": [
    "predictions = result.predict()\n",
    "print(predictions[0:10])"
   ]
  },
  {
   "cell_type": "code",
   "execution_count": 38,
   "id": "276a2e72-41f6-4858-9710-51ecae61368b",
   "metadata": {},
   "outputs": [
    {
     "name": "stdout",
     "output_type": "stream",
     "text": [
      "[['woody' 0.0]\n",
      " ['woody' 0.0]\n",
      " ['woody' 0.0]\n",
      " ...\n",
      " ['woody' 0.0]\n",
      " ['woody' 0.0]\n",
      " ['woody' 0.0]]\n"
     ]
    }
   ],
   "source": [
    "print(np.column_stack((df.loc[:,\"Veg_class\"], result.model.endog)))"
   ]
  },
  {
   "cell_type": "code",
   "execution_count": 39,
   "id": "03b0a915-5877-425e-904b-c38abc4a4fa4",
   "metadata": {},
   "outputs": [
    {
     "name": "stdout",
     "output_type": "stream",
     "text": [
      "['woody', 'woody', 'woody', 'non-woody', 'woody', 'woody', 'non-woody', 'woody', 'woody']\n"
     ]
    }
   ],
   "source": [
    "#shows the first 10 predictions, important to make sure that dummy variables are correct\n",
    "predictions_nominal = [ \"woody\" if x < 0.5 else \"non-woody\" for x in predictions]\n",
    "print(predictions_nominal[1:10])"
   ]
  },
  {
   "cell_type": "code",
   "execution_count": 40,
   "id": "e7241ec7-e5b5-48ef-82ce-ee3895537c98",
   "metadata": {},
   "outputs": [
    {
     "name": "stdout",
     "output_type": "stream",
     "text": [
      "[[3292 1026]\n",
      " [1310 5516]]\n"
     ]
    }
   ],
   "source": [
    "#predicted is x-axis and truth is y-axis\n",
    "print(confusion_matrix(df[\"Veg_class\"], predictions_nominal))"
   ]
  },
  {
   "cell_type": "code",
   "execution_count": 41,
   "id": "24ba9da0-9c77-4dd8-b7a6-e0dc4fa0d20c",
   "metadata": {},
   "outputs": [
    {
     "data": {
      "text/plain": [
       "woody        6826\n",
       "non-woody    4318\n",
       "Name: Veg_class, dtype: int64"
      ]
     },
     "execution_count": 41,
     "metadata": {},
     "output_type": "execute_result"
    }
   ],
   "source": [
    "df[\"Veg_class\"].value_counts()"
   ]
  },
  {
   "cell_type": "code",
   "execution_count": 42,
   "id": "b4d9c0e1-ca99-4ea3-890e-0e11d68abfd1",
   "metadata": {},
   "outputs": [
    {
     "name": "stdout",
     "output_type": "stream",
     "text": [
      "              precision    recall  f1-score   support\n",
      "\n",
      "   non-woody      0.715     0.762     0.738      4318\n",
      "       woody      0.843     0.808     0.825      6826\n",
      "\n",
      "    accuracy                          0.790     11144\n",
      "   macro avg      0.779     0.785     0.782     11144\n",
      "weighted avg      0.794     0.790     0.791     11144\n",
      "\n"
     ]
    }
   ],
   "source": [
    "print(classification_report(df[\"Veg_class\"], predictions_nominal, digits = 3))"
   ]
  },
  {
   "cell_type": "code",
   "execution_count": 43,
   "id": "7d4b227c-2ee4-4a37-94d5-aeba911a4047",
   "metadata": {},
   "outputs": [],
   "source": [
    "data = pd.read_csv(dataset2017, index_col=0, parse_dates=True)\n",
    "data.isnull().sum()\n",
    "data.dropna(axis=0,inplace=True)\n",
    "x_train = df[:]\n",
    "y_train = df['Veg_class']\n",
    "\n",
    "x_test = data[:]\n",
    "y_test = data['Veg_class']"
   ]
  },
  {
   "cell_type": "code",
   "execution_count": 44,
   "id": "4fa4414a-c016-4cce-8430-dcddec1afe8d",
   "metadata": {},
   "outputs": [
    {
     "name": "stdout",
     "output_type": "stream",
     "text": [
      "                              Generalized Linear Model Regression Results                               \n",
      "========================================================================================================\n",
      "Dep. Variable:     ['Veg_class[non-woody]', 'Veg_class[woody]']   No. Observations:                11144\n",
      "Model:                                                      GLM   Df Residuals:                    11130\n",
      "Model Family:                                          Binomial   Df Model:                           13\n",
      "Link Function:                                            logit   Scale:                          1.0000\n",
      "Method:                                                    IRLS   Log-Likelihood:                -4893.1\n",
      "Date:                                          Thu, 07 Jul 2022   Deviance:                       9786.2\n",
      "Time:                                                  13:41:04   Pearson chi2:                 1.35e+05\n",
      "No. Iterations:                                               6                                         \n",
      "Covariance Type:                                      nonrobust                                         \n",
      "==============================================================================\n",
      "                 coef    std err          z      P>|z|      [0.025      0.975]\n",
      "------------------------------------------------------------------------------\n",
      "Intercept      6.4963      0.968      6.709      0.000       4.599       8.394\n",
      "CH_mean       -2.7865      0.092    -30.221      0.000      -2.967      -2.606\n",
      "ARVI_max      -2.9340      5.079     -0.578      0.563     -12.889       7.021\n",
      "ARVI_mean     33.1848     11.608      2.859      0.004      10.433      55.936\n",
      "ARVI_med      -2.5521      7.395     -0.345      0.730     -17.046      11.942\n",
      "EVI_max       -2.6535     10.198     -0.260      0.795     -22.641      17.334\n",
      "EVI_mean     -81.7046     26.766     -3.053      0.002    -134.165     -29.244\n",
      "EVI_med       10.5854     18.908      0.560      0.576     -26.473      47.644\n",
      "NDVI_max      -2.4356      7.022     -0.347      0.729     -16.198      11.327\n",
      "NDVI_mean    -57.4643     15.711     -3.658      0.000     -88.256     -26.672\n",
      "NDVI_med      -2.2030      9.764     -0.226      0.821     -21.340      16.934\n",
      "SAVI_max      11.8540     13.004      0.912      0.362     -13.634      37.342\n",
      "SAVI_mean    125.6860     32.150      3.909      0.000      62.673     188.699\n",
      "SAVI_med     -18.2187     22.027     -0.827      0.408     -61.391      24.954\n",
      "==============================================================================\n"
     ]
    }
   ],
   "source": [
    "model = smf.glm(formula = formula, data = x_train, family = sm.families.Binomial())\n",
    "result = model.fit()\n",
    "print(result.summary())"
   ]
  },
  {
   "cell_type": "code",
   "execution_count": 45,
   "id": "e2a21ca0-7fa0-4354-8a1d-582a53b9b444",
   "metadata": {},
   "outputs": [
    {
     "name": "stdout",
     "output_type": "stream",
     "text": [
      "OID_\n",
      "1       0.128153\n",
      "2       0.378479\n",
      "3       0.757062\n",
      "4       0.678855\n",
      "5       0.586274\n",
      "          ...   \n",
      "4335    0.413777\n",
      "4336    0.316860\n",
      "4337    0.067382\n",
      "4338    0.111588\n",
      "4339    0.006210\n",
      "Length: 4339, dtype: float64\n",
      "              precision    recall  f1-score   support\n",
      "\n",
      "   non-woody      0.633     0.750     0.687      2088\n",
      "       woody      0.720     0.598     0.653      2251\n",
      "\n",
      "    accuracy                          0.671      4339\n",
      "   macro avg      0.677     0.674     0.670      4339\n",
      "weighted avg      0.679     0.671     0.669      4339\n",
      "\n"
     ]
    }
   ],
   "source": [
    "predictions = result.predict(x_test)\n",
    "print(predictions)\n",
    "predictions_nominal = [ \"woody\" if x < 0.5 else \"non-woody\" for x in predictions]\n",
    "print(classification_report(y_test, predictions_nominal, digits = 3))"
   ]
  },
  {
   "cell_type": "code",
   "execution_count": 46,
   "id": "280fbf00-80b6-40c7-b5d9-7061bc2c6bb5",
   "metadata": {},
   "outputs": [
    {
     "name": "stdout",
     "output_type": "stream",
     "text": [
      "                              Generalized Linear Model Regression Results                               \n",
      "========================================================================================================\n",
      "Dep. Variable:     ['Veg_class[non-woody]', 'Veg_class[woody]']   No. Observations:                11144\n",
      "Model:                                                      GLM   Df Residuals:                    11130\n",
      "Model Family:                                          Binomial   Df Model:                           13\n",
      "Link Function:                                            logit   Scale:                          1.0000\n",
      "Method:                                                    IRLS   Log-Likelihood:                -4893.1\n",
      "Date:                                          Thu, 07 Jul 2022   Deviance:                       9786.2\n",
      "Time:                                                  13:41:04   Pearson chi2:                 1.35e+05\n",
      "No. Iterations:                                               6                                         \n",
      "Covariance Type:                                      nonrobust                                         \n",
      "==============================================================================\n",
      "                 coef    std err          z      P>|z|      [0.025      0.975]\n",
      "------------------------------------------------------------------------------\n",
      "Intercept      6.4963      0.968      6.709      0.000       4.599       8.394\n",
      "CH_mean       -2.7865      0.092    -30.221      0.000      -2.967      -2.606\n",
      "ARVI_max      -2.9340      5.079     -0.578      0.563     -12.889       7.021\n",
      "ARVI_mean     33.1848     11.608      2.859      0.004      10.433      55.936\n",
      "ARVI_med      -2.5521      7.395     -0.345      0.730     -17.046      11.942\n",
      "EVI_max       -2.6535     10.198     -0.260      0.795     -22.641      17.334\n",
      "EVI_mean     -81.7046     26.766     -3.053      0.002    -134.165     -29.244\n",
      "EVI_med       10.5854     18.908      0.560      0.576     -26.473      47.644\n",
      "NDVI_max      -2.4356      7.022     -0.347      0.729     -16.198      11.327\n",
      "NDVI_mean    -57.4643     15.711     -3.658      0.000     -88.256     -26.672\n",
      "NDVI_med      -2.2030      9.764     -0.226      0.821     -21.340      16.934\n",
      "SAVI_max      11.8540     13.004      0.912      0.362     -13.634      37.342\n",
      "SAVI_mean    125.6860     32.150      3.909      0.000      62.673     188.699\n",
      "SAVI_med     -18.2187     22.027     -0.827      0.408     -61.391      24.954\n",
      "==============================================================================\n",
      "\n",
      "              precision    recall  f1-score   support\n",
      "\n",
      "   non-woody      0.633     0.750     0.687      2088\n",
      "       woody      0.720     0.598     0.653      2251\n",
      "\n",
      "    accuracy                          0.671      4339\n",
      "   macro avg      0.677     0.674     0.670      4339\n",
      "weighted avg      0.679     0.671     0.669      4339\n",
      "\n"
     ]
    }
   ],
   "source": [
    "formula = 'Veg_class ~ CH_mean+ARVI_max+ARVI_mean+ARVI_med+EVI_max+EVI_mean+EVI_med+NDVI_max+NDVI_mean+NDVI_med+SAVI_max+SAVI_mean+SAVI_med'\n",
    "model = smf.glm(formula = formula, data = x_train, family = sm.families.Binomial())\n",
    "\n",
    "# -----------------------------------\n",
    "# This will test your new model; \n",
    "# You don't need to change anything below\n",
    "# -----------------------------------\n",
    "result = model.fit()\n",
    "print(result.summary())\n",
    "print()\n",
    "\n",
    "predictions = result.predict(x_test)\n",
    "predictions_nominal = [\"woody\" if x < 0.5 else \"non-woody\" for x in predictions]\n",
    "print(classification_report(y_test, predictions_nominal, digits = 3))"
   ]
  },
  {
   "cell_type": "markdown",
   "id": "1e1c80bc-69eb-47f2-a303-f910636ef927",
   "metadata": {},
   "source": [
    "### 4. 2017 and 2021 train --> 2021 test\n",
    "    - This is the beginning of the 2017 and 2021 Data being used as training for accuracy. In order to determine accuracy, we use 2021 data. "
   ]
  },
  {
   "cell_type": "code",
   "execution_count": 47,
   "id": "3069b263-a2c7-45cb-b4af-cb2b35e1bdb6",
   "metadata": {},
   "outputs": [
    {
     "data": {
      "text/html": [
       "<div>\n",
       "<style scoped>\n",
       "    .dataframe tbody tr th:only-of-type {\n",
       "        vertical-align: middle;\n",
       "    }\n",
       "\n",
       "    .dataframe tbody tr th {\n",
       "        vertical-align: top;\n",
       "    }\n",
       "\n",
       "    .dataframe thead th {\n",
       "        text-align: right;\n",
       "    }\n",
       "</style>\n",
       "<table border=\"1\" class=\"dataframe\">\n",
       "  <thead>\n",
       "    <tr style=\"text-align: right;\">\n",
       "      <th></th>\n",
       "      <th>OID_</th>\n",
       "      <th>Id</th>\n",
       "      <th>gridcode</th>\n",
       "      <th>Shape_Length</th>\n",
       "      <th>Shape_Area</th>\n",
       "      <th>CH_mean</th>\n",
       "      <th>ARVI_mean</th>\n",
       "      <th>ARVI_med</th>\n",
       "      <th>ARVI_max</th>\n",
       "      <th>EVI_mean</th>\n",
       "      <th>EVI_med</th>\n",
       "      <th>EVI_max</th>\n",
       "      <th>NDVI_mean</th>\n",
       "      <th>NDVI_med</th>\n",
       "      <th>NDVI_max</th>\n",
       "      <th>SAVI_mean</th>\n",
       "      <th>SAVI_med</th>\n",
       "      <th>SAVI_max</th>\n",
       "      <th>Veg_class</th>\n",
       "    </tr>\n",
       "  </thead>\n",
       "  <tbody>\n",
       "    <tr>\n",
       "      <th>0</th>\n",
       "      <td>2</td>\n",
       "      <td>2</td>\n",
       "      <td>2</td>\n",
       "      <td>20.4</td>\n",
       "      <td>2.38</td>\n",
       "      <td>1.000000</td>\n",
       "      <td>0.273945</td>\n",
       "      <td>0.273945</td>\n",
       "      <td>0.273945</td>\n",
       "      <td>0.323257</td>\n",
       "      <td>0.323257</td>\n",
       "      <td>0.323257</td>\n",
       "      <td>0.428208</td>\n",
       "      <td>0.428208</td>\n",
       "      <td>0.428208</td>\n",
       "      <td>0.311936</td>\n",
       "      <td>0.311936</td>\n",
       "      <td>0.311936</td>\n",
       "      <td>woody</td>\n",
       "    </tr>\n",
       "    <tr>\n",
       "      <th>1</th>\n",
       "      <td>3</td>\n",
       "      <td>3</td>\n",
       "      <td>3</td>\n",
       "      <td>8.2</td>\n",
       "      <td>1.32</td>\n",
       "      <td>1.000000</td>\n",
       "      <td>0.530157</td>\n",
       "      <td>0.530157</td>\n",
       "      <td>0.530157</td>\n",
       "      <td>0.460513</td>\n",
       "      <td>0.460513</td>\n",
       "      <td>0.460513</td>\n",
       "      <td>0.611745</td>\n",
       "      <td>0.611745</td>\n",
       "      <td>0.611745</td>\n",
       "      <td>0.416492</td>\n",
       "      <td>0.416492</td>\n",
       "      <td>0.416492</td>\n",
       "      <td>woody</td>\n",
       "    </tr>\n",
       "    <tr>\n",
       "      <th>2</th>\n",
       "      <td>4</td>\n",
       "      <td>4</td>\n",
       "      <td>4</td>\n",
       "      <td>55.8</td>\n",
       "      <td>24.43</td>\n",
       "      <td>0.920000</td>\n",
       "      <td>0.477979</td>\n",
       "      <td>0.501013</td>\n",
       "      <td>0.616707</td>\n",
       "      <td>0.381095</td>\n",
       "      <td>0.384718</td>\n",
       "      <td>0.447304</td>\n",
       "      <td>0.576437</td>\n",
       "      <td>0.596638</td>\n",
       "      <td>0.673767</td>\n",
       "      <td>0.359786</td>\n",
       "      <td>0.364317</td>\n",
       "      <td>0.414173</td>\n",
       "      <td>woody</td>\n",
       "    </tr>\n",
       "    <tr>\n",
       "      <th>3</th>\n",
       "      <td>5</td>\n",
       "      <td>5</td>\n",
       "      <td>5</td>\n",
       "      <td>15.2</td>\n",
       "      <td>1.88</td>\n",
       "      <td>1.000000</td>\n",
       "      <td>0.342944</td>\n",
       "      <td>0.342944</td>\n",
       "      <td>0.342944</td>\n",
       "      <td>0.346714</td>\n",
       "      <td>0.346714</td>\n",
       "      <td>0.346714</td>\n",
       "      <td>0.468738</td>\n",
       "      <td>0.468738</td>\n",
       "      <td>0.468738</td>\n",
       "      <td>0.323907</td>\n",
       "      <td>0.323907</td>\n",
       "      <td>0.323907</td>\n",
       "      <td>woody</td>\n",
       "    </tr>\n",
       "    <tr>\n",
       "      <th>4</th>\n",
       "      <td>6</td>\n",
       "      <td>6</td>\n",
       "      <td>6</td>\n",
       "      <td>27.2</td>\n",
       "      <td>9.29</td>\n",
       "      <td>0.142857</td>\n",
       "      <td>0.044382</td>\n",
       "      <td>-0.008903</td>\n",
       "      <td>0.265536</td>\n",
       "      <td>0.181714</td>\n",
       "      <td>0.147391</td>\n",
       "      <td>0.315684</td>\n",
       "      <td>0.223522</td>\n",
       "      <td>0.178629</td>\n",
       "      <td>0.412030</td>\n",
       "      <td>0.177739</td>\n",
       "      <td>0.147325</td>\n",
       "      <td>0.299311</td>\n",
       "      <td>non-woody</td>\n",
       "    </tr>\n",
       "  </tbody>\n",
       "</table>\n",
       "</div>"
      ],
      "text/plain": [
       "   OID_  Id  gridcode  Shape_Length  Shape_Area   CH_mean  ARVI_mean  \\\n",
       "0     2   2         2          20.4        2.38  1.000000   0.273945   \n",
       "1     3   3         3           8.2        1.32  1.000000   0.530157   \n",
       "2     4   4         4          55.8       24.43  0.920000   0.477979   \n",
       "3     5   5         5          15.2        1.88  1.000000   0.342944   \n",
       "4     6   6         6          27.2        9.29  0.142857   0.044382   \n",
       "\n",
       "   ARVI_med  ARVI_max  EVI_mean   EVI_med   EVI_max  NDVI_mean  NDVI_med  \\\n",
       "0  0.273945  0.273945  0.323257  0.323257  0.323257   0.428208  0.428208   \n",
       "1  0.530157  0.530157  0.460513  0.460513  0.460513   0.611745  0.611745   \n",
       "2  0.501013  0.616707  0.381095  0.384718  0.447304   0.576437  0.596638   \n",
       "3  0.342944  0.342944  0.346714  0.346714  0.346714   0.468738  0.468738   \n",
       "4 -0.008903  0.265536  0.181714  0.147391  0.315684   0.223522  0.178629   \n",
       "\n",
       "   NDVI_max  SAVI_mean  SAVI_med  SAVI_max  Veg_class  \n",
       "0  0.428208   0.311936  0.311936  0.311936      woody  \n",
       "1  0.611745   0.416492  0.416492  0.416492      woody  \n",
       "2  0.673767   0.359786  0.364317  0.414173      woody  \n",
       "3  0.468738   0.323907  0.323907  0.323907      woody  \n",
       "4  0.412030   0.177739  0.147325  0.299311  non-woody  "
      ]
     },
     "execution_count": 47,
     "metadata": {},
     "output_type": "execute_result"
    }
   ],
   "source": [
    "df = pd.concat(map(pd.read_csv, [dataset2021, dataset2017]), ignore_index=True)\n",
    "df.isnull().sum()\n",
    "df.dropna(axis=0,inplace=True)\n",
    "df.head()"
   ]
  },
  {
   "cell_type": "code",
   "execution_count": 48,
   "id": "35dabf8a-4140-4557-aacf-1886f08f2e40",
   "metadata": {},
   "outputs": [
    {
     "data": {
      "text/plain": [
       "OID_            0\n",
       "Id              0\n",
       "gridcode        0\n",
       "Shape_Length    0\n",
       "Shape_Area      0\n",
       "CH_mean         0\n",
       "ARVI_mean       0\n",
       "ARVI_med        0\n",
       "ARVI_max        0\n",
       "EVI_mean        0\n",
       "EVI_med         0\n",
       "EVI_max         0\n",
       "NDVI_mean       0\n",
       "NDVI_med        0\n",
       "NDVI_max        0\n",
       "SAVI_mean       0\n",
       "SAVI_med        0\n",
       "SAVI_max        0\n",
       "Veg_class       0\n",
       "dtype: int64"
      ]
     },
     "execution_count": 48,
     "metadata": {},
     "output_type": "execute_result"
    }
   ],
   "source": [
    "df.isnull().sum()"
   ]
  },
  {
   "cell_type": "code",
   "execution_count": 49,
   "id": "e9606fe0-b83d-4742-854c-ffc034a5e77a",
   "metadata": {},
   "outputs": [],
   "source": [
    "#all of the values used for the Regression\n",
    "formula = 'Veg_class ~ CH_mean+ARVI_max+ARVI_mean+ARVI_med+EVI_max+EVI_mean+EVI_med+NDVI_max+NDVI_mean+NDVI_med+SAVI_max+SAVI_mean+SAVI_med'"
   ]
  },
  {
   "cell_type": "code",
   "execution_count": 50,
   "id": "19e5bc55-b1ac-4867-b52b-8d590a898a69",
   "metadata": {},
   "outputs": [
    {
     "name": "stdout",
     "output_type": "stream",
     "text": [
      "                              Generalized Linear Model Regression Results                               \n",
      "========================================================================================================\n",
      "Dep. Variable:     ['Veg_class[non-woody]', 'Veg_class[woody]']   No. Observations:                11144\n",
      "Model:                                                      GLM   Df Residuals:                    11130\n",
      "Model Family:                                          Binomial   Df Model:                           13\n",
      "Link Function:                                            logit   Scale:                          1.0000\n",
      "Method:                                                    IRLS   Log-Likelihood:                -4893.1\n",
      "Date:                                          Thu, 07 Jul 2022   Deviance:                       9786.2\n",
      "Time:                                                  13:41:04   Pearson chi2:                 1.35e+05\n",
      "No. Iterations:                                               6                                         \n",
      "Covariance Type:                                      nonrobust                                         \n",
      "==============================================================================\n",
      "                 coef    std err          z      P>|z|      [0.025      0.975]\n",
      "------------------------------------------------------------------------------\n",
      "Intercept      6.4963      0.968      6.709      0.000       4.599       8.394\n",
      "CH_mean       -2.7865      0.092    -30.221      0.000      -2.967      -2.606\n",
      "ARVI_max      -2.9340      5.079     -0.578      0.563     -12.889       7.021\n",
      "ARVI_mean     33.1848     11.608      2.859      0.004      10.433      55.936\n",
      "ARVI_med      -2.5521      7.395     -0.345      0.730     -17.046      11.942\n",
      "EVI_max       -2.6535     10.198     -0.260      0.795     -22.641      17.334\n",
      "EVI_mean     -81.7046     26.766     -3.053      0.002    -134.165     -29.244\n",
      "EVI_med       10.5854     18.908      0.560      0.576     -26.473      47.644\n",
      "NDVI_max      -2.4356      7.022     -0.347      0.729     -16.198      11.327\n",
      "NDVI_mean    -57.4643     15.711     -3.658      0.000     -88.256     -26.672\n",
      "NDVI_med      -2.2030      9.764     -0.226      0.821     -21.340      16.934\n",
      "SAVI_max      11.8540     13.004      0.912      0.362     -13.634      37.342\n",
      "SAVI_mean    125.6860     32.150      3.909      0.000      62.673     188.699\n",
      "SAVI_med     -18.2187     22.027     -0.827      0.408     -61.391      24.954\n",
      "==============================================================================\n"
     ]
    }
   ],
   "source": [
    "#running a logistic regression rather than another type of linear\n",
    "model_log = smf.glm(formula = formula, data=df, family=sm.families.Binomial())\n",
    "result = model_log.fit()\n",
    "print(result.summary())"
   ]
  },
  {
   "cell_type": "code",
   "execution_count": 51,
   "id": "1f9200e1-4654-4311-bc29-fb78a12a6c66",
   "metadata": {},
   "outputs": [
    {
     "name": "stdout",
     "output_type": "stream",
     "text": [
      "Coefficeients\n",
      "Intercept      6.496282\n",
      "CH_mean       -2.786500\n",
      "ARVI_max      -2.933987\n",
      "ARVI_mean     33.184765\n",
      "ARVI_med      -2.552092\n",
      "EVI_max       -2.653476\n",
      "EVI_mean     -81.704612\n",
      "EVI_med       10.585350\n",
      "NDVI_max      -2.435573\n",
      "NDVI_mean    -57.464266\n",
      "NDVI_med      -2.202977\n",
      "SAVI_max      11.854024\n",
      "SAVI_mean    125.685962\n",
      "SAVI_med     -18.218685\n",
      "dtype: float64\n",
      "\n",
      "p-Values\n",
      "Intercept     1.952938e-11\n",
      "CH_mean      1.241347e-200\n",
      "ARVI_max      5.634901e-01\n",
      "ARVI_mean     4.252746e-03\n",
      "ARVI_med      7.300127e-01\n",
      "EVI_max       7.947080e-01\n",
      "EVI_mean      2.269064e-03\n",
      "EVI_med       5.755895e-01\n",
      "NDVI_max      7.286970e-01\n",
      "NDVI_mean     2.545025e-04\n",
      "NDVI_med      8.214909e-01\n",
      "SAVI_max      3.620060e-01\n",
      "SAVI_mean     9.254686e-05\n",
      "SAVI_med      4.081794e-01\n",
      "dtype: float64\n",
      "\n",
      "Dependent variables\n",
      "['Veg_class[non-woody]', 'Veg_class[woody]']\n"
     ]
    }
   ],
   "source": [
    "print(\"Coefficeients\")\n",
    "print(result.params)\n",
    "print()\n",
    "print(\"p-Values\")\n",
    "print(result.pvalues)\n",
    "print()\n",
    "print(\"Dependent variables\")\n",
    "print(result.model.endog_names)"
   ]
  },
  {
   "cell_type": "code",
   "execution_count": 52,
   "id": "a1f6a965-cb75-40f9-8915-c61826543860",
   "metadata": {},
   "outputs": [
    {
     "name": "stdout",
     "output_type": "stream",
     "text": [
      "[0.12762222 0.02035982 0.0157795  0.05571907 0.83915937 0.02597373\n",
      " 0.01142133 0.85130544 0.4922311  0.044878  ]\n"
     ]
    }
   ],
   "source": [
    "predictions = result.predict()\n",
    "print(predictions[0:10])"
   ]
  },
  {
   "cell_type": "code",
   "execution_count": 53,
   "id": "e45616ed-a9de-4da6-a369-fe245b675542",
   "metadata": {},
   "outputs": [
    {
     "name": "stdout",
     "output_type": "stream",
     "text": [
      "[['woody' 0.0]\n",
      " ['woody' 0.0]\n",
      " ['woody' 0.0]\n",
      " ...\n",
      " ['woody' 0.0]\n",
      " ['woody' 0.0]\n",
      " ['woody' 0.0]]\n"
     ]
    }
   ],
   "source": [
    "print(np.column_stack((df.loc[:,\"Veg_class\"], result.model.endog)))"
   ]
  },
  {
   "cell_type": "code",
   "execution_count": 54,
   "id": "9a557a68-27d1-4881-aba1-5f00577fdf69",
   "metadata": {},
   "outputs": [
    {
     "name": "stdout",
     "output_type": "stream",
     "text": [
      "['woody', 'woody', 'woody', 'non-woody', 'woody', 'woody', 'non-woody', 'woody', 'woody']\n"
     ]
    }
   ],
   "source": [
    "#shows the first 10 predictions, important to make sure that dummy variables are correct\n",
    "predictions_nominal = [ \"woody\" if x < 0.5 else \"non-woody\" for x in predictions]\n",
    "print(predictions_nominal[1:10])"
   ]
  },
  {
   "cell_type": "code",
   "execution_count": 55,
   "id": "59eeca27-3d5d-428d-b1b5-f3bdc90b2597",
   "metadata": {},
   "outputs": [
    {
     "name": "stdout",
     "output_type": "stream",
     "text": [
      "[[3292 1026]\n",
      " [1310 5516]]\n"
     ]
    }
   ],
   "source": [
    "#predicted is x-axis and truth is y-axis\n",
    "print(confusion_matrix(df[\"Veg_class\"], predictions_nominal))"
   ]
  },
  {
   "cell_type": "code",
   "execution_count": 56,
   "id": "3a2bd947-f810-4753-846b-b7aa9cdc7906",
   "metadata": {},
   "outputs": [
    {
     "data": {
      "text/plain": [
       "woody        6826\n",
       "non-woody    4318\n",
       "Name: Veg_class, dtype: int64"
      ]
     },
     "execution_count": 56,
     "metadata": {},
     "output_type": "execute_result"
    }
   ],
   "source": [
    "df[\"Veg_class\"].value_counts()"
   ]
  },
  {
   "cell_type": "code",
   "execution_count": 57,
   "id": "92f6c26e-f478-4fdb-877b-5d03500197b8",
   "metadata": {},
   "outputs": [
    {
     "name": "stdout",
     "output_type": "stream",
     "text": [
      "              precision    recall  f1-score   support\n",
      "\n",
      "   non-woody      0.715     0.762     0.738      4318\n",
      "       woody      0.843     0.808     0.825      6826\n",
      "\n",
      "    accuracy                          0.790     11144\n",
      "   macro avg      0.779     0.785     0.782     11144\n",
      "weighted avg      0.794     0.790     0.791     11144\n",
      "\n"
     ]
    }
   ],
   "source": [
    "print(classification_report(df[\"Veg_class\"], predictions_nominal, digits = 3))"
   ]
  },
  {
   "cell_type": "code",
   "execution_count": 58,
   "id": "5d9397eb-f349-42e8-9d26-9db4e189ecb1",
   "metadata": {},
   "outputs": [],
   "source": [
    "data = pd.read_csv(dataset2021, index_col=0, parse_dates=True)\n",
    "data.isnull().sum()\n",
    "data.dropna(axis=0,inplace=True)\n",
    "x_train = df[:]\n",
    "y_train = df['Veg_class']\n",
    "\n",
    "x_test = data[:]\n",
    "y_test = data['Veg_class']"
   ]
  },
  {
   "cell_type": "code",
   "execution_count": 59,
   "id": "4f13c9e1-6e58-4c99-b8a7-878f395816c9",
   "metadata": {},
   "outputs": [
    {
     "name": "stdout",
     "output_type": "stream",
     "text": [
      "                              Generalized Linear Model Regression Results                               \n",
      "========================================================================================================\n",
      "Dep. Variable:     ['Veg_class[non-woody]', 'Veg_class[woody]']   No. Observations:                11144\n",
      "Model:                                                      GLM   Df Residuals:                    11130\n",
      "Model Family:                                          Binomial   Df Model:                           13\n",
      "Link Function:                                            logit   Scale:                          1.0000\n",
      "Method:                                                    IRLS   Log-Likelihood:                -4893.1\n",
      "Date:                                          Thu, 07 Jul 2022   Deviance:                       9786.2\n",
      "Time:                                                  13:41:05   Pearson chi2:                 1.35e+05\n",
      "No. Iterations:                                               6                                         \n",
      "Covariance Type:                                      nonrobust                                         \n",
      "==============================================================================\n",
      "                 coef    std err          z      P>|z|      [0.025      0.975]\n",
      "------------------------------------------------------------------------------\n",
      "Intercept      6.4963      0.968      6.709      0.000       4.599       8.394\n",
      "CH_mean       -2.7865      0.092    -30.221      0.000      -2.967      -2.606\n",
      "ARVI_max      -2.9340      5.079     -0.578      0.563     -12.889       7.021\n",
      "ARVI_mean     33.1848     11.608      2.859      0.004      10.433      55.936\n",
      "ARVI_med      -2.5521      7.395     -0.345      0.730     -17.046      11.942\n",
      "EVI_max       -2.6535     10.198     -0.260      0.795     -22.641      17.334\n",
      "EVI_mean     -81.7046     26.766     -3.053      0.002    -134.165     -29.244\n",
      "EVI_med       10.5854     18.908      0.560      0.576     -26.473      47.644\n",
      "NDVI_max      -2.4356      7.022     -0.347      0.729     -16.198      11.327\n",
      "NDVI_mean    -57.4643     15.711     -3.658      0.000     -88.256     -26.672\n",
      "NDVI_med      -2.2030      9.764     -0.226      0.821     -21.340      16.934\n",
      "SAVI_max      11.8540     13.004      0.912      0.362     -13.634      37.342\n",
      "SAVI_mean    125.6860     32.150      3.909      0.000      62.673     188.699\n",
      "SAVI_med     -18.2187     22.027     -0.827      0.408     -61.391      24.954\n",
      "==============================================================================\n"
     ]
    }
   ],
   "source": [
    "model = smf.glm(formula = formula, data = x_train, family = sm.families.Binomial())\n",
    "result = model.fit()\n",
    "print(result.summary())"
   ]
  },
  {
   "cell_type": "code",
   "execution_count": 60,
   "id": "3c75d917-d632-4538-8fd5-e028bda1f29c",
   "metadata": {},
   "outputs": [
    {
     "name": "stdout",
     "output_type": "stream",
     "text": [
      "OID_\n",
      "2       0.127622\n",
      "3       0.020360\n",
      "4       0.015779\n",
      "5       0.055719\n",
      "6       0.839159\n",
      "          ...   \n",
      "7761    0.016081\n",
      "7762    0.005743\n",
      "7763    0.073735\n",
      "7766    0.002478\n",
      "7767    0.018848\n",
      "Length: 6805, dtype: float64\n",
      "              precision    recall  f1-score   support\n",
      "\n",
      "   non-woody      0.810     0.774     0.792      2230\n",
      "       woody      0.892     0.912     0.902      4575\n",
      "\n",
      "    accuracy                          0.867      6805\n",
      "   macro avg      0.851     0.843     0.847      6805\n",
      "weighted avg      0.865     0.867     0.866      6805\n",
      "\n"
     ]
    }
   ],
   "source": [
    "predictions = result.predict(x_test)\n",
    "print(predictions)\n",
    "predictions_nominal = [ \"woody\" if x < 0.5 else \"non-woody\" for x in predictions]\n",
    "print(classification_report(y_test, predictions_nominal, digits = 3))"
   ]
  },
  {
   "cell_type": "code",
   "execution_count": 61,
   "id": "bd9a38ae-e543-41cb-9095-b7c56cf91e90",
   "metadata": {},
   "outputs": [
    {
     "name": "stdout",
     "output_type": "stream",
     "text": [
      "                              Generalized Linear Model Regression Results                               \n",
      "========================================================================================================\n",
      "Dep. Variable:     ['Veg_class[non-woody]', 'Veg_class[woody]']   No. Observations:                11144\n",
      "Model:                                                      GLM   Df Residuals:                    11131\n",
      "Model Family:                                          Binomial   Df Model:                           12\n",
      "Link Function:                                            logit   Scale:                          1.0000\n",
      "Method:                                                    IRLS   Log-Likelihood:                -5542.3\n",
      "Date:                                          Thu, 07 Jul 2022   Deviance:                       11085.\n",
      "Time:                                                  13:41:05   Pearson chi2:                 4.48e+05\n",
      "No. Iterations:                                               6                                         \n",
      "Covariance Type:                                      nonrobust                                         \n",
      "==============================================================================\n",
      "                 coef    std err          z      P>|z|      [0.025      0.975]\n",
      "------------------------------------------------------------------------------\n",
      "Intercept      4.3404      0.949      4.574      0.000       2.480       6.200\n",
      "ARVI_max      -7.5714      4.954     -1.528      0.126     -17.281       2.138\n",
      "ARVI_mean     31.2185     11.219      2.783      0.005       9.230      53.207\n",
      "ARVI_med      -8.9996      7.101     -1.267      0.205     -22.917       4.918\n",
      "EVI_max       -3.1649      9.888     -0.320      0.749     -22.546      16.216\n",
      "EVI_mean     -59.2837     25.619     -2.314      0.021    -109.497      -9.071\n",
      "EVI_med        5.2903     18.198      0.291      0.771     -30.377      40.957\n",
      "NDVI_max       4.7638      6.882      0.692      0.489      -8.726      18.253\n",
      "NDVI_mean    -56.6251     15.250     -3.713      0.000     -86.514     -26.736\n",
      "NDVI_med       6.0424      9.422      0.641      0.521     -12.425      24.510\n",
      "SAVI_max      10.7668     12.658      0.851      0.395     -14.043      35.577\n",
      "SAVI_mean    100.7987     30.864      3.266      0.001      40.307     161.290\n",
      "SAVI_med     -15.7759     21.268     -0.742      0.458     -57.460      25.909\n",
      "==============================================================================\n",
      "\n",
      "              precision    recall  f1-score   support\n",
      "\n",
      "   non-woody      0.736     0.670     0.702      2230\n",
      "       woody      0.846     0.883     0.864      4575\n",
      "\n",
      "    accuracy                          0.813      6805\n",
      "   macro avg      0.791     0.777     0.783      6805\n",
      "weighted avg      0.810     0.813     0.811      6805\n",
      "\n"
     ]
    }
   ],
   "source": [
    "formula = 'Veg_class ~ CH_mean+ARVI_max+ARVI_mean+ARVI_med+EVI_max+EVI_mean+EVI_med+NDVI_max+NDVI_mean+NDVI_med+SAVI_max+SAVI_mean+SAVI_med'\n",
    "model = smf.glm(formula = formula, data = x_train, family = sm.families.Binomial())\n",
    "\n",
    "# -----------------------------------\n",
    "# This will test your new model; \n",
    "# You don't need to change anything below\n",
    "# -----------------------------------\n",
    "result = model.fit()\n",
    "print(result.summary())\n",
    "print()\n",
    "\n",
    "predictions = result.predict(x_test)\n",
    "predictions_nominal = [\"woody\" if x < 0.5 else \"non-woody\" for x in predictions]\n",
    "print(classification_report(y_test, predictions_nominal, digits = 3))"
   ]
  }
 ],
 "metadata": {
  "kernelspec": {
   "display_name": "Python 3 (ipykernel)",
   "language": "python",
   "name": "python3"
  },
  "language_info": {
   "codemirror_mode": {
    "name": "ipython",
    "version": 3
   },
   "file_extension": ".py",
   "mimetype": "text/x-python",
   "name": "python",
   "nbconvert_exporter": "python",
   "pygments_lexer": "ipython3",
   "version": "3.9.7"
  }
 },
 "nbformat": 4,
 "nbformat_minor": 5
}
