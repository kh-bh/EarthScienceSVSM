{
 "cells": [
  {
   "cell_type": "code",
   "execution_count": 1,
   "id": "c4d3533b-f1ed-4a93-abb0-6947e56c24f7",
   "metadata": {},
   "outputs": [
    {
     "name": "stdout",
     "output_type": "stream",
     "text": [
      "C:\\Users\\bhoom\\Earth Science NCSSM\\EarthScienceSVSM GitHub\n"
     ]
    }
   ],
   "source": [
    "import pandas as pd\n",
    "import numpy as np\n",
    "import statsmodels.api as sm\n",
    "import statsmodels.formula.api as smf\n",
    "import os\n",
    "cwd = os.getcwd()\n",
    "print(cwd)"
   ]
  },
  {
   "cell_type": "code",
   "execution_count": 2,
   "id": "c3ba5201-42bc-4a49-aa78-3118d965ffe1",
   "metadata": {},
   "outputs": [],
   "source": [
    "#2017 Data\n",
    "df = pd.read_csv('EDA Analysis Folder/SRER_2017_training_bi.csv', index_col=0, parse_dates=True)\n",
    "df.head()\n",
    "df.isnull().sum()\n",
    "df.dropna(axis=0,inplace=True)"
   ]
  },
  {
   "cell_type": "code",
   "execution_count": 3,
   "id": "3454c0ba-7697-413d-858a-67fce983db38",
   "metadata": {},
   "outputs": [],
   "source": [
    "import statsmodels.formula.api as smf"
   ]
  },
  {
   "cell_type": "code",
   "execution_count": 4,
   "id": "0adf2fa3-7c7d-43b0-9d68-fc997a5f2ef0",
   "metadata": {},
   "outputs": [],
   "source": [
    "formula = 'Veg_class ~ CH_mean+ARVI_max+ARVI_mean+ARVI_med+EVI_max+EVI_mean+EVI_med+NDVI_max+NDVI_mean+NDVI_med+SAVI_max+SAVI_mean+SAVI_med'"
   ]
  },
  {
   "cell_type": "code",
   "execution_count": 5,
   "id": "a10687fd-55ce-44ec-8f93-d3700d5ba11b",
   "metadata": {},
   "outputs": [
    {
     "name": "stdout",
     "output_type": "stream",
     "text": [
      "                              Generalized Linear Model Regression Results                               \n",
      "========================================================================================================\n",
      "Dep. Variable:     ['Veg_class[non-woody]', 'Veg_class[woody]']   No. Observations:                 4339\n",
      "Model:                                                      GLM   Df Residuals:                     4325\n",
      "Model Family:                                          Binomial   Df Model:                           13\n",
      "Link Function:                                            logit   Scale:                          1.0000\n",
      "Method:                                                    IRLS   Log-Likelihood:                -2541.8\n",
      "Date:                                          Wed, 06 Jul 2022   Deviance:                       5083.6\n",
      "Time:                                                  15:39:00   Pearson chi2:                 2.66e+05\n",
      "No. Iterations:                                               8                                         \n",
      "Covariance Type:                                      nonrobust                                         \n",
      "==============================================================================\n",
      "                 coef    std err          z      P>|z|      [0.025      0.975]\n",
      "------------------------------------------------------------------------------\n",
      "Intercept      9.1120      1.775      5.132      0.000       5.632      12.592\n",
      "CH_mean       -8.1961      1.140     -7.190      0.000     -10.430      -5.962\n",
      "ARVI_max      -2.1699      6.280     -0.346      0.730     -14.478      10.139\n",
      "ARVI_mean     36.6061     16.310      2.244      0.025       4.638      68.574\n",
      "ARVI_med       5.9015      8.752      0.674      0.500     -11.252      23.055\n",
      "EVI_max       39.8545     15.430      2.583      0.010       9.612      70.097\n",
      "EVI_mean    -188.1593     46.463     -4.050      0.000    -279.225     -97.093\n",
      "EVI_med       48.4551     27.921      1.735      0.083      -6.269     103.179\n",
      "NDVI_max      -1.7505      8.632     -0.203      0.839     -18.669      15.168\n",
      "NDVI_mean    -54.0205     22.247     -2.428      0.015     -97.624     -10.417\n",
      "NDVI_med     -10.8929     11.425     -0.953      0.340     -33.286      11.500\n",
      "SAVI_max     -34.3296     18.750     -1.831      0.067     -71.078       2.419\n",
      "SAVI_mean    217.8226     54.132      4.024      0.000     111.727     323.918\n",
      "SAVI_med     -54.4792     31.257     -1.743      0.081    -115.743       6.784\n",
      "==============================================================================\n"
     ]
    }
   ],
   "source": [
    "#running a logistic regression rather than another type of linear\n",
    "model_log = smf.glm(formula = formula, data=df, family=sm.families.Binomial())\n",
    "result = model_log.fit()\n",
    "print(result.summary())"
   ]
  },
  {
   "cell_type": "code",
   "execution_count": 6,
   "id": "c25b91a5-50db-41e2-98a6-bf59329bbbef",
   "metadata": {},
   "outputs": [
    {
     "name": "stdout",
     "output_type": "stream",
     "text": [
      "Coefficeients\n",
      "Intercept      9.112032\n",
      "CH_mean       -8.196147\n",
      "ARVI_max      -2.169899\n",
      "ARVI_mean     36.606140\n",
      "ARVI_med       5.901491\n",
      "EVI_max       39.854487\n",
      "EVI_mean    -188.159328\n",
      "EVI_med       48.455148\n",
      "NDVI_max      -1.750538\n",
      "NDVI_mean    -54.020462\n",
      "NDVI_med     -10.892938\n",
      "SAVI_max     -34.329641\n",
      "SAVI_mean    217.822560\n",
      "SAVI_med     -54.479211\n",
      "dtype: float64\n",
      "\n",
      "p-Values\n",
      "Intercept    2.860077e-07\n",
      "CH_mean      6.487483e-13\n",
      "ARVI_max     7.296996e-01\n",
      "ARVI_mean    2.481022e-02\n",
      "ARVI_med     5.001155e-01\n",
      "EVI_max      9.797461e-03\n",
      "EVI_mean     5.129502e-05\n",
      "EVI_med      8.266144e-02\n",
      "NDVI_max     8.392977e-01\n",
      "NDVI_mean    1.517295e-02\n",
      "NDVI_med     3.403718e-01\n",
      "SAVI_max     6.710801e-02\n",
      "SAVI_mean    5.723029e-05\n",
      "SAVI_med     8.134798e-02\n",
      "dtype: float64\n",
      "\n",
      "Dependent variables\n",
      "['Veg_class[non-woody]', 'Veg_class[woody]']\n"
     ]
    }
   ],
   "source": [
    "print(\"Coefficeients\")\n",
    "print(result.params)\n",
    "print()\n",
    "print(\"p-Values\")\n",
    "print(result.pvalues)\n",
    "print()\n",
    "print(\"Dependent variables\")\n",
    "print(result.model.endog_names)"
   ]
  },
  {
   "cell_type": "code",
   "execution_count": 7,
   "id": "e6ba94c8-603a-4e15-8773-fbe502ae8c0c",
   "metadata": {},
   "outputs": [
    {
     "name": "stdout",
     "output_type": "stream",
     "text": [
      "[0.13038227 0.28537094 0.66972367 0.61605885 0.53084829 0.45466805\n",
      " 0.37682633 0.77316985 0.2905401  0.29999304]\n"
     ]
    }
   ],
   "source": [
    "predictions = result.predict()\n",
    "print(predictions[0:10])"
   ]
  },
  {
   "cell_type": "code",
   "execution_count": 8,
   "id": "00bbead3-eaf1-4bce-8a24-889c7c4c8818",
   "metadata": {},
   "outputs": [
    {
     "name": "stdout",
     "output_type": "stream",
     "text": [
      "[['woody' 0.0]\n",
      " ['non-woody' 1.0]\n",
      " ['non-woody' 1.0]\n",
      " ...\n",
      " ['woody' 0.0]\n",
      " ['woody' 0.0]\n",
      " ['woody' 0.0]]\n"
     ]
    }
   ],
   "source": [
    "print(np.column_stack((df.loc[:,\"Veg_class\"], result.model.endog)))"
   ]
  },
  {
   "cell_type": "code",
   "execution_count": 9,
   "id": "5c0055aa-fb19-4b0e-910a-75c965117ca5",
   "metadata": {},
   "outputs": [
    {
     "name": "stdout",
     "output_type": "stream",
     "text": [
      "['woody', 'non-woody', 'non-woody', 'non-woody', 'woody', 'woody', 'non-woody', 'woody', 'woody']\n"
     ]
    }
   ],
   "source": [
    "predictions_nominal = [ \"woody\" if x < 0.5 else \"non-woody\" for x in predictions]\n",
    "print(predictions_nominal[1:10])"
   ]
  },
  {
   "cell_type": "code",
   "execution_count": 10,
   "id": "7b6fcedd-4aa6-4fef-b9b7-5996dcde3ac7",
   "metadata": {},
   "outputs": [
    {
     "name": "stdout",
     "output_type": "stream",
     "text": [
      "[[1497  591]\n",
      " [ 782 1469]]\n"
     ]
    }
   ],
   "source": [
    "from sklearn.metrics import confusion_matrix, classification_report\n",
    "print(confusion_matrix(df[\"Veg_class\"], \n",
    "                       predictions_nominal))"
   ]
  },
  {
   "cell_type": "code",
   "execution_count": 11,
   "id": "e7695352-813d-4ccc-abd0-5caa8e34ec4a",
   "metadata": {},
   "outputs": [
    {
     "data": {
      "text/plain": [
       "woody        2251\n",
       "non-woody    2088\n",
       "Name: Veg_class, dtype: int64"
      ]
     },
     "execution_count": 11,
     "metadata": {},
     "output_type": "execute_result"
    }
   ],
   "source": [
    "df[\"Veg_class\"].value_counts()"
   ]
  },
  {
   "cell_type": "code",
   "execution_count": 12,
   "id": "8b19bc9d-8d75-412d-8200-94b23e380e34",
   "metadata": {},
   "outputs": [
    {
     "name": "stdout",
     "output_type": "stream",
     "text": [
      "              precision    recall  f1-score   support\n",
      "\n",
      "   non-woody      0.657     0.717     0.686      2088\n",
      "       woody      0.713     0.653     0.682      2251\n",
      "\n",
      "    accuracy                          0.684      4339\n",
      "   macro avg      0.685     0.685     0.684      4339\n",
      "weighted avg      0.686     0.684     0.683      4339\n",
      "\n"
     ]
    }
   ],
   "source": [
    "print(classification_report(df[\"Veg_class\"], predictions_nominal, digits = 3))\n",
    "#look at 14"
   ]
  },
  {
   "cell_type": "code",
   "execution_count": 17,
   "id": "7485d042-c773-44d4-8c06-0cc35f0391b5",
   "metadata": {},
   "outputs": [],
   "source": [
    "data = pd.read_csv('EDA Analysis Folder/SRER21_dataset_v1.csv', index_col=0, parse_dates=True)\n",
    "data.isnull().sum()\n",
    "data.dropna(axis=0,inplace=True)\n",
    "x_train = df[:]\n",
    "y_train = df['Veg_class']\n",
    "\n",
    "x_test = data[:]\n",
    "y_test = data['Veg_class']"
   ]
  },
  {
   "cell_type": "code",
   "execution_count": 18,
   "id": "d5a95b1e-ed99-4724-803f-0e9a515d8c19",
   "metadata": {},
   "outputs": [
    {
     "name": "stdout",
     "output_type": "stream",
     "text": [
      "                              Generalized Linear Model Regression Results                               \n",
      "========================================================================================================\n",
      "Dep. Variable:     ['Veg_class[non-woody]', 'Veg_class[woody]']   No. Observations:                 4339\n",
      "Model:                                                      GLM   Df Residuals:                     4325\n",
      "Model Family:                                          Binomial   Df Model:                           13\n",
      "Link Function:                                            logit   Scale:                          1.0000\n",
      "Method:                                                    IRLS   Log-Likelihood:                -2541.8\n",
      "Date:                                          Wed, 06 Jul 2022   Deviance:                       5083.6\n",
      "Time:                                                  15:42:35   Pearson chi2:                 2.66e+05\n",
      "No. Iterations:                                               8                                         \n",
      "Covariance Type:                                      nonrobust                                         \n",
      "==============================================================================\n",
      "                 coef    std err          z      P>|z|      [0.025      0.975]\n",
      "------------------------------------------------------------------------------\n",
      "Intercept      9.1120      1.775      5.132      0.000       5.632      12.592\n",
      "CH_mean       -8.1961      1.140     -7.190      0.000     -10.430      -5.962\n",
      "ARVI_max      -2.1699      6.280     -0.346      0.730     -14.478      10.139\n",
      "ARVI_mean     36.6061     16.310      2.244      0.025       4.638      68.574\n",
      "ARVI_med       5.9015      8.752      0.674      0.500     -11.252      23.055\n",
      "EVI_max       39.8545     15.430      2.583      0.010       9.612      70.097\n",
      "EVI_mean    -188.1593     46.463     -4.050      0.000    -279.225     -97.093\n",
      "EVI_med       48.4551     27.921      1.735      0.083      -6.269     103.179\n",
      "NDVI_max      -1.7505      8.632     -0.203      0.839     -18.669      15.168\n",
      "NDVI_mean    -54.0205     22.247     -2.428      0.015     -97.624     -10.417\n",
      "NDVI_med     -10.8929     11.425     -0.953      0.340     -33.286      11.500\n",
      "SAVI_max     -34.3296     18.750     -1.831      0.067     -71.078       2.419\n",
      "SAVI_mean    217.8226     54.132      4.024      0.000     111.727     323.918\n",
      "SAVI_med     -54.4792     31.257     -1.743      0.081    -115.743       6.784\n",
      "==============================================================================\n"
     ]
    }
   ],
   "source": [
    "model = smf.glm(formula = formula, data = x_train, family = sm.families.Binomial())\n",
    "result = model.fit()\n",
    "print(result.summary())"
   ]
  },
  {
   "cell_type": "code",
   "execution_count": 20,
   "id": "53c59c42-14d7-47e9-a275-5ffe1ecb9dab",
   "metadata": {},
   "outputs": [
    {
     "name": "stdout",
     "output_type": "stream",
     "text": [
      "OID_\n",
      "2       0.000182\n",
      "3       0.000022\n",
      "4       0.000116\n",
      "5       0.000089\n",
      "6       0.535308\n",
      "          ...   \n",
      "7761    0.000749\n",
      "7762    0.000054\n",
      "7763    0.005361\n",
      "7766    0.001169\n",
      "7767    0.001433\n",
      "Length: 6805, dtype: float64\n",
      "              precision    recall  f1-score   support\n",
      "\n",
      "   non-woody      0.850     0.323     0.468      2230\n",
      "       woody      0.747     0.972     0.845      4575\n",
      "\n",
      "    accuracy                          0.759      6805\n",
      "   macro avg      0.798     0.648     0.656      6805\n",
      "weighted avg      0.780     0.759     0.721      6805\n",
      "\n"
     ]
    }
   ],
   "source": [
    "predictions = result.predict(x_test)\n",
    "print(predictions)\n",
    "predictions_nominal = [ \"woody\" if x < 0.5 else \"non-woody\" for x in predictions]\n",
    "print(classification_report(y_test, predictions_nominal, digits = 3))"
   ]
  },
  {
   "cell_type": "code",
   "execution_count": null,
   "id": "4215e5d9-9913-4ede-b743-2267bab7fe9a",
   "metadata": {},
   "outputs": [],
   "source": [
    "#look at 17"
   ]
  }
 ],
 "metadata": {
  "kernelspec": {
   "display_name": "Python 3 (ipykernel)",
   "language": "python",
   "name": "python3"
  },
  "language_info": {
   "codemirror_mode": {
    "name": "ipython",
    "version": 3
   },
   "file_extension": ".py",
   "mimetype": "text/x-python",
   "name": "python",
   "nbconvert_exporter": "python",
   "pygments_lexer": "ipython3",
   "version": "3.9.7"
  }
 },
 "nbformat": 4,
 "nbformat_minor": 5
}
