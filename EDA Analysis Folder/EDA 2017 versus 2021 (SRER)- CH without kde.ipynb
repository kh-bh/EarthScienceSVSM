{
 "cells": [
  {
   "cell_type": "code",
   "execution_count": 1,
   "id": "27da531c",
   "metadata": {},
   "outputs": [],
   "source": [
    "import numpy as np\n",
    "import matplotlib.pyplot as plt\n",
    "import os\n",
    "import pandas as pd\n",
    "import seaborn as sns"
   ]
  },
  {
   "cell_type": "code",
   "execution_count": 2,
   "id": "cab4d381",
   "metadata": {},
   "outputs": [],
   "source": [
    "#OID_,Id,gridcode,Shape_Length,Shape_Area,CH_mean,ARVI_mean,ARVI_med,ARVI_max,EVI_mean,EVI_med,EVI_max,NDVI_mean,NDVI_med,NDVI_max,SAVI_mean,SAVI_med,SAVI_max,Veg_class\n",
    "\n",
    "# CH - Canopy Height (meters)\n",
    "# ARVI - atmospherically resistant vegetation index\n",
    "# EVI - enhanced vegetation index\n",
    "# NDVI - normalized difference vegetation index\n",
    "# SAVI - soil-adjusted vegetation index\n",
    "# Veg_class - vegetation classification"
   ]
  },
  {
   "cell_type": "code",
   "execution_count": 3,
   "id": "5f586bbe",
   "metadata": {},
   "outputs": [],
   "source": [
    "data = pd.read_csv(\"SRER21_dataset_v1.csv\")\n",
    "df = pd.read_csv(\"SRER_2017_training_bi.csv\")"
   ]
  },
  {
   "cell_type": "code",
   "execution_count": 4,
   "id": "3a8adcc0",
   "metadata": {},
   "outputs": [],
   "source": [
    "#dropping the null values\n",
    "df.isnull().sum()\n",
    "df.dropna(axis=0,inplace=True)\n",
    "data.isnull().sum()\n",
    "data.dropna(axis=0,inplace=True)"
   ]
  },
  {
   "cell_type": "code",
   "execution_count": 5,
   "id": "49c6d785",
   "metadata": {},
   "outputs": [
    {
     "data": {
      "text/plain": [
       "OID_            0\n",
       "Id              0\n",
       "gridcode        0\n",
       "Shape_Length    0\n",
       "Shape_Area      0\n",
       "CH_mean         0\n",
       "ARVI_max        0\n",
       "ARVI_mean       0\n",
       "ARVI_med        0\n",
       "EVI_max         0\n",
       "EVI_mean        0\n",
       "EVI_med         0\n",
       "NDVI_max        0\n",
       "NDVI_mean       0\n",
       "NDVI_med        0\n",
       "SAVI_max        0\n",
       "SAVI_mean       0\n",
       "SAVI_med        0\n",
       "Veg_class       0\n",
       "dtype: int64"
      ]
     },
     "execution_count": 5,
     "metadata": {},
     "output_type": "execute_result"
    }
   ],
   "source": [
    "df.isnull().sum()"
   ]
  },
  {
   "cell_type": "code",
   "execution_count": 6,
   "id": "d649299b",
   "metadata": {},
   "outputs": [
    {
     "data": {
      "text/plain": [
       "OID_            0\n",
       "Id              0\n",
       "gridcode        0\n",
       "Shape_Length    0\n",
       "Shape_Area      0\n",
       "CH_mean         0\n",
       "ARVI_mean       0\n",
       "ARVI_med        0\n",
       "ARVI_max        0\n",
       "EVI_mean        0\n",
       "EVI_med         0\n",
       "EVI_max         0\n",
       "NDVI_mean       0\n",
       "NDVI_med        0\n",
       "NDVI_max        0\n",
       "SAVI_mean       0\n",
       "SAVI_med        0\n",
       "SAVI_max        0\n",
       "Veg_class       0\n",
       "dtype: int64"
      ]
     },
     "execution_count": 6,
     "metadata": {},
     "output_type": "execute_result"
    }
   ],
   "source": [
    "data.isnull().sum()"
   ]
  },
  {
   "cell_type": "code",
   "execution_count": 15,
   "id": "f07aa599",
   "metadata": {},
   "outputs": [
    {
     "data": {
      "image/png": "[encoded data removed]",
      "text/plain": [
       "<Figure size 720x576 with 1 Axes>"
      ]
     },
     "metadata": {},
     "output_type": "display_data"
    }
   ],
   "source": [
    "category = [\"CH_mean\"]\n",
    "plt.rcParams.update({'axes.facecolor':'white'})\n",
    "\n",
    "for i in category:\n",
    "    plt.figure(figsize=(10,8))\n",
    "    plt.grid(b=None)\n",
    "    sns.histplot(x=df[i],bins =20, color=\"#f39e53\", alpha = .6)\n",
    "    sns.histplot(x=data[i],bins=20, color=\"#8B5FBF\", alpha = .5)\n",
    "    plt.legend(['2017', '2021'])\n",
    "    plt.ylabel(\"Number of Records\")\n",
    "    if i == \"CH_mean\":\n",
    "        plt.title(\"Canopy Height (CH) Mean Histogram with Probability Density Function\")\n",
    "        plt.xlabel(\"Canopy Height (CH) mean (meters)\")\n",
    "    "
   ]
  },
  {
   "cell_type": "code",
   "execution_count": null,
   "id": "1e4639f2",
   "metadata": {},
   "outputs": [],
   "source": []
  },
  {
   "cell_type": "code",
   "execution_count": null,
   "id": "0390ed0c-0837-4070-a796-1dd0da5c78dd",
   "metadata": {},
   "outputs": [],
   "source": []
  }
 ],
 "metadata": {
  "kernelspec": {
   "display_name": "Python 3 (ipykernel)",
   "language": "python",
   "name": "python3"
  },
  "language_info": {
   "codemirror_mode": {
    "name": "ipython",
    "version": 3
   },
   "file_extension": ".py",
   "mimetype": "text/x-python",
   "name": "python",
   "nbconvert_exporter": "python",
   "pygments_lexer": "ipython3",
   "version": "3.9.7"
  }
 },
 "nbformat": 4,
 "nbformat_minor": 5
}
