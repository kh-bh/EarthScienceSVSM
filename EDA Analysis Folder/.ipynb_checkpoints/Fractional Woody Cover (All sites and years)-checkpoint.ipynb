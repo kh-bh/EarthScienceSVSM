{
 "cells": [
  {
   "cell_type": "markdown",
   "id": "6179ddc3",
   "metadata": {},
   "source": [
    "# Fractional Woody Cover (FWC)"
   ]
  },
  {
   "cell_type": "code",
   "execution_count": 1,
   "id": "1267010e",
   "metadata": {},
   "outputs": [],
   "source": [
    "import numpy as np\n",
    "import matplotlib.pyplot as plt\n",
    "import os\n",
    "import pandas as pd\n",
    "import seaborn as sns"
   ]
  },
  {
   "cell_type": "code",
   "execution_count": 2,
   "id": "592e52dc",
   "metadata": {},
   "outputs": [],
   "source": [
    "#OID_,Id,gridcode,Shape_Length,Shape_Area,CH_mean,ARVI_mean,ARVI_med,ARVI_max,EVI_mean,EVI_med,EVI_max,NDVI_mean,NDVI_med,NDVI_max,SAVI_mean,SAVI_med,SAVI_max,Veg_class\n",
    "\n",
    "# CH - Canopy Height (meters)\n",
    "# ARVI - atmospherically resistant vegetation index\n",
    "# EVI - enhanced vegetation index\n",
    "# NDVI - normalized difference vegetation index\n",
    "# SAVI - soil-adjusted vegetation index\n",
    "# Veg_class - vegetation classification"
   ]
  },
  {
   "cell_type": "markdown",
   "id": "9bf85b51",
   "metadata": {},
   "source": [
    "### Santa Rita Experimental Range Data (2017)"
   ]
  },
  {
   "cell_type": "code",
   "execution_count": 3,
   "id": "28f10c2d",
   "metadata": {},
   "outputs": [],
   "source": [
    "#SRER 2017 Data\n",
    "df1 = pd.read_csv(\"SRER_2017_training_bi.csv\")\n",
    "df1.isnull().sum()\n",
    "df1.dropna(axis=0,inplace=True)"
   ]
  },
  {
   "cell_type": "code",
   "execution_count": 4,
   "id": "64abbfe2",
   "metadata": {},
   "outputs": [
    {
     "name": "stdout",
     "output_type": "stream",
     "text": [
      "The Fractional Woody cover of 2017 at Site SRER is 34.81%.\n"
     ]
    }
   ],
   "source": [
    "totalareaS17 = 0\n",
    "woodyareaS17 = 0\n",
    "nonwoodyareaS17 = 0\n",
    " \n",
    "\n",
    "shapeareaS17 = df1[\"Shape_Area\"]\n",
    "vegclassiS17 = df1[\"Veg_class\"]\n",
    "\n",
    "for x in df1.index:\n",
    "    totalareaS17 += shapeareaS17[x]\n",
    "    if vegclassiS17[x] == \"woody\":\n",
    "        woodyareaS17 += shapeareaS17[x]\n",
    "    if vegclassiS17[x] == \"non-woody\":\n",
    "        nonwoodyareaS17 += shapeareaS17[x]\n",
    "\n",
    "FWCS17 = woodyareaS17 / totalareaS17 * 100\n",
    "\n",
    "format_FWCS17 = \"{:.2f}\".format(FWCS17)\n",
    "print(\"The Fractional Woody cover of 2017 at Site SRER is \" + format_FWCS17 + \"%.\")"
   ]
  },
  {
   "cell_type": "markdown",
   "id": "93fbfa4c",
   "metadata": {},
   "source": [
    "### Santa Rita Experimental Range Data (2021) "
   ]
  },
  {
   "cell_type": "code",
   "execution_count": 5,
   "id": "6d1697fc",
   "metadata": {},
   "outputs": [],
   "source": [
    "df2 = pd.read_csv(\"SRER21_dataset_v1.csv\")\n",
    "df2.isnull().sum()\n",
    "df2.dropna(axis=0,inplace=True)"
   ]
  },
  {
   "cell_type": "code",
   "execution_count": 6,
   "id": "6455b87a",
   "metadata": {},
   "outputs": [
    {
     "name": "stdout",
     "output_type": "stream",
     "text": [
      "The Fractional Woody cover of 2021 at Site SRER is 55.28%.\n"
     ]
    }
   ],
   "source": [
    "totalareaS21 = 0\n",
    "woodyareaS21 = 0\n",
    "nonwoodyareaS21 = 0\n",
    " \n",
    "\n",
    "shapeareaS21 = df2[\"Shape_Area\"]\n",
    "vegclassiS21 = df2[\"Veg_class\"]\n",
    "\n",
    "for x in df2.index:\n",
    "    totalareaS21 += shapeareaS21[x]\n",
    "    if vegclassiS21[x] == \"woody\":\n",
    "        woodyareaS21 += shapeareaS21[x]\n",
    "    if vegclassiS21[x] == \"non-woody\":\n",
    "        nonwoodyareaS21 += shapeareaS21[x]\n",
    "\n",
    "FWCS21 = woodyareaS21 / totalareaS21 * 100\n",
    "\n",
    "format_FWCS21 = \"{:.2f}\".format(FWCS21)\n",
    "print(\"The Fractional Woody cover of 2021 at Site SRER is \" + format_FWCS21 + \"%.\")"
   ]
  },
  {
   "cell_type": "markdown",
   "id": "4e9123f3",
   "metadata": {},
   "source": [
    "### Jornada Experimental Range Data (2017) "
   ]
  },
  {
   "cell_type": "code",
   "execution_count": 7,
   "id": "2075fdd6",
   "metadata": {},
   "outputs": [],
   "source": [
    "df3 = pd.read_csv(\"JORN17_dataset_v2.csv\")\n",
    "df3.isnull().sum()\n",
    "df3.dropna(axis=0,inplace=True)"
   ]
  },
  {
   "cell_type": "code",
   "execution_count": 9,
   "id": "80ba7a38",
   "metadata": {},
   "outputs": [
    {
     "name": "stdout",
     "output_type": "stream",
     "text": [
      "The Fractional Woody cover of 2017 at Site JORN is 19.14%.\n"
     ]
    }
   ],
   "source": [
    "totalareaJ17 = 0\n",
    "woodyareaJ17 = 0\n",
    "nonwoodyareaJ17 = 0\n",
    " \n",
    "\n",
    "shapeareaJ17 = df3[\"Shape_Area\"]\n",
    "vegclassiJ17 = df3[\"Veg_class\"]\n",
    "\n",
    "for x in df3.index:\n",
    "    totalareaJ17 += shapeareaJ17[x]\n",
    "    if vegclassiJ17[x] == \"woody\":\n",
    "        woodyareaJ17 += shapeareaJ17[x]\n",
    "    if vegclassiJ17[x] == \"non-woody\":\n",
    "        nonwoodyareaJ17 += shapeareaJ17[x]\n",
    "\n",
    "FWCJ17 = woodyareaJ17 / totalareaJ17 * 100\n",
    "\n",
    "format_FWCJ17 = \"{:.2f}\".format(FWCJ17)\n",
    "print(\"The Fractional Woody cover of 2017 at Site JORN is \" + format_FWCJ17 + \"%.\")"
   ]
  },
  {
   "cell_type": "code",
   "execution_count": null,
   "id": "592006ff",
   "metadata": {},
   "outputs": [],
   "source": []
  }
 ],
 "metadata": {
  "kernelspec": {
   "display_name": "Python 3 (ipykernel)",
   "language": "python",
   "name": "python3"
  },
  "language_info": {
   "codemirror_mode": {
    "name": "ipython",
    "version": 3
   },
   "file_extension": ".py",
   "mimetype": "text/x-python",
   "name": "python",
   "nbconvert_exporter": "python",
   "pygments_lexer": "ipython3",
   "version": "3.9.7"
  }
 },
 "nbformat": 4,
 "nbformat_minor": 5
}
