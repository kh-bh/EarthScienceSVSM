{
 "cells": [
  {
   "cell_type": "code",
   "execution_count": 1,
   "id": "2c4277ef",
   "metadata": {},
   "outputs": [],
   "source": [
    "#The only thing to include in the paper/presentation from this code is the bar graph\n",
    "import random\n",
    "import numpy as np\n",
    "from matplotlib import pyplot as plt\n",
    "from sklearn import preprocessing\n",
    "#import wfdb\n",
    "import copy as cp\n",
    "import scipy.signal as signal\n",
    "import pickle\n",
    "from sklearn import preprocessing\n",
    "from tqdm import tqdm\n",
    "import os\n",
    "import re\n",
    "import pandas as pd\n",
    "import csv\n",
    "\n",
    "from sklearn.linear_model import LogisticRegression\n",
    "from sklearn import neighbors\n",
    "from sklearn.discriminant_analysis import LinearDiscriminantAnalysis \n",
    "from sklearn.discriminant_analysis import QuadraticDiscriminantAnalysis\n",
    "\n",
    "from sklearn.metrics import confusion_matrix, classification_report\n",
    "from sklearn.model_selection import KFold\n",
    "from sklearn.metrics import accuracy_score\n",
    "from sklearn.model_selection import cross_val_score\n",
    "from time import time\n",
    "import timeit\n",
    "\n",
    "random.seed(1000)"
   ]
  },
  {
   "cell_type": "code",
   "execution_count": 2,
   "id": "a186166b",
   "metadata": {},
   "outputs": [
    {
     "name": "stderr",
     "output_type": "stream",
     "text": [
      "C:\\Users\\LMS-Khatrib\\AppData\\Local\\Temp\\ipykernel_12684\\3159236473.py:12: DeprecationWarning: `set_matplotlib_formats` is deprecated since IPython 7.23, directly use `matplotlib_inline.backend_inline.set_matplotlib_formats()`\n",
      "  set_matplotlib_formats('retina')\n"
     ]
    }
   ],
   "source": [
    "%matplotlib inline\n",
    "plt.rcParams['figure.dpi'] = 70 #display 70 dpi in Jupyter Notebook, may consider100 dpi \n",
    "plt.rcParams['savefig.dpi'] = 300 #define 300 dpi for saving figures\n",
    "\n",
    "import seaborn as sns\n",
    "## here are some settings \n",
    "sns.set_style('whitegrid')\n",
    "sns.set(rc={\"figure.dpi\":70, 'savefig.dpi':300}) #defining dpi setting\n",
    "sns.set_context('notebook')\n",
    "sns.set_style(\"ticks\")\n",
    "from IPython.display import set_matplotlib_formats\n",
    "set_matplotlib_formats('retina')\n",
    "\n",
    "#sns.set(rc={'figure.figsize':(11.7,8.27)})"
   ]
  },
  {
   "cell_type": "markdown",
   "id": "e292e12b-2660-4b05-811b-869e701034c5",
   "metadata": {},
   "source": [
    "# Side to side comparison plots"
   ]
  },
  {
   "cell_type": "code",
   "execution_count": 3,
   "id": "440be31b",
   "metadata": {},
   "outputs": [],
   "source": [
    "statallfeatures_dic = {\n",
    "    'Run Time': [],\n",
    "    'Accuracy': [],   ## To store the MEAN accuracy for 5-fold CV for each model\n",
    "    'Standard Error': [],\n",
    "    'Sensitivity': [],\n",
    "    'Specificity': [],\n",
    "    'Precision': [],\n",
    "    'F1_Score': []   \n",
    "}"
   ]
  },
  {
   "cell_type": "code",
   "execution_count": 4,
   "id": "7b81d6bf",
   "metadata": {},
   "outputs": [],
   "source": [
    "## To store the accuracy for 5-fold CV for each model\n",
    "indaccs_dic = {}"
   ]
  },
  {
   "cell_type": "markdown",
   "id": "fa665f99",
   "metadata": {},
   "source": [
    "2017 train -> 2021 test"
   ]
  },
  {
   "cell_type": "code",
   "execution_count": 5,
   "id": "03762809",
   "metadata": {},
   "outputs": [],
   "source": [
    "test1_df = pd.read_csv('SRER_2017_training_bi.csv', na_values='?').dropna()\n",
    "train1_df = pd.read_csv('JORN17_dataset_v2.csv', na_values='?').dropna()\n",
    "test_df = test1_df.reindex(columns = [\"OID_\", \"Id\", \"gridcode\",\"Shape_Length\", \"Shape_Area\",\"CH_mean\", \"ARVI_mean\",\"ARVI_max\",\"ARVI_med\",\"EVI_mean\",\"EVI_max\",\"EVI_med\",\"NDVI_mean\",\"NDVI_max\",\"NDVI_med\",\"SAVI_mean\",\"SAVI_max\",\"SAVI_med\", \"Veg_class\"])\n",
    "train_df= train1_df.reindex(columns = [\"OID_\", \"Id\", \"gridcode\",\"Shape_Length\", \"Shape_Area\",\"CH_mean\", \"ARVI_mean\",\"ARVI_max\",\"ARVI_med\",\"EVI_mean\",\"EVI_max\",\"EVI_med\",\"NDVI_mean\",\"NDVI_max\",\"NDVI_med\",\"SAVI_mean\",\"SAVI_max\",\"SAVI_med\", \"Veg_class\"])\n",
    "bigtest1_df = pd.read_csv('SRER17_pred.csv', na_values='?')\n",
    "bg1 = bigtest1_df.drop(columns=[\"Veg_class\"])\n",
    "#OID__x,Id,gridcode,Shape_Length,Shape_Area,CH_mean,ARVI_mean,ARVI_max,ARVI_med,EVI_mean,EVI_max,EVI_med,NDVI_mean,NDVI_max,NDVI_med,SAVI_mean,SAVI_max,SAVI_med,Veg_class\n",
    "bigtest_df = bg1.dropna()\n",
    "bigtest_df = bigtest_df.reindex(columns = [\"OID_\", \"Id\", \"gridcode\",\"Shape_Length\", \"Shape_Area\",\"CH_mean\", \"ARVI_mean\",\"ARVI_max\",\"ARVI_med\",\"EVI_mean\",\"EVI_max\",\"EVI_med\",\"NDVI_mean\",\"NDVI_max\",\"NDVI_med\",\"SAVI_mean\",\"SAVI_max\",\"SAVI_med\", \"Veg_class\"]).fillna(0)"
   ]
  },
  {
   "cell_type": "code",
   "execution_count": 6,
   "id": "d180c540",
   "metadata": {},
   "outputs": [
    {
     "name": "stdout",
     "output_type": "stream",
     "text": [
      "---Run time is 0.029562800000000777 seconds ---\n",
      "\n",
      "Accuracy of each fold: \n",
      " [0.6962264150943396, 0.7, 0.7320754716981132, 0.7169811320754716, 0.722117202268431]\n",
      "Avg accuracy: 0.7134800442272711\n",
      "Std of accuracy : \n",
      "0.013505904994468661\n",
      "\n",
      "[[ 521  456]\n",
      " [ 303 1369]]\n",
      "\n",
      "              precision    recall  f1-score   support\n",
      "\n",
      "   non-woody       0.63      0.53      0.58       977\n",
      "       woody       0.75      0.82      0.78      1672\n",
      "\n",
      "    accuracy                           0.71      2649\n",
      "   macro avg       0.69      0.68      0.68      2649\n",
      "weighted avg       0.71      0.71      0.71      2649\n",
      "\n",
      "0.5332650972364381\n",
      "0.81877990430622\n",
      "0.6322815533980582\n",
      "0.5785674625208218\n"
     ]
    }
   ],
   "source": [
    "#Logistic Regression\n",
    "\n",
    "kf = KFold(n_splits=5, random_state=3, shuffle=True)\n",
    "model = LogisticRegression(solver='liblinear')\n",
    "\n",
    "start_time = timeit.default_timer()\n",
    "\n",
    "acc_score = []\n",
    "Truth = []\n",
    "Output = []\n",
    "\n",
    "testindex8 = []\n",
    "testindex9 = []\n",
    "\n",
    "for train_index, test_index in kf.split(train_df): \n",
    "    X_train = train_df.iloc[train_index, 5:18]\n",
    "    X_test = train_df.iloc[test_index, 5:18]\n",
    "    Y_train = train_df.iloc[train_index, -1]\n",
    "    Y_test = train_df.iloc[test_index, -1]\n",
    "\n",
    "    model.fit(X_train, Y_train)\n",
    "    pred_values = model.predict(X_test)\n",
    "\n",
    "    acc = accuracy_score(Y_test, pred_values)\n",
    "    acc_score.append(acc)\n",
    "\n",
    "    Truth.extend(Y_test.values.reshape(Y_test.shape[0])) \n",
    "    Output.extend(pred_values)\n",
    "\n",
    "    testindex8.append(test_index)\n",
    "    testindex9.append(pred_values)\n",
    "    \n",
    "elapsed = timeit.default_timer() - start_time\n",
    "\n",
    "\n",
    "\n",
    "print(\"---Run time is %s seconds ---\" % elapsed)\n",
    "print()\n",
    "print('Accuracy of each fold: \\n {}'.format(acc_score))\n",
    "print(\"Avg accuracy: {}\".format(np.mean(acc_score)))\n",
    "print('Std of accuracy : \\n{}'.format(np.std(acc_score)))\n",
    "print()\n",
    "print(confusion_matrix(Truth, Output))\n",
    "print()\n",
    "print(classification_report(Truth, Output))\n",
    "\n",
    "cm = confusion_matrix(Truth, Output)\n",
    "\n",
    "sensitivity = cm[0][0]/(cm[0][0]+cm[0][1])\n",
    "specificity = cm[1][1]/(cm[1][0]+cm[1][1])\n",
    "precision = (cm[0][0])/(cm[0][0]+cm[1][0])\n",
    "f1_score = (2*precision*sensitivity)/(precision+sensitivity)\n",
    "\n",
    "print(sensitivity)\n",
    "print(specificity)\n",
    "print(precision)\n",
    "print(f1_score)\n",
    "\n",
    "statallfeatures_dic['Run Time'].append(elapsed)\n",
    "statallfeatures_dic['Accuracy'].append(np.mean(acc_score))\n",
    "statallfeatures_dic['Standard Error'].append(np.std(acc_score))\n",
    "statallfeatures_dic['Sensitivity'].append(sensitivity)\n",
    "statallfeatures_dic['Specificity'].append(specificity)\n",
    "statallfeatures_dic['Precision'].append(precision)\n",
    "statallfeatures_dic['F1_Score'].append(f1_score)\n",
    "\n",
    "indaccs_dic['LogReg']=acc_score"
   ]
  },
  {
   "cell_type": "code",
   "execution_count": 7,
   "id": "72b6bbdb",
   "metadata": {
    "scrolled": true
   },
   "outputs": [
    {
     "name": "stdout",
     "output_type": "stream",
     "text": [
      "[[1731  357]\n",
      " [1072 1179]]\n",
      "\n",
      "              precision    recall  f1-score   support\n",
      "\n",
      "   non-woody       0.62      0.83      0.71      2088\n",
      "       woody       0.77      0.52      0.62      2251\n",
      "\n",
      "    accuracy                           0.67      4339\n",
      "   macro avg       0.69      0.68      0.67      4339\n",
      "weighted avg       0.70      0.67      0.66      4339\n",
      "\n",
      "predicted ['woody' 'woody' 'non-woody' ... 'woody' 'woody' 'woody']\n",
      "acc 0.6706614427287393\n",
      "sens  0.5237672145713016\n",
      "spec  0.8290229885057471\n",
      "prec  0.6175526221905102\n",
      "f1_score  0.7078307094663668\n"
     ]
    }
   ],
   "source": [
    "Truth2 = []\n",
    "Output2 = []\n",
    "testing = test_df.iloc[:,-1]\n",
    "model.fit(train_df.iloc[:,5:18],train_df.iloc[:,-1])\n",
    "predicted = model.predict(test_df.iloc[:,5:18])\n",
    "acc = accuracy_score(testing, predicted)\n",
    "Truth2.extend(testing.values.reshape(testing.shape[0])); ## it is a list\n",
    "Output2.extend(predicted);\n",
    "print(confusion_matrix(Truth2, Output2))\n",
    "print()\n",
    "print(classification_report(Truth2, Output2))\n",
    "cm2 = confusion_matrix(Truth2, Output2)\n",
    "sensitivity = cm2[0][0]/(cm2[0][0]+cm2[0][1])\n",
    "specificity = cm2[1][1]/(cm2[1][0]+cm2[1][1])\n",
    "precision = (cm2[0][0])/(cm2[0][0]+cm2[1][0])\n",
    "f1_score = (2*precision*sensitivity)/(precision+sensitivity)\n",
    "print(\"predicted\",predicted)\n",
    "print(\"acc\",acc)\n",
    "print(\"sens \",specificity)\n",
    "print(\"spec \", sensitivity)\n",
    "print(\"prec \", precision)\n",
    "print(\"f1_score \", f1_score)"
   ]
  },
  {
   "cell_type": "code",
   "execution_count": 8,
   "id": "68e081b7",
   "metadata": {},
   "outputs": [],
   "source": [
    "finalPredicted = model.predict(bigtest_df.iloc[:,5:18])\n",
    "bigtest_df[\"Veg_class\"] = finalPredicted\n"
   ]
  },
  {
   "cell_type": "code",
   "execution_count": 9,
   "id": "a10c15a5",
   "metadata": {},
   "outputs": [
    {
     "data": {
      "text/plain": [
       "OID_              int64\n",
       "Id                int64\n",
       "gridcode          int64\n",
       "Shape_Length    float64\n",
       "Shape_Area      float64\n",
       "CH_mean         float64\n",
       "ARVI_mean       float64\n",
       "ARVI_max        float64\n",
       "ARVI_med        float64\n",
       "EVI_mean        float64\n",
       "EVI_max         float64\n",
       "EVI_med         float64\n",
       "NDVI_mean       float64\n",
       "NDVI_max        float64\n",
       "NDVI_med        float64\n",
       "SAVI_mean       float64\n",
       "SAVI_max        float64\n",
       "SAVI_med        float64\n",
       "Veg_class        object\n",
       "dtype: object"
      ]
     },
     "execution_count": 9,
     "metadata": {},
     "output_type": "execute_result"
    }
   ],
   "source": [
    "bigtest_df.dtypes"
   ]
  },
  {
   "cell_type": "code",
   "execution_count": 10,
   "id": "d4ae8d54",
   "metadata": {},
   "outputs": [
    {
     "name": "stdout",
     "output_type": "stream",
     "text": [
      "624339.2799997175\n",
      "1220676.2000002437\n",
      "1845015.4800000053\n"
     ]
    }
   ],
   "source": [
    "#FWC (woo!) --> fix this\n",
    "\n",
    "woodyarea = 0\n",
    "nonwoodyarea = 0 \n",
    "totalarea = 0\n",
    "index = 0\n",
    "woody = 0\n",
    "nw = 0\n",
    "#print(bigtest_df.iat[index,4])\n",
    "area = bigtest_df[\"Shape_Area\"]\n",
    "#print(area)\n",
    "\n",
    "for i in bigtest_df[\"Veg_class\"].iloc[0:207188]:\n",
    "    index += 1\n",
    "    if i == \"woody\":\n",
    "        totalarea += bigtest_df.iat[index,4]\n",
    "        woodyarea += bigtest_df.iat[index,4]\n",
    "        #print(woodyarea)\n",
    "        woody += 1\n",
    "    if i == \"non-woody\":\n",
    "        totalarea += bigtest_df.iat[index,4]\n",
    "        nonwoodyarea += bigtest_df.iat[index,4]\n",
    "        #print(nonwoodyarea)\n",
    "        nw += 1\n",
    "print (woodyarea)\n",
    "print(nonwoodyarea)\n",
    "print(totalarea)\n",
    "FWClog1 = woodyarea / totalarea * 100"
   ]
  },
  {
   "cell_type": "code",
   "execution_count": 11,
   "id": "2f5d35dd",
   "metadata": {},
   "outputs": [
    {
     "name": "stdout",
     "output_type": "stream",
     "text": [
      "523587.0000004236\n",
      "1321431.2099995627\n",
      "1845018.2100000049\n"
     ]
    }
   ],
   "source": [
    "#FWC (woo!) --> fix this\n",
    "\n",
    "woodyarea = 0\n",
    "nonwoodyarea = 0 \n",
    "totalarea = 0\n",
    "index = 0\n",
    "woody = 0\n",
    "nw = 0\n",
    "#print(bigtest_df.iat[index,4])\n",
    "area = bigtest_df[\"Shape_Area\"]\n",
    "#print(area)\n",
    "\n",
    "for i in bigtest_df[\"Veg_class\"].iloc[207188:414377]:\n",
    "    index += 1\n",
    "    if i == \"woody\":\n",
    "        totalarea += bigtest_df.iat[index,4]\n",
    "        woodyarea += bigtest_df.iat[index,4]\n",
    "        #print(woodyarea)\n",
    "        woody += 1\n",
    "    if i == \"non-woody\":\n",
    "        totalarea += bigtest_df.iat[index,4]\n",
    "        nonwoodyarea += bigtest_df.iat[index,4]\n",
    "        #print(nonwoodyarea)\n",
    "        nw += 1\n",
    "print (woodyarea)\n",
    "print(nonwoodyarea)\n",
    "print(totalarea)\n",
    "FWClog2 = woodyarea / totalarea * 100"
   ]
  },
  {
   "cell_type": "code",
   "execution_count": 12,
   "id": "44fee14b",
   "metadata": {},
   "outputs": [
    {
     "name": "stdout",
     "output_type": "stream",
     "text": [
      "1007535.7600003883\n",
      "837479.719999557\n",
      "1845015.4800000053\n"
     ]
    }
   ],
   "source": [
    "#FWC (woo!) --> fix this\n",
    "\n",
    "woodyarea = 0\n",
    "nonwoodyarea = 0 \n",
    "totalarea = 0\n",
    "index = 0\n",
    "woody = 0\n",
    "nw = 0\n",
    "#print(bigtest_df.iat[index,4])\n",
    "area = bigtest_df[\"Shape_Area\"]\n",
    "#print(area)\n",
    "\n",
    "for i in bigtest_df[\"Veg_class\"].iloc[414377:621565]:\n",
    "    index += 1\n",
    "    if i == \"woody\":\n",
    "        totalarea += bigtest_df.iat[index,4]\n",
    "        woodyarea += bigtest_df.iat[index,4]\n",
    "        #print(woodyarea)\n",
    "        woody += 1\n",
    "    if i == \"non-woody\":\n",
    "        totalarea += bigtest_df.iat[index,4]\n",
    "        nonwoodyarea += bigtest_df.iat[index,4]\n",
    "        #print(nonwoodyarea)\n",
    "        nw += 1\n",
    "print (woodyarea)\n",
    "print(nonwoodyarea)\n",
    "print(totalarea)\n",
    "FWClog3 = woodyarea / totalarea * 100"
   ]
  },
  {
   "cell_type": "code",
   "execution_count": 13,
   "id": "5efbb572",
   "metadata": {},
   "outputs": [
    {
     "name": "stdout",
     "output_type": "stream",
     "text": [
      "1558978.1899998973\n",
      "286040.02000009664\n",
      "1845018.2100000049\n"
     ]
    }
   ],
   "source": [
    "#FWC (woo!) --> fix this\n",
    "\n",
    "woodyarea = 0\n",
    "nonwoodyarea = 0 \n",
    "totalarea = 0\n",
    "index = 0\n",
    "woody = 0\n",
    "nw = 0\n",
    "#print(bigtest_df.iat[index,4])\n",
    "area = bigtest_df[\"Shape_Area\"]\n",
    "#print(area)\n",
    "\n",
    "for i in bigtest_df[\"Veg_class\"].iloc[621565:828754]:\n",
    "    index += 1\n",
    "    if i == \"woody\":\n",
    "        totalarea += bigtest_df.iat[index,4]\n",
    "        woodyarea += bigtest_df.iat[index,4]\n",
    "        #print(woodyarea)\n",
    "        woody += 1\n",
    "    if i == \"non-woody\":\n",
    "        totalarea += bigtest_df.iat[index,4]\n",
    "        nonwoodyarea += bigtest_df.iat[index,4]\n",
    "        #print(nonwoodyarea)\n",
    "        nw += 1\n",
    "print (woodyarea)\n",
    "print(nonwoodyarea)\n",
    "print(totalarea)\n",
    "FWClog4 = woodyarea / totalarea * 100"
   ]
  },
  {
   "cell_type": "code",
   "execution_count": 14,
   "id": "a07c8721",
   "metadata": {},
   "outputs": [
    {
     "name": "stdout",
     "output_type": "stream",
     "text": [
      "1688705.9799999783\n",
      "156309.50000002363\n",
      "1845015.4800000053\n"
     ]
    }
   ],
   "source": [
    "#FWC (woo!) --> fix this\n",
    "\n",
    "woodyarea = 0\n",
    "nonwoodyarea = 0 \n",
    "totalarea = 0\n",
    "index = 0\n",
    "woody = 0\n",
    "nw = 0\n",
    "#print(bigtest_df.iat[index,4])\n",
    "area = bigtest_df[\"Shape_Area\"]\n",
    "#print(area)\n",
    "\n",
    "for i in bigtest_df[\"Veg_class\"].iloc[828754:1035942]:\n",
    "    index += 1\n",
    "    if i == \"woody\":\n",
    "        totalarea += bigtest_df.iat[index,4]\n",
    "        woodyarea += bigtest_df.iat[index,4]\n",
    "        #print(woodyarea)\n",
    "        woody += 1\n",
    "    if i == \"non-woody\":\n",
    "        totalarea += bigtest_df.iat[index,4]\n",
    "        nonwoodyarea += bigtest_df.iat[index,4]\n",
    "        #print(nonwoodyarea)\n",
    "        nw += 1\n",
    "print (woodyarea)\n",
    "print(nonwoodyarea)\n",
    "print(totalarea)\n",
    "FWClog5 = woodyarea / totalarea * 100"
   ]
  },
  {
   "cell_type": "code",
   "execution_count": 15,
   "id": "f34f4d99",
   "metadata": {},
   "outputs": [
    {
     "name": "stdout",
     "output_type": "stream",
     "text": [
      "1632692.3500001016\n",
      "212325.85999989152\n",
      "1845018.2100000049\n"
     ]
    }
   ],
   "source": [
    "#FWC (woo!) --> fix this\n",
    "\n",
    "woodyarea = 0\n",
    "nonwoodyarea = 0 \n",
    "totalarea = 0\n",
    "index = 0\n",
    "woody = 0\n",
    "nw = 0\n",
    "#print(bigtest_df.iat[index,4])\n",
    "area = bigtest_df[\"Shape_Area\"]\n",
    "#print(area)\n",
    "\n",
    "for i in bigtest_df[\"Veg_class\"].iloc[1035942:1243131]:\n",
    "    index += 1\n",
    "    if i == \"woody\":\n",
    "        totalarea += bigtest_df.iat[index,4]\n",
    "        woodyarea += bigtest_df.iat[index,4]\n",
    "        #print(woodyarea)\n",
    "        woody += 1\n",
    "    if i == \"non-woody\":\n",
    "        totalarea += bigtest_df.iat[index,4]\n",
    "        nonwoodyarea += bigtest_df.iat[index,4]\n",
    "        #print(nonwoodyarea)\n",
    "        nw += 1\n",
    "print (woodyarea)\n",
    "print(nonwoodyarea)\n",
    "print(totalarea)\n",
    "FWClog6 = woodyarea / totalarea * 100"
   ]
  },
  {
   "cell_type": "code",
   "execution_count": 16,
   "id": "059fdc2e",
   "metadata": {},
   "outputs": [
    {
     "name": "stdout",
     "output_type": "stream",
     "text": [
      "1685699.8500000746\n",
      "159315.62999992722\n",
      "1845015.4800000053\n"
     ]
    }
   ],
   "source": [
    "woodyarea = 0\n",
    "nonwoodyarea = 0 \n",
    "totalarea = 0\n",
    "index = 0\n",
    "woody = 0\n",
    "nw = 0\n",
    "#print(bigtest_df.iat[index,4])\n",
    "area = bigtest_df[\"Shape_Area\"]\n",
    "#print(area)\n",
    "\n",
    "for i in bigtest_df[\"Veg_class\"].iloc[1243131:1450319]:\n",
    "    index += 1\n",
    "    if i == \"woody\":\n",
    "        totalarea += bigtest_df.iat[index,4]\n",
    "        woodyarea += bigtest_df.iat[index,4]\n",
    "        #print(woodyarea)\n",
    "        woody += 1\n",
    "    if i == \"non-woody\":\n",
    "        totalarea += bigtest_df.iat[index,4]\n",
    "        nonwoodyarea += bigtest_df.iat[index,4]\n",
    "        #print(nonwoodyarea)\n",
    "        nw += 1\n",
    "print (woodyarea)\n",
    "print(nonwoodyarea)\n",
    "print(totalarea)\n",
    "FWClog7 = woodyarea / totalarea * 100"
   ]
  },
  {
   "cell_type": "code",
   "execution_count": 17,
   "id": "a751e436",
   "metadata": {},
   "outputs": [
    {
     "name": "stdout",
     "output_type": "stream",
     "text": [
      "1754430.6000000683\n",
      "90587.60999993478\n",
      "1845018.2100000049\n"
     ]
    }
   ],
   "source": [
    "woodyarea = 0\n",
    "nonwoodyarea = 0 \n",
    "totalarea = 0\n",
    "index = 0\n",
    "woody = 0\n",
    "nw = 0\n",
    "#print(bigtest_df.iat[index,4])\n",
    "area = bigtest_df[\"Shape_Area\"]\n",
    "#print(area)\n",
    "\n",
    "for i in bigtest_df[\"Veg_class\"].iloc[1450319:1657508]:\n",
    "    index += 1\n",
    "    if i == \"woody\":\n",
    "        totalarea += bigtest_df.iat[index,4]\n",
    "        woodyarea += bigtest_df.iat[index,4]\n",
    "        #print(woodyarea)\n",
    "        woody += 1\n",
    "    if i == \"non-woody\":\n",
    "        totalarea += bigtest_df.iat[index,4]\n",
    "        nonwoodyarea += bigtest_df.iat[index,4]\n",
    "        #print(nonwoodyarea)\n",
    "        nw += 1\n",
    "print (woodyarea)\n",
    "print(nonwoodyarea)\n",
    "print(totalarea)\n",
    "FWClog8 = woodyarea / totalarea * 100"
   ]
  },
  {
   "cell_type": "code",
   "execution_count": 18,
   "id": "c7517a8c",
   "metadata": {},
   "outputs": [
    {
     "name": "stdout",
     "output_type": "stream",
     "text": [
      "196440\n",
      "10749\n",
      "70.97474946877419\n"
     ]
    }
   ],
   "source": [
    "FWClog = (FWClog1 +FWClog2 +FWClog3+FWClog4+FWClog5+FWClog6+FWClog7+FWClog8) /8\n",
    "print(woody)\n",
    "print(nw)\n",
    "print(FWClog)"
   ]
  },
  {
   "cell_type": "code",
   "execution_count": 19,
   "id": "394c7700",
   "metadata": {},
   "outputs": [
    {
     "name": "stdout",
     "output_type": "stream",
     "text": [
      "---Run time is 37.953202700000006 seconds ---\n",
      "\n",
      "Accuracy of each fold: \n",
      " [0.7320754716981132, 0.7566037735849057, 0.779245283018868, 0.7679245283018868, 0.77882797731569]\n",
      "Avg accuracy: 0.7629354067838927\n",
      "Std of accuracy : \n",
      "0.017526564791166103\n",
      "\n",
      "[[ 628  349]\n",
      " [ 279 1393]]\n",
      "\n",
      "              precision    recall  f1-score   support\n",
      "\n",
      "   non-woody       0.69      0.64      0.67       977\n",
      "       woody       0.80      0.83      0.82      1672\n",
      "\n",
      "    accuracy                           0.76      2649\n",
      "   macro avg       0.75      0.74      0.74      2649\n",
      "weighted avg       0.76      0.76      0.76      2649\n",
      "\n",
      "0.6427840327533265\n",
      "0.8331339712918661\n",
      "0.6923925027563396\n",
      "0.6666666666666666\n"
     ]
    }
   ],
   "source": [
    "#LDA\n",
    "kf = KFold(n_splits=5, random_state=3, shuffle=True)\n",
    "model=LinearDiscriminantAnalysis()\n",
    "\n",
    "acc_score = []\n",
    "Truth = []\n",
    "Output = []\n",
    "\n",
    "testindex1 = []\n",
    "testindex2 = []\n",
    "for train_index, test_index in kf.split(train_df): \n",
    "    X_train = train_df.iloc[train_index, 5:18]\n",
    "    X_test = train_df.iloc[test_index, 5:18]\n",
    "    Y_train = train_df.iloc[train_index, -1]\n",
    "    Y_test = train_df.iloc[test_index, -1]\n",
    "\n",
    "\n",
    "    model.fit(X_train, Y_train)\n",
    "    pred_values = model.predict(X_test)\n",
    "\n",
    "    acc = accuracy_score(Y_test, pred_values)\n",
    "    acc_score.append(acc)\n",
    "\n",
    "    Truth.extend(Y_test.values.reshape(Y_test.shape[0])) \n",
    "    Output.extend(pred_values)\n",
    "    \n",
    "    testindex1.append(test_index)\n",
    "    testindex2.append(pred_values)\n",
    "\n",
    "elapsed = timeit.default_timer() - start_time\n",
    "\n",
    "\n",
    "\n",
    "print(\"---Run time is %s seconds ---\" % elapsed)\n",
    "print()\n",
    "print('Accuracy of each fold: \\n {}'.format(acc_score))\n",
    "print(\"Avg accuracy: {}\".format(np.mean(acc_score)))\n",
    "print('Std of accuracy : \\n{}'.format(np.std(acc_score)))\n",
    "print()\n",
    "print(confusion_matrix(Truth, Output))\n",
    "print()\n",
    "print(classification_report(Truth, Output))\n",
    "\n",
    "cm = confusion_matrix(Truth, Output)\n",
    "\n",
    "sensitivity = cm[0][0]/(cm[0][0]+cm[0][1])\n",
    "specificity = cm[1][1]/(cm[1][0]+cm[1][1])\n",
    "precision = (cm[0][0])/(cm[0][0]+cm[1][0])\n",
    "f1_score = (2*precision*sensitivity)/(precision+sensitivity)\n",
    "\n",
    "print(sensitivity)\n",
    "print(specificity)\n",
    "print(precision)\n",
    "print(f1_score)\n",
    "\n",
    "statallfeatures_dic['Run Time'].append(elapsed)\n",
    "statallfeatures_dic['Accuracy'].append(np.mean(acc_score))\n",
    "statallfeatures_dic['Standard Error'].append(np.std(acc_score))\n",
    "statallfeatures_dic['Sensitivity'].append(sensitivity)\n",
    "statallfeatures_dic['Specificity'].append(specificity)\n",
    "statallfeatures_dic['Precision'].append(precision)\n",
    "statallfeatures_dic['F1_Score'].append(f1_score)\n",
    "\n",
    "indaccs_dic['LDA']=acc_score"
   ]
  },
  {
   "cell_type": "code",
   "execution_count": 20,
   "id": "1ca57e48",
   "metadata": {},
   "outputs": [
    {
     "name": "stdout",
     "output_type": "stream",
     "text": [
      "[[1849  239]\n",
      " [1318  933]]\n",
      "\n",
      "              precision    recall  f1-score   support\n",
      "\n",
      "   non-woody       0.58      0.89      0.70      2088\n",
      "       woody       0.80      0.41      0.55      2251\n",
      "\n",
      "    accuracy                           0.64      4339\n",
      "   macro avg       0.69      0.65      0.62      4339\n",
      "weighted avg       0.69      0.64      0.62      4339\n",
      "\n",
      "predicted ['woody' 'woody' 'non-woody' ... 'non-woody' 'woody' 'woody']\n",
      "acc 0.6411615579626642\n",
      "sens  0.4144824522434474\n",
      "spec  0.8855363984674329\n",
      "prec  0.583833280707294\n",
      "f1_score  0.7037107516650809\n"
     ]
    }
   ],
   "source": [
    "Truth2 = []\n",
    "Output2 = []\n",
    "testing = test_df.iloc[:,-1]\n",
    "model.fit(train_df.iloc[:,5:18],train_df.iloc[:,-1])\n",
    "predicted = model.predict(test_df.iloc[:,5:18])\n",
    "acc = accuracy_score(testing, predicted)\n",
    "Truth2.extend(testing.values.reshape(testing.shape[0])); ## it is a list\n",
    "Output2.extend(predicted);\n",
    "print(confusion_matrix(Truth2, Output2))\n",
    "print()\n",
    "print(classification_report(Truth2, Output2))\n",
    "cm2 = confusion_matrix(Truth2, Output2)\n",
    "sensitivity = cm2[0][0]/(cm2[0][0]+cm2[0][1])\n",
    "specificity = cm2[1][1]/(cm2[1][0]+cm2[1][1])\n",
    "precision = (cm2[0][0])/(cm2[0][0]+cm2[1][0])\n",
    "f1_score = (2*precision*sensitivity)/(precision+sensitivity)\n",
    "print(\"predicted\",predicted)\n",
    "print(\"acc\",acc)\n",
    "print(\"sens \",specificity)\n",
    "print(\"spec \", sensitivity)\n",
    "print(\"prec \", precision)\n",
    "print(\"f1_score \", f1_score)"
   ]
  },
  {
   "cell_type": "code",
   "execution_count": 21,
   "id": "4f29ad23",
   "metadata": {},
   "outputs": [],
   "source": [
    "finalPredicted = model.predict(bigtest_df.iloc[:,5:18])\n",
    "bigtest_df[\"Veg_class\"] = finalPredicted"
   ]
  },
  {
   "cell_type": "code",
   "execution_count": 22,
   "id": "b33af164",
   "metadata": {},
   "outputs": [
    {
     "name": "stdout",
     "output_type": "stream",
     "text": [
      "495388.3299996154\n",
      "1349627.1500003561\n",
      "1845015.4800000053\n"
     ]
    }
   ],
   "source": [
    "#FWC (woo!) --> fix this\n",
    "\n",
    "woodyarea = 0\n",
    "nonwoodyarea = 0 \n",
    "totalarea = 0\n",
    "index = 0\n",
    "woody = 0\n",
    "nw = 0\n",
    "#print(bigtest_df.iat[index,4])\n",
    "area = bigtest_df[\"Shape_Area\"]\n",
    "#print(area)\n",
    "\n",
    "for i in bigtest_df[\"Veg_class\"].iloc[0:207188]:\n",
    "    index += 1\n",
    "    if i == \"woody\":\n",
    "        totalarea += bigtest_df.iat[index,4]\n",
    "        woodyarea += bigtest_df.iat[index,4]\n",
    "        #print(woodyarea)\n",
    "        woody += 1\n",
    "    if i == \"non-woody\":\n",
    "        totalarea += bigtest_df.iat[index,4]\n",
    "        nonwoodyarea += bigtest_df.iat[index,4]\n",
    "        #print(nonwoodyarea)\n",
    "        nw += 1\n",
    "print (woodyarea)\n",
    "print(nonwoodyarea)\n",
    "print(totalarea)\n",
    "FWClda1 = woodyarea / totalarea * 100"
   ]
  },
  {
   "cell_type": "code",
   "execution_count": 23,
   "id": "e8986392",
   "metadata": {},
   "outputs": [
    {
     "name": "stdout",
     "output_type": "stream",
     "text": [
      "520450.57000019815\n",
      "1324567.6399997917\n",
      "1845018.2100000049\n"
     ]
    }
   ],
   "source": [
    "#FWC (woo!) --> fix this\n",
    "\n",
    "woodyarea = 0\n",
    "nonwoodyarea = 0 \n",
    "totalarea = 0\n",
    "index = 0\n",
    "woody = 0\n",
    "nw = 0\n",
    "#print(bigtest_df.iat[index,4])\n",
    "area = bigtest_df[\"Shape_Area\"]\n",
    "#print(area)\n",
    "\n",
    "for i in bigtest_df[\"Veg_class\"].iloc[207188:414377]:\n",
    "    index += 1\n",
    "    if i == \"woody\":\n",
    "        totalarea += bigtest_df.iat[index,4]\n",
    "        woodyarea += bigtest_df.iat[index,4]\n",
    "        #print(woodyarea)\n",
    "        woody += 1\n",
    "    if i == \"non-woody\":\n",
    "        totalarea += bigtest_df.iat[index,4]\n",
    "        nonwoodyarea += bigtest_df.iat[index,4]\n",
    "        #print(nonwoodyarea)\n",
    "        nw += 1\n",
    "print (woodyarea)\n",
    "print(nonwoodyarea)\n",
    "print(totalarea)\n",
    "FWClda2 = woodyarea / totalarea * 100"
   ]
  },
  {
   "cell_type": "code",
   "execution_count": 24,
   "id": "d7a32fb6",
   "metadata": {},
   "outputs": [
    {
     "name": "stdout",
     "output_type": "stream",
     "text": [
      "861957.7100003702\n",
      "983057.7699995736\n",
      "1845015.4800000053\n"
     ]
    }
   ],
   "source": [
    "#FWC (woo!) --> fix this\n",
    "\n",
    "woodyarea = 0\n",
    "nonwoodyarea = 0 \n",
    "totalarea = 0\n",
    "index = 0\n",
    "woody = 0\n",
    "nw = 0\n",
    "#print(bigtest_df.iat[index,4])\n",
    "area = bigtest_df[\"Shape_Area\"]\n",
    "#print(area)\n",
    "\n",
    "for i in bigtest_df[\"Veg_class\"].iloc[414377:621565]:\n",
    "    index += 1\n",
    "    if i == \"woody\":\n",
    "        totalarea += bigtest_df.iat[index,4]\n",
    "        woodyarea += bigtest_df.iat[index,4]\n",
    "        #print(woodyarea)\n",
    "        woody += 1\n",
    "    if i == \"non-woody\":\n",
    "        totalarea += bigtest_df.iat[index,4]\n",
    "        nonwoodyarea += bigtest_df.iat[index,4]\n",
    "        #print(nonwoodyarea)\n",
    "        nw += 1\n",
    "print (woodyarea)\n",
    "print(nonwoodyarea)\n",
    "print(totalarea)\n",
    "FWClda3 = woodyarea / totalarea * 100"
   ]
  },
  {
   "cell_type": "code",
   "execution_count": 25,
   "id": "0726fec3",
   "metadata": {},
   "outputs": [
    {
     "name": "stdout",
     "output_type": "stream",
     "text": [
      "1153699.2699996002\n",
      "691318.9400003398\n",
      "1845018.2100000049\n"
     ]
    }
   ],
   "source": [
    "#FWC (woo!) --> fix this\n",
    "\n",
    "woodyarea = 0\n",
    "nonwoodyarea = 0 \n",
    "totalarea = 0\n",
    "index = 0\n",
    "woody = 0\n",
    "nw = 0\n",
    "#print(bigtest_df.iat[index,4])\n",
    "area = bigtest_df[\"Shape_Area\"]\n",
    "#print(area)\n",
    "\n",
    "for i in bigtest_df[\"Veg_class\"].iloc[621565:828754]:\n",
    "    index += 1\n",
    "    if i == \"woody\":\n",
    "        totalarea += bigtest_df.iat[index,4]\n",
    "        woodyarea += bigtest_df.iat[index,4]\n",
    "        #print(woodyarea)\n",
    "        woody += 1\n",
    "    if i == \"non-woody\":\n",
    "        totalarea += bigtest_df.iat[index,4]\n",
    "        nonwoodyarea += bigtest_df.iat[index,4]\n",
    "        #print(nonwoodyarea)\n",
    "        nw += 1\n",
    "print (woodyarea)\n",
    "print(nonwoodyarea)\n",
    "print(totalarea)\n",
    "FWClda4 = woodyarea / totalarea * 100"
   ]
  },
  {
   "cell_type": "code",
   "execution_count": 26,
   "id": "22ec0645",
   "metadata": {},
   "outputs": [
    {
     "name": "stdout",
     "output_type": "stream",
     "text": [
      "1528265.7800000422\n",
      "316749.6999999483\n",
      "1845015.4800000053\n"
     ]
    }
   ],
   "source": [
    "#FWC (woo!) --> fix this\n",
    "\n",
    "woodyarea = 0\n",
    "nonwoodyarea = 0 \n",
    "totalarea = 0\n",
    "index = 0\n",
    "woody = 0\n",
    "nw = 0\n",
    "#print(bigtest_df.iat[index,4])\n",
    "area = bigtest_df[\"Shape_Area\"]\n",
    "#print(area)\n",
    "\n",
    "for i in bigtest_df[\"Veg_class\"].iloc[828754:1035942]:\n",
    "    index += 1\n",
    "    if i == \"woody\":\n",
    "        totalarea += bigtest_df.iat[index,4]\n",
    "        woodyarea += bigtest_df.iat[index,4]\n",
    "        #print(woodyarea)\n",
    "        woody += 1\n",
    "    if i == \"non-woody\":\n",
    "        totalarea += bigtest_df.iat[index,4]\n",
    "        nonwoodyarea += bigtest_df.iat[index,4]\n",
    "        #print(nonwoodyarea)\n",
    "        nw += 1\n",
    "print (woodyarea)\n",
    "print(nonwoodyarea)\n",
    "print(totalarea)\n",
    "FWClda5 = woodyarea / totalarea * 100"
   ]
  },
  {
   "cell_type": "code",
   "execution_count": 27,
   "id": "66d3091d",
   "metadata": {},
   "outputs": [
    {
     "name": "stdout",
     "output_type": "stream",
     "text": [
      "1469551.9199997436\n",
      "375466.2900002432\n",
      "1845018.2100000049\n"
     ]
    }
   ],
   "source": [
    "#FWC (woo!) --> fix this\n",
    "\n",
    "woodyarea = 0\n",
    "nonwoodyarea = 0 \n",
    "totalarea = 0\n",
    "index = 0\n",
    "woody = 0\n",
    "nw = 0\n",
    "#print(bigtest_df.iat[index,4])\n",
    "area = bigtest_df[\"Shape_Area\"]\n",
    "#print(area)\n",
    "\n",
    "for i in bigtest_df[\"Veg_class\"].iloc[1035942:1243131]:\n",
    "    index += 1\n",
    "    if i == \"woody\":\n",
    "        totalarea += bigtest_df.iat[index,4]\n",
    "        woodyarea += bigtest_df.iat[index,4]\n",
    "        #print(woodyarea)\n",
    "        woody += 1\n",
    "    if i == \"non-woody\":\n",
    "        totalarea += bigtest_df.iat[index,4]\n",
    "        nonwoodyarea += bigtest_df.iat[index,4]\n",
    "        #print(nonwoodyarea)\n",
    "        nw += 1\n",
    "print (woodyarea)\n",
    "print(nonwoodyarea)\n",
    "print(totalarea)\n",
    "FWClda6 = woodyarea / totalarea * 100"
   ]
  },
  {
   "cell_type": "code",
   "execution_count": 28,
   "id": "c444040e",
   "metadata": {},
   "outputs": [
    {
     "name": "stdout",
     "output_type": "stream",
     "text": [
      "1593172.05999987\n",
      "251843.42000011925\n",
      "1845015.4800000053\n"
     ]
    }
   ],
   "source": [
    "woodyarea = 0\n",
    "nonwoodyarea = 0 \n",
    "totalarea = 0\n",
    "index = 0\n",
    "woody = 0\n",
    "nw = 0\n",
    "#print(bigtest_df.iat[index,4])\n",
    "area = bigtest_df[\"Shape_Area\"]\n",
    "#print(area)\n",
    "\n",
    "for i in bigtest_df[\"Veg_class\"].iloc[1243131:1450319]:\n",
    "    index += 1\n",
    "    if i == \"woody\":\n",
    "        totalarea += bigtest_df.iat[index,4]\n",
    "        woodyarea += bigtest_df.iat[index,4]\n",
    "        #print(woodyarea)\n",
    "        woody += 1\n",
    "    if i == \"non-woody\":\n",
    "        totalarea += bigtest_df.iat[index,4]\n",
    "        nonwoodyarea += bigtest_df.iat[index,4]\n",
    "        #print(nonwoodyarea)\n",
    "        nw += 1\n",
    "print (woodyarea)\n",
    "print(nonwoodyarea)\n",
    "print(totalarea)\n",
    "FWClda7 = woodyarea / totalarea * 100"
   ]
  },
  {
   "cell_type": "code",
   "execution_count": 29,
   "id": "6ebfec06",
   "metadata": {},
   "outputs": [
    {
     "name": "stdout",
     "output_type": "stream",
     "text": [
      "1658902.4600002253\n",
      "186115.74999977322\n",
      "1845018.2100000049\n"
     ]
    }
   ],
   "source": [
    "woodyarea = 0\n",
    "nonwoodyarea = 0 \n",
    "totalarea = 0\n",
    "index = 0\n",
    "woody = 0\n",
    "nw = 0\n",
    "#print(bigtest_df.iat[index,4])\n",
    "area = bigtest_df[\"Shape_Area\"]\n",
    "#print(area)\n",
    "\n",
    "for i in bigtest_df[\"Veg_class\"].iloc[1450319:1657508]:\n",
    "    index += 1\n",
    "    if i == \"woody\":\n",
    "        totalarea += bigtest_df.iat[index,4]\n",
    "        woodyarea += bigtest_df.iat[index,4]\n",
    "        #print(woodyarea)\n",
    "        woody += 1\n",
    "    if i == \"non-woody\":\n",
    "        totalarea += bigtest_df.iat[index,4]\n",
    "        nonwoodyarea += bigtest_df.iat[index,4]\n",
    "        #print(nonwoodyarea)\n",
    "        nw += 1\n",
    "print (woodyarea)\n",
    "print(nonwoodyarea)\n",
    "print(totalarea)\n",
    "FWClda8 = woodyarea / totalarea * 100"
   ]
  },
  {
   "cell_type": "code",
   "execution_count": 30,
   "id": "fb27d89e",
   "metadata": {},
   "outputs": [
    {
     "name": "stdout",
     "output_type": "stream",
     "text": [
      "184477\n",
      "22712\n",
      "62.881457461927056\n"
     ]
    }
   ],
   "source": [
    "FWClda = (FWClda1 +FWClda2 +FWClda3+FWClda4+FWClda5+FWClda6+FWClda7+FWClda8) /8\n",
    "print(woody)\n",
    "print(nw)\n",
    "print(FWClda)"
   ]
  },
  {
   "cell_type": "code",
   "execution_count": 31,
   "id": "4dacb836",
   "metadata": {},
   "outputs": [
    {
     "name": "stdout",
     "output_type": "stream",
     "text": [
      "---Run time is 76.2307724 seconds ---\n",
      "\n",
      "Accuracy of each fold: \n",
      " [0.6981132075471698, 0.7226415094339622, 0.6547169811320754, 0.6547169811320754, 0.6805293005671077]\n",
      "Avg accuracy: 0.6821435959624782\n",
      "Std of accuracy : \n",
      "0.026085067918039904\n",
      "\n",
      "[[861 116]\n",
      " [726 946]]\n",
      "\n",
      "              precision    recall  f1-score   support\n",
      "\n",
      "   non-woody       0.54      0.88      0.67       977\n",
      "       woody       0.89      0.57      0.69      1672\n",
      "\n",
      "    accuracy                           0.68      2649\n",
      "   macro avg       0.72      0.72      0.68      2649\n",
      "weighted avg       0.76      0.68      0.68      2649\n",
      "\n",
      "0.8812691914022518\n",
      "0.5657894736842105\n",
      "0.5425330812854442\n",
      "0.671606864274571\n"
     ]
    }
   ],
   "source": [
    "#QDA\n",
    "kf = KFold(n_splits=5, random_state=3, shuffle=True)\n",
    "model=QuadraticDiscriminantAnalysis()\n",
    "\n",
    "acc_score = []\n",
    "Truth = []\n",
    "Output = []\n",
    "\n",
    "testindex3 = []\n",
    "testindex4 = []\n",
    "\n",
    "for train_index, test_index in kf.split(train_df): \n",
    "    X_train = train_df.iloc[train_index, 5:18]\n",
    "    X_test = train_df.iloc[test_index, 5:18]\n",
    "    Y_train = train_df.iloc[train_index, -1]\n",
    "    Y_test = train_df.iloc[test_index, -1]\n",
    "\n",
    "\n",
    "    model.fit(X_train, Y_train)\n",
    "    pred_values = model.predict(X_test)\n",
    "\n",
    "\n",
    "    acc = accuracy_score(Y_test, pred_values)\n",
    "    acc_score.append(acc)\n",
    "\n",
    "    Truth.extend(Y_test.values.reshape(Y_test.shape[0])) \n",
    "    Output.extend(pred_values)\n",
    "    \n",
    "    #makes the list for FWC\n",
    "    testindex3.append(test_index)\n",
    "    testindex4.append(pred_values)\n",
    "\n",
    "elapsed = timeit.default_timer() - start_time\n",
    "\n",
    "\n",
    "print(\"---Run time is %s seconds ---\" % elapsed)\n",
    "print()\n",
    "print('Accuracy of each fold: \\n {}'.format(acc_score))\n",
    "print(\"Avg accuracy: {}\".format(np.mean(acc_score)))\n",
    "print('Std of accuracy : \\n{}'.format(np.std(acc_score)))\n",
    "print()\n",
    "print(confusion_matrix(Truth, Output))\n",
    "print()\n",
    "print(classification_report(Truth, Output))\n",
    "\n",
    "cm = confusion_matrix(Truth, Output)\n",
    "\n",
    "sensitivity = cm[0][0]/(cm[0][0]+cm[0][1])\n",
    "specificity = cm[1][1]/(cm[1][0]+cm[1][1])\n",
    "precision = (cm[0][0])/(cm[0][0]+cm[1][0])\n",
    "f1_score = (2*precision*sensitivity)/(precision+sensitivity)\n",
    "\n",
    "print(sensitivity)\n",
    "print(specificity)\n",
    "print(precision)\n",
    "print(f1_score)\n",
    "\n",
    "statallfeatures_dic['Run Time'].append(elapsed)\n",
    "statallfeatures_dic['Accuracy'].append(np.mean(acc_score))\n",
    "statallfeatures_dic['Standard Error'].append(np.std(acc_score))\n",
    "statallfeatures_dic['Sensitivity'].append(sensitivity)\n",
    "statallfeatures_dic['Specificity'].append(specificity)\n",
    "statallfeatures_dic['Precision'].append(precision)\n",
    "statallfeatures_dic['F1_Score'].append(f1_score)\n",
    "\n",
    "indaccs_dic['QDA']=acc_score"
   ]
  },
  {
   "cell_type": "code",
   "execution_count": 32,
   "id": "79137e1b",
   "metadata": {
    "scrolled": true
   },
   "outputs": [
    {
     "name": "stdout",
     "output_type": "stream",
     "text": [
      "[[1798  290]\n",
      " [1293  958]]\n",
      "\n",
      "              precision    recall  f1-score   support\n",
      "\n",
      "   non-woody       0.58      0.86      0.69      2088\n",
      "       woody       0.77      0.43      0.55      2251\n",
      "\n",
      "    accuracy                           0.64      4339\n",
      "   macro avg       0.67      0.64      0.62      4339\n",
      "weighted avg       0.68      0.64      0.62      4339\n",
      "\n",
      "predicted ['woody' 'woody' 'non-woody' ... 'woody' 'woody' 'woody']\n",
      "acc 0.6351693938695552\n",
      "sens  0.4255886272767659\n",
      "spec  0.8611111111111112\n",
      "prec  0.5816887738595924\n",
      "f1_score  0.6943425371693378\n"
     ]
    }
   ],
   "source": [
    "Truth2 = []\n",
    "Output2 = []\n",
    "testing = test_df.iloc[:,-1]\n",
    "model.fit(train_df.iloc[:,5:18],train_df.iloc[:,-1])\n",
    "predicted = model.predict(test_df.iloc[:,5:18])\n",
    "acc = accuracy_score(testing, predicted)\n",
    "Truth2.extend(testing.values.reshape(testing.shape[0])); ## it is a list\n",
    "Output2.extend(predicted);\n",
    "print(confusion_matrix(Truth2, Output2))\n",
    "print()\n",
    "print(classification_report(Truth2, Output2))\n",
    "cm2 = confusion_matrix(Truth2, Output2)\n",
    "sensitivity = cm2[0][0]/(cm2[0][0]+cm2[0][1])\n",
    "specificity = cm2[1][1]/(cm2[1][0]+cm2[1][1])\n",
    "precision = (cm2[0][0])/(cm2[0][0]+cm2[1][0])\n",
    "f1_score = (2*precision*sensitivity)/(precision+sensitivity)\n",
    "print(\"predicted\",predicted)\n",
    "print(\"acc\",acc)\n",
    "print(\"sens \",specificity)\n",
    "print(\"spec \", sensitivity)\n",
    "print(\"prec \", precision)\n",
    "print(\"f1_score \", f1_score)"
   ]
  },
  {
   "cell_type": "code",
   "execution_count": 33,
   "id": "b511f027",
   "metadata": {},
   "outputs": [],
   "source": [
    "finalPredicted = model.predict(bigtest_df.iloc[:,5:18])\n",
    "bigtest_df[\"Veg_class\"] = finalPredicted\n"
   ]
  },
  {
   "cell_type": "code",
   "execution_count": 34,
   "id": "b4dca668",
   "metadata": {},
   "outputs": [
    {
     "name": "stdout",
     "output_type": "stream",
     "text": [
      "796382.9899999241\n",
      "1048632.490000018\n",
      "1845015.4800000053\n"
     ]
    }
   ],
   "source": [
    "#FWC (woo!) --> fix this\n",
    "\n",
    "woodyarea = 0\n",
    "nonwoodyarea = 0 \n",
    "totalarea = 0\n",
    "index = 0\n",
    "woody = 0\n",
    "nw = 0\n",
    "#print(bigtest_df.iat[index,4])\n",
    "area = bigtest_df[\"Shape_Area\"]\n",
    "#print(area)\n",
    "\n",
    "for i in bigtest_df[\"Veg_class\"].iloc[0:207188]:\n",
    "    index += 1\n",
    "    if i == \"woody\":\n",
    "        totalarea += bigtest_df.iat[index,4]\n",
    "        woodyarea += bigtest_df.iat[index,4]\n",
    "        #print(woodyarea)\n",
    "        woody += 1\n",
    "    if i == \"non-woody\":\n",
    "        totalarea += bigtest_df.iat[index,4]\n",
    "        nonwoodyarea += bigtest_df.iat[index,4]\n",
    "        #print(nonwoodyarea)\n",
    "        nw += 1\n",
    "print (woodyarea)\n",
    "print(nonwoodyarea)\n",
    "print(totalarea)\n",
    "FWCqda1 = woodyarea / totalarea * 100"
   ]
  },
  {
   "cell_type": "code",
   "execution_count": 35,
   "id": "55ddaa6f",
   "metadata": {},
   "outputs": [
    {
     "name": "stdout",
     "output_type": "stream",
     "text": [
      "705249.6000001444\n",
      "1139768.609999804\n",
      "1845018.2100000049\n"
     ]
    }
   ],
   "source": [
    "#FWC (woo!) --> fix this\n",
    "\n",
    "woodyarea = 0\n",
    "nonwoodyarea = 0 \n",
    "totalarea = 0\n",
    "index = 0\n",
    "woody = 0\n",
    "nw = 0\n",
    "#print(bigtest_df.iat[index,4])\n",
    "area = bigtest_df[\"Shape_Area\"]\n",
    "#print(area)\n",
    "\n",
    "for i in bigtest_df[\"Veg_class\"].iloc[207188:414377]:\n",
    "    index += 1\n",
    "    if i == \"woody\":\n",
    "        totalarea += bigtest_df.iat[index,4]\n",
    "        woodyarea += bigtest_df.iat[index,4]\n",
    "        #print(woodyarea)\n",
    "        woody += 1\n",
    "    if i == \"non-woody\":\n",
    "        totalarea += bigtest_df.iat[index,4]\n",
    "        nonwoodyarea += bigtest_df.iat[index,4]\n",
    "        #print(nonwoodyarea)\n",
    "        nw += 1\n",
    "print (woodyarea)\n",
    "print(nonwoodyarea)\n",
    "print(totalarea)\n",
    "FWCqda2 = woodyarea / totalarea * 100"
   ]
  },
  {
   "cell_type": "code",
   "execution_count": 36,
   "id": "d2bbb81f",
   "metadata": {},
   "outputs": [
    {
     "name": "stdout",
     "output_type": "stream",
     "text": [
      "1057788.900000167\n",
      "787226.5799997752\n",
      "1845015.4800000053\n"
     ]
    }
   ],
   "source": [
    "#FWC (woo!) --> fix this\n",
    "\n",
    "woodyarea = 0\n",
    "nonwoodyarea = 0 \n",
    "totalarea = 0\n",
    "index = 0\n",
    "woody = 0\n",
    "nw = 0\n",
    "#print(bigtest_df.iat[index,4])\n",
    "area = bigtest_df[\"Shape_Area\"]\n",
    "#print(area)\n",
    "\n",
    "for i in bigtest_df[\"Veg_class\"].iloc[414377:621565]:\n",
    "    index += 1\n",
    "    if i == \"woody\":\n",
    "        totalarea += bigtest_df.iat[index,4]\n",
    "        woodyarea += bigtest_df.iat[index,4]\n",
    "        #print(woodyarea)\n",
    "        woody += 1\n",
    "    if i == \"non-woody\":\n",
    "        totalarea += bigtest_df.iat[index,4]\n",
    "        nonwoodyarea += bigtest_df.iat[index,4]\n",
    "        #print(nonwoodyarea)\n",
    "        nw += 1\n",
    "print (woodyarea)\n",
    "print(nonwoodyarea)\n",
    "print(totalarea)\n",
    "FWCqda3 = woodyarea / totalarea * 100"
   ]
  },
  {
   "cell_type": "code",
   "execution_count": 37,
   "id": "0cd11df4",
   "metadata": {},
   "outputs": [
    {
     "name": "stdout",
     "output_type": "stream",
     "text": [
      "1217780.74999996\n",
      "627237.4599999937\n",
      "1845018.2100000049\n"
     ]
    }
   ],
   "source": [
    "#FWC (woo!) --> fix this\n",
    "\n",
    "woodyarea = 0\n",
    "nonwoodyarea = 0 \n",
    "totalarea = 0\n",
    "index = 0\n",
    "woody = 0\n",
    "nw = 0\n",
    "#print(bigtest_df.iat[index,4])\n",
    "area = bigtest_df[\"Shape_Area\"]\n",
    "#print(area)\n",
    "\n",
    "for i in bigtest_df[\"Veg_class\"].iloc[621565:828754]:\n",
    "    index += 1\n",
    "    if i == \"woody\":\n",
    "        totalarea += bigtest_df.iat[index,4]\n",
    "        woodyarea += bigtest_df.iat[index,4]\n",
    "        #print(woodyarea)\n",
    "        woody += 1\n",
    "    if i == \"non-woody\":\n",
    "        totalarea += bigtest_df.iat[index,4]\n",
    "        nonwoodyarea += bigtest_df.iat[index,4]\n",
    "        #print(nonwoodyarea)\n",
    "        nw += 1\n",
    "print (woodyarea)\n",
    "print(nonwoodyarea)\n",
    "print(totalarea)\n",
    "FWCqda4 = woodyarea / totalarea * 100"
   ]
  },
  {
   "cell_type": "code",
   "execution_count": 38,
   "id": "1c83553f",
   "metadata": {},
   "outputs": [
    {
     "name": "stdout",
     "output_type": "stream",
     "text": [
      "1450758.620000079\n",
      "394256.8599999025\n",
      "1845015.4800000053\n"
     ]
    }
   ],
   "source": [
    "#FWC (woo!) --> fix this\n",
    "\n",
    "woodyarea = 0\n",
    "nonwoodyarea = 0 \n",
    "totalarea = 0\n",
    "index = 0\n",
    "woody = 0\n",
    "nw = 0\n",
    "#print(bigtest_df.iat[index,4])\n",
    "area = bigtest_df[\"Shape_Area\"]\n",
    "#print(area)\n",
    "\n",
    "for i in bigtest_df[\"Veg_class\"].iloc[828754:1035942]:\n",
    "    index += 1\n",
    "    if i == \"woody\":\n",
    "        totalarea += bigtest_df.iat[index,4]\n",
    "        woodyarea += bigtest_df.iat[index,4]\n",
    "        #print(woodyarea)\n",
    "        woody += 1\n",
    "    if i == \"non-woody\":\n",
    "        totalarea += bigtest_df.iat[index,4]\n",
    "        nonwoodyarea += bigtest_df.iat[index,4]\n",
    "        #print(nonwoodyarea)\n",
    "        nw += 1\n",
    "print (woodyarea)\n",
    "print(nonwoodyarea)\n",
    "print(totalarea)\n",
    "FWCqda5 = woodyarea / totalarea * 100"
   ]
  },
  {
   "cell_type": "code",
   "execution_count": 39,
   "id": "0977ef9e",
   "metadata": {},
   "outputs": [
    {
     "name": "stdout",
     "output_type": "stream",
     "text": [
      "1432404.9299999995\n",
      "412613.2799999822\n",
      "1845018.2100000049\n"
     ]
    }
   ],
   "source": [
    "#FWC (woo!) --> fix this\n",
    "\n",
    "woodyarea = 0\n",
    "nonwoodyarea = 0 \n",
    "totalarea = 0\n",
    "index = 0\n",
    "woody = 0\n",
    "nw = 0\n",
    "#print(bigtest_df.iat[index,4])\n",
    "area = bigtest_df[\"Shape_Area\"]\n",
    "#print(area)\n",
    "\n",
    "for i in bigtest_df[\"Veg_class\"].iloc[1035942:1243131]:\n",
    "    index += 1\n",
    "    if i == \"woody\":\n",
    "        totalarea += bigtest_df.iat[index,4]\n",
    "        woodyarea += bigtest_df.iat[index,4]\n",
    "        #print(woodyarea)\n",
    "        woody += 1\n",
    "    if i == \"non-woody\":\n",
    "        totalarea += bigtest_df.iat[index,4]\n",
    "        nonwoodyarea += bigtest_df.iat[index,4]\n",
    "        #print(nonwoodyarea)\n",
    "        nw += 1\n",
    "print (woodyarea)\n",
    "print(nonwoodyarea)\n",
    "print(totalarea)\n",
    "FWCqda6 = woodyarea / totalarea * 100"
   ]
  },
  {
   "cell_type": "code",
   "execution_count": 40,
   "id": "9ae3823f",
   "metadata": {},
   "outputs": [
    {
     "name": "stdout",
     "output_type": "stream",
     "text": [
      "1491563.550000108\n",
      "353451.9299998606\n",
      "1845015.4800000053\n"
     ]
    }
   ],
   "source": [
    "woodyarea = 0\n",
    "nonwoodyarea = 0 \n",
    "totalarea = 0\n",
    "index = 0\n",
    "woody = 0\n",
    "nw = 0\n",
    "#print(bigtest_df.iat[index,4])\n",
    "area = bigtest_df[\"Shape_Area\"]\n",
    "#print(area)\n",
    "\n",
    "for i in bigtest_df[\"Veg_class\"].iloc[1243131:1450319]:\n",
    "    index += 1\n",
    "    if i == \"woody\":\n",
    "        totalarea += bigtest_df.iat[index,4]\n",
    "        woodyarea += bigtest_df.iat[index,4]\n",
    "        #print(woodyarea)\n",
    "        woody += 1\n",
    "    if i == \"non-woody\":\n",
    "        totalarea += bigtest_df.iat[index,4]\n",
    "        nonwoodyarea += bigtest_df.iat[index,4]\n",
    "        #print(nonwoodyarea)\n",
    "        nw += 1\n",
    "print (woodyarea)\n",
    "print(nonwoodyarea)\n",
    "print(totalarea)\n",
    "FWCqda7 = woodyarea / totalarea * 100"
   ]
  },
  {
   "cell_type": "code",
   "execution_count": 41,
   "id": "bdfe6ecd",
   "metadata": {},
   "outputs": [
    {
     "name": "stdout",
     "output_type": "stream",
     "text": [
      "1633341.9300000926\n",
      "211676.2799999036\n",
      "1845018.2100000049\n"
     ]
    }
   ],
   "source": [
    "woodyarea = 0\n",
    "nonwoodyarea = 0 \n",
    "totalarea = 0\n",
    "index = 0\n",
    "woody = 0\n",
    "nw = 0\n",
    "#print(bigtest_df.iat[index,4])\n",
    "area = bigtest_df[\"Shape_Area\"]\n",
    "#print(area)\n",
    "\n",
    "for i in bigtest_df[\"Veg_class\"].iloc[1450319:1657508]:\n",
    "    index += 1\n",
    "    if i == \"woody\":\n",
    "        totalarea += bigtest_df.iat[index,4]\n",
    "        woodyarea += bigtest_df.iat[index,4]\n",
    "        #print(woodyarea)\n",
    "        woody += 1\n",
    "    if i == \"non-woody\":\n",
    "        totalarea += bigtest_df.iat[index,4]\n",
    "        nonwoodyarea += bigtest_df.iat[index,4]\n",
    "        #print(nonwoodyarea)\n",
    "        nw += 1\n",
    "print (woodyarea)\n",
    "print(nonwoodyarea)\n",
    "print(totalarea)\n",
    "FWCqda8 = woodyarea / totalarea * 100"
   ]
  },
  {
   "cell_type": "code",
   "execution_count": 42,
   "id": "b54e0b63",
   "metadata": {},
   "outputs": [
    {
     "name": "stdout",
     "output_type": "stream",
     "text": [
      "179625\n",
      "27564\n",
      "66.29526956804585\n"
     ]
    }
   ],
   "source": [
    "FWCqda = (FWCqda1 +FWCqda2 +FWCqda3+FWCqda4+FWCqda5+FWCqda6+FWCqda7+FWCqda8) /8\n",
    "print(woody)\n",
    "print(nw)\n",
    "print(FWCqda)"
   ]
  },
  {
   "cell_type": "markdown",
   "id": "58d646a3",
   "metadata": {},
   "source": [
    "#KNN-CV\n",
    "KNN_result = []\n",
    "X=subject_df.iloc[:, 2:17]\n",
    "Y=subject_df.iloc[:, -1]\n",
    "crossvalidation = KFold(n_splits=5, random_state=3, shuffle=True)\n",
    "KNNResult = []\n",
    "for k in range(1,26):\n",
    "    knn = neighbors.KNeighborsClassifier(n_neighbors=k)\n",
    "    model = knn.fit(X, Y)\n",
    "    scores=cross_val_score(model, X, Y, cv=crossvalidation)\n",
    "    print('K={}'.format(k))\n",
    "    print()\n",
    "    print('Accuracy of each fold: \\n {}'.format(scores))\n",
    "    print()\n",
    "    print(\"Avg accuracy: {}\".format(scores.mean()))\n",
    "    print()\n",
    "    KNN_result.append(scores.mean())\n",
    "print(KNN_result)"
   ]
  },
  {
   "cell_type": "code",
   "execution_count": 43,
   "id": "a4a6abd9",
   "metadata": {},
   "outputs": [
    {
     "name": "stdout",
     "output_type": "stream",
     "text": [
      "K=1\n",
      "\n",
      "Accuracy of each fold: \n",
      " [0.72641509 0.70943396 0.72641509 0.73773585 0.72022684]\n",
      "\n",
      "Avg accuracy: 0.7240453686200377\n",
      "\n",
      "K=2\n",
      "\n",
      "Accuracy of each fold: \n",
      " [0.68867925 0.69811321 0.70754717 0.68679245 0.6899811 ]\n",
      "\n",
      "Avg accuracy: 0.6942226343760032\n",
      "\n",
      "K=3\n",
      "\n",
      "Accuracy of each fold: \n",
      " [0.72075472 0.73773585 0.76981132 0.73396226 0.74858223]\n",
      "\n",
      "Avg accuracy: 0.742169276313443\n",
      "\n",
      "K=4\n",
      "\n",
      "Accuracy of each fold: \n",
      " [0.70754717 0.75471698 0.74339623 0.70188679 0.73913043]\n",
      "\n",
      "Avg accuracy: 0.7293355209187858\n",
      "\n",
      "K=5\n",
      "\n",
      "Accuracy of each fold: \n",
      " [0.73396226 0.75471698 0.77735849 0.72830189 0.75803403]\n",
      "\n",
      "Avg accuracy: 0.7504747298213076\n",
      "\n",
      "K=6\n",
      "\n",
      "Accuracy of each fold: \n",
      " [0.72830189 0.76037736 0.77924528 0.7245283  0.731569  ]\n",
      "\n",
      "Avg accuracy: 0.744804365659664\n",
      "\n",
      "K=7\n",
      "\n",
      "Accuracy of each fold: \n",
      " [0.73773585 0.75471698 0.77735849 0.72830189 0.76181474]\n",
      "\n",
      "Avg accuracy: 0.7519855904697363\n",
      "\n",
      "K=8\n",
      "\n",
      "Accuracy of each fold: \n",
      " [0.73396226 0.75471698 0.76981132 0.72264151 0.7637051 ]\n",
      "\n",
      "Avg accuracy: 0.7489674358882905\n",
      "\n",
      "K=9\n",
      "\n",
      "Accuracy of each fold: \n",
      " [0.74339623 0.75283019 0.78301887 0.73018868 0.77693762]\n",
      "\n",
      "Avg accuracy: 0.7572743160823198\n",
      "\n",
      "K=10\n",
      "\n",
      "Accuracy of each fold: \n",
      " [0.73773585 0.74716981 0.77358491 0.73207547 0.76748582]\n",
      "\n",
      "Avg accuracy: 0.7516103720084175\n",
      "\n",
      "[0.7240453686200377, 0.6942226343760032, 0.742169276313443, 0.7293355209187858, 0.7504747298213076, 0.744804365659664, 0.7519855904697363, 0.7489674358882905, 0.7572743160823198, 0.7516103720084175]\n"
     ]
    }
   ],
   "source": [
    "KNN_result = []\n",
    "X=train_df.iloc[:, 5:18]\n",
    "Y=train_df.iloc[:, -1]\n",
    "crossvalidation = KFold(n_splits=5, random_state=3, shuffle=True)\n",
    "KNNResult = []\n",
    "for k in range(1,11):\n",
    "    knn = neighbors.KNeighborsClassifier(n_neighbors=k)\n",
    "    model = knn.fit(X, Y)\n",
    "    scores=cross_val_score(model, X, Y, cv=crossvalidation)\n",
    "    print('K={}'.format(k))\n",
    "    print()\n",
    "    print('Accuracy of each fold: \\n {}'.format(scores))\n",
    "    print()\n",
    "    print(\"Avg accuracy: {}\".format(scores.mean()))\n",
    "    print()\n",
    "    KNN_result.append(scores.mean())\n",
    "print(KNN_result)"
   ]
  },
  {
   "cell_type": "code",
   "execution_count": 44,
   "id": "e1f5e7aa",
   "metadata": {
    "scrolled": true
   },
   "outputs": [
    {
     "name": "stdout",
     "output_type": "stream",
     "text": [
      "\n",
      "---Run time is 116.5781954 seconds ---\n",
      "\n",
      "Accuracy of each fold: \n",
      " [0.7433962264150943, 0.7528301886792453, 0.7830188679245284, 0.730188679245283, 0.776937618147448]\n",
      "Avg accuracy: 0.7572743160823198\n",
      "Std of accuracy : \n",
      "0.019977040630257493\n",
      "\n",
      "[[ 614  363]\n",
      " [ 280 1392]]\n",
      "\n",
      "              precision    recall  f1-score   support\n",
      "\n",
      "   non-woody       0.69      0.63      0.66       977\n",
      "       woody       0.79      0.83      0.81      1672\n",
      "\n",
      "    accuracy                           0.76      2649\n",
      "   macro avg       0.74      0.73      0.73      2649\n",
      "weighted avg       0.75      0.76      0.75      2649\n",
      "\n",
      "0.6284544524053224\n",
      "0.8325358851674641\n",
      "0.6868008948545862\n",
      "0.6563335114911812\n"
     ]
    }
   ],
   "source": [
    "#KNN-CV\n",
    "kf = KFold(n_splits=5, random_state=3, shuffle=True)\n",
    "model=neighbors.KNeighborsClassifier(n_neighbors=9)\n",
    "\n",
    "acc_score = []\n",
    "Truth = []\n",
    "Output = []\n",
    "\n",
    "testindex5 = []\n",
    "testindex6 = []\n",
    "\n",
    "for train_index, test_index in kf.split(train_df): \n",
    "    X_train = train_df.iloc[train_index, 5:18]\n",
    "    X_test = train_df.iloc[test_index, 5:18]\n",
    "    Y_train = train_df.iloc[train_index, -1]\n",
    "    Y_test = train_df.iloc[test_index, -1]\n",
    "\n",
    "    model.fit(X_train, Y_train)\n",
    "    pred_values = model.predict(X_test)\n",
    "\n",
    "    acc = accuracy_score(Y_test, pred_values)\n",
    "    acc_score.append(acc)\n",
    "\n",
    "    Truth.extend(Y_test.values.reshape(Y_test.shape[0])) \n",
    "    Output.extend(pred_values)\n",
    "    \n",
    "    testindex5.append(test_index)\n",
    "    testindex6.append(pred_values)\n",
    "\n",
    "\n",
    "elapsed = timeit.default_timer() - start_time\n",
    "\n",
    "print()\n",
    "print(\"---Run time is %s seconds ---\" % elapsed)\n",
    "print()\n",
    "print('Accuracy of each fold: \\n {}'.format(acc_score))\n",
    "print(\"Avg accuracy: {}\".format(np.mean(acc_score)))\n",
    "print('Std of accuracy : \\n{}'.format(np.std(acc_score)))\n",
    "print()\n",
    "print(confusion_matrix(Truth, Output))\n",
    "print()\n",
    "print(classification_report(Truth, Output))\n",
    "\n",
    "cm = confusion_matrix(Truth, Output)\n",
    "\n",
    "sensitivity = cm[0][0]/(cm[0][0]+cm[0][1])\n",
    "specificity = cm[1][1]/(cm[1][0]+cm[1][1])\n",
    "precision = (cm[0][0])/(cm[0][0]+cm[1][0])\n",
    "f1_score = (2*precision*sensitivity)/(precision+sensitivity)\n",
    "\n",
    "print(sensitivity)\n",
    "print(specificity)\n",
    "print(precision)\n",
    "print(f1_score)\n",
    "\n",
    "statallfeatures_dic['Run Time'].append(elapsed)\n",
    "statallfeatures_dic['Accuracy'].append(np.mean(acc_score))\n",
    "statallfeatures_dic['Standard Error'].append(np.std(acc_score))\n",
    "statallfeatures_dic['Sensitivity'].append(sensitivity)\n",
    "statallfeatures_dic['Specificity'].append(specificity)\n",
    "statallfeatures_dic['Precision'].append(precision)\n",
    "statallfeatures_dic['F1_Score'].append(f1_score)\n",
    "\n",
    "indaccs_dic['KNN']=acc_score"
   ]
  },
  {
   "cell_type": "code",
   "execution_count": 45,
   "id": "2c057ec4",
   "metadata": {},
   "outputs": [
    {
     "name": "stdout",
     "output_type": "stream",
     "text": [
      "[[1239  849]\n",
      " [1124 1127]]\n",
      "\n",
      "              precision    recall  f1-score   support\n",
      "\n",
      "   non-woody       0.52      0.59      0.56      2088\n",
      "       woody       0.57      0.50      0.53      2251\n",
      "\n",
      "    accuracy                           0.55      4339\n",
      "   macro avg       0.55      0.55      0.54      4339\n",
      "weighted avg       0.55      0.55      0.54      4339\n",
      "\n",
      "predicted ['woody' 'woody' 'woody' ... 'woody' 'woody' 'woody']\n",
      "acc 0.54528693247292\n",
      "sens  0.5006663705019991\n",
      "spec  0.5933908045977011\n",
      "prec  0.524333474396953\n",
      "f1_score  0.5567288249831499\n"
     ]
    }
   ],
   "source": [
    "Truth2 = []\n",
    "Output2 = []\n",
    "testing = test_df.iloc[:,-1]\n",
    "model.fit(train_df.iloc[:,5:18],train_df.iloc[:,-1])\n",
    "predicted = model.predict(test_df.iloc[:,5:18])\n",
    "acc = accuracy_score(testing, predicted)\n",
    "Truth2.extend(testing.values.reshape(testing.shape[0])); ## it is a list\n",
    "Output2.extend(predicted);\n",
    "print(confusion_matrix(Truth2, Output2))\n",
    "print()\n",
    "print(classification_report(Truth2, Output2))\n",
    "cm2 = confusion_matrix(Truth2, Output2)\n",
    "sensitivity = cm2[0][0]/(cm2[0][0]+cm2[0][1])\n",
    "specificity = cm2[1][1]/(cm2[1][0]+cm2[1][1])\n",
    "precision = (cm2[0][0])/(cm2[0][0]+cm2[1][0])\n",
    "f1_score = (2*precision*sensitivity)/(precision+sensitivity)\n",
    "print(\"predicted\",predicted)\n",
    "print(\"acc\",acc)\n",
    "print(\"sens \",specificity)\n",
    "print(\"spec \", sensitivity)\n",
    "print(\"prec \", precision)\n",
    "print(\"f1_score \", f1_score)"
   ]
  },
  {
   "cell_type": "code",
   "execution_count": 46,
   "id": "31971d46",
   "metadata": {},
   "outputs": [],
   "source": [
    "finalPredicted = model.predict(bigtest_df.iloc[:,5:18])\n",
    "bigtest_df[\"Veg_class\"] = finalPredicted\n"
   ]
  },
  {
   "cell_type": "code",
   "execution_count": 47,
   "id": "23e9bf7f",
   "metadata": {},
   "outputs": [
    {
     "name": "stdout",
     "output_type": "stream",
     "text": [
      "1000887.249999763\n",
      "844128.2300001793\n",
      "1845015.4800000053\n"
     ]
    }
   ],
   "source": [
    "#FWC (woo!) --> fix this\n",
    "\n",
    "woodyarea = 0\n",
    "nonwoodyarea = 0 \n",
    "totalarea = 0\n",
    "index = 0\n",
    "woody = 0\n",
    "nw = 0\n",
    "#print(bigtest_df.iat[index,4])\n",
    "area = bigtest_df[\"Shape_Area\"]\n",
    "#print(area)\n",
    "\n",
    "for i in bigtest_df[\"Veg_class\"].iloc[0:207188]:\n",
    "    index += 1\n",
    "    if i == \"woody\":\n",
    "        totalarea += bigtest_df.iat[index,4]\n",
    "        woodyarea += bigtest_df.iat[index,4]\n",
    "        #print(woodyarea)\n",
    "        woody += 1\n",
    "    if i == \"non-woody\":\n",
    "        totalarea += bigtest_df.iat[index,4]\n",
    "        nonwoodyarea += bigtest_df.iat[index,4]\n",
    "        #print(nonwoodyarea)\n",
    "        nw += 1\n",
    "print (woodyarea)\n",
    "print(nonwoodyarea)\n",
    "print(totalarea)\n",
    "FWCknn1 = woodyarea / totalarea * 100"
   ]
  },
  {
   "cell_type": "code",
   "execution_count": 48,
   "id": "b1f0f064",
   "metadata": {},
   "outputs": [
    {
     "name": "stdout",
     "output_type": "stream",
     "text": [
      "1010456.7799998649\n",
      "834561.430000078\n",
      "1845018.2100000049\n"
     ]
    }
   ],
   "source": [
    "#FWC (woo!) --> fix this\n",
    "\n",
    "woodyarea = 0\n",
    "nonwoodyarea = 0 \n",
    "totalarea = 0\n",
    "index = 0\n",
    "woody = 0\n",
    "nw = 0\n",
    "#print(bigtest_df.iat[index,4])\n",
    "area = bigtest_df[\"Shape_Area\"]\n",
    "#print(area)\n",
    "\n",
    "for i in bigtest_df[\"Veg_class\"].iloc[207188:414377]:\n",
    "    index += 1\n",
    "    if i == \"woody\":\n",
    "        totalarea += bigtest_df.iat[index,4]\n",
    "        woodyarea += bigtest_df.iat[index,4]\n",
    "        #print(woodyarea)\n",
    "        woody += 1\n",
    "    if i == \"non-woody\":\n",
    "        totalarea += bigtest_df.iat[index,4]\n",
    "        nonwoodyarea += bigtest_df.iat[index,4]\n",
    "        #print(nonwoodyarea)\n",
    "        nw += 1\n",
    "print (woodyarea)\n",
    "print(nonwoodyarea)\n",
    "print(totalarea)\n",
    "FWCknn2 = woodyarea / totalarea * 100"
   ]
  },
  {
   "cell_type": "code",
   "execution_count": 49,
   "id": "c552bb31",
   "metadata": {},
   "outputs": [
    {
     "name": "stdout",
     "output_type": "stream",
     "text": [
      "1044438.1099999732\n",
      "800577.3699999702\n",
      "1845015.4800000053\n"
     ]
    }
   ],
   "source": [
    "#FWC (woo!) --> fix this\n",
    "\n",
    "woodyarea = 0\n",
    "nonwoodyarea = 0 \n",
    "totalarea = 0\n",
    "index = 0\n",
    "woody = 0\n",
    "nw = 0\n",
    "#print(bigtest_df.iat[index,4])\n",
    "area = bigtest_df[\"Shape_Area\"]\n",
    "#print(area)\n",
    "\n",
    "for i in bigtest_df[\"Veg_class\"].iloc[414377:621565]:\n",
    "    index += 1\n",
    "    if i == \"woody\":\n",
    "        totalarea += bigtest_df.iat[index,4]\n",
    "        woodyarea += bigtest_df.iat[index,4]\n",
    "        #print(woodyarea)\n",
    "        woody += 1\n",
    "    if i == \"non-woody\":\n",
    "        totalarea += bigtest_df.iat[index,4]\n",
    "        nonwoodyarea += bigtest_df.iat[index,4]\n",
    "        #print(nonwoodyarea)\n",
    "        nw += 1\n",
    "print (woodyarea)\n",
    "print(nonwoodyarea)\n",
    "print(totalarea)\n",
    "FWCknn3 = woodyarea / totalarea * 100"
   ]
  },
  {
   "cell_type": "code",
   "execution_count": 50,
   "id": "6b35c298",
   "metadata": {},
   "outputs": [
    {
     "name": "stdout",
     "output_type": "stream",
     "text": [
      "1273015.2400001043\n",
      "572002.9699998656\n",
      "1845018.2100000049\n"
     ]
    }
   ],
   "source": [
    "#FWC (woo!) --> fix this\n",
    "\n",
    "woodyarea = 0\n",
    "nonwoodyarea = 0 \n",
    "totalarea = 0\n",
    "index = 0\n",
    "woody = 0\n",
    "nw = 0\n",
    "#print(bigtest_df.iat[index,4])\n",
    "area = bigtest_df[\"Shape_Area\"]\n",
    "#print(area)\n",
    "\n",
    "for i in bigtest_df[\"Veg_class\"].iloc[621565:828754]:\n",
    "    index += 1\n",
    "    if i == \"woody\":\n",
    "        totalarea += bigtest_df.iat[index,4]\n",
    "        woodyarea += bigtest_df.iat[index,4]\n",
    "        #print(woodyarea)\n",
    "        woody += 1\n",
    "    if i == \"non-woody\":\n",
    "        totalarea += bigtest_df.iat[index,4]\n",
    "        nonwoodyarea += bigtest_df.iat[index,4]\n",
    "        #print(nonwoodyarea)\n",
    "        nw += 1\n",
    "print (woodyarea)\n",
    "print(nonwoodyarea)\n",
    "print(totalarea)\n",
    "FWCknn4 = woodyarea / totalarea * 100"
   ]
  },
  {
   "cell_type": "code",
   "execution_count": 51,
   "id": "e98cd021",
   "metadata": {},
   "outputs": [
    {
     "name": "stdout",
     "output_type": "stream",
     "text": [
      "1524599.6000002064\n",
      "320415.8799997913\n",
      "1845015.4800000053\n"
     ]
    }
   ],
   "source": [
    "#FWC (woo!) --> fix this\n",
    "\n",
    "woodyarea = 0\n",
    "nonwoodyarea = 0 \n",
    "totalarea = 0\n",
    "index = 0\n",
    "woody = 0\n",
    "nw = 0\n",
    "#print(bigtest_df.iat[index,4])\n",
    "area = bigtest_df[\"Shape_Area\"]\n",
    "#print(area)\n",
    "\n",
    "for i in bigtest_df[\"Veg_class\"].iloc[828754:1035942]:\n",
    "    index += 1\n",
    "    if i == \"woody\":\n",
    "        totalarea += bigtest_df.iat[index,4]\n",
    "        woodyarea += bigtest_df.iat[index,4]\n",
    "        #print(woodyarea)\n",
    "        woody += 1\n",
    "    if i == \"non-woody\":\n",
    "        totalarea += bigtest_df.iat[index,4]\n",
    "        nonwoodyarea += bigtest_df.iat[index,4]\n",
    "        #print(nonwoodyarea)\n",
    "        nw += 1\n",
    "print (woodyarea)\n",
    "print(nonwoodyarea)\n",
    "print(totalarea)\n",
    "FWCknn5 = woodyarea / totalarea * 100"
   ]
  },
  {
   "cell_type": "code",
   "execution_count": 52,
   "id": "de95b830",
   "metadata": {},
   "outputs": [
    {
     "name": "stdout",
     "output_type": "stream",
     "text": [
      "1622600.450000074\n",
      "222417.75999991604\n",
      "1845018.2100000049\n"
     ]
    }
   ],
   "source": [
    "#FWC (woo!) --> fix this\n",
    "\n",
    "woodyarea = 0\n",
    "nonwoodyarea = 0 \n",
    "totalarea = 0\n",
    "index = 0\n",
    "woody = 0\n",
    "nw = 0\n",
    "#print(bigtest_df.iat[index,4])\n",
    "area = bigtest_df[\"Shape_Area\"]\n",
    "#print(area)\n",
    "\n",
    "for i in bigtest_df[\"Veg_class\"].iloc[1035942:1243131]:\n",
    "    index += 1\n",
    "    if i == \"woody\":\n",
    "        totalarea += bigtest_df.iat[index,4]\n",
    "        woodyarea += bigtest_df.iat[index,4]\n",
    "        #print(woodyarea)\n",
    "        woody += 1\n",
    "    if i == \"non-woody\":\n",
    "        totalarea += bigtest_df.iat[index,4]\n",
    "        nonwoodyarea += bigtest_df.iat[index,4]\n",
    "        #print(nonwoodyarea)\n",
    "        nw += 1\n",
    "print (woodyarea)\n",
    "print(nonwoodyarea)\n",
    "print(totalarea)\n",
    "FWCknn6 = woodyarea / totalarea * 100"
   ]
  },
  {
   "cell_type": "code",
   "execution_count": 53,
   "id": "70ab8546",
   "metadata": {},
   "outputs": [
    {
     "name": "stdout",
     "output_type": "stream",
     "text": [
      "1675958.7699999262\n",
      "169056.7100000785\n",
      "1845015.4800000053\n"
     ]
    }
   ],
   "source": [
    "woodyarea = 0\n",
    "nonwoodyarea = 0 \n",
    "totalarea = 0\n",
    "index = 0\n",
    "woody = 0\n",
    "nw = 0\n",
    "#print(bigtest_df.iat[index,4])\n",
    "area = bigtest_df[\"Shape_Area\"]\n",
    "#print(area)\n",
    "\n",
    "for i in bigtest_df[\"Veg_class\"].iloc[1243131:1450319]:\n",
    "    index += 1\n",
    "    if i == \"woody\":\n",
    "        totalarea += bigtest_df.iat[index,4]\n",
    "        woodyarea += bigtest_df.iat[index,4]\n",
    "        #print(woodyarea)\n",
    "        woody += 1\n",
    "    if i == \"non-woody\":\n",
    "        totalarea += bigtest_df.iat[index,4]\n",
    "        nonwoodyarea += bigtest_df.iat[index,4]\n",
    "        #print(nonwoodyarea)\n",
    "        nw += 1\n",
    "print (woodyarea)\n",
    "print(nonwoodyarea)\n",
    "print(totalarea)\n",
    "FWCknn7 = woodyarea / totalarea * 100"
   ]
  },
  {
   "cell_type": "code",
   "execution_count": 54,
   "id": "80f84330",
   "metadata": {},
   "outputs": [
    {
     "name": "stdout",
     "output_type": "stream",
     "text": [
      "1709332.660000129\n",
      "135685.54999987583\n",
      "1845018.2100000049\n"
     ]
    }
   ],
   "source": [
    "woodyarea = 0\n",
    "nonwoodyarea = 0 \n",
    "totalarea = 0\n",
    "index = 0\n",
    "woody = 0\n",
    "nw = 0\n",
    "#print(bigtest_df.iat[index,4])\n",
    "area = bigtest_df[\"Shape_Area\"]\n",
    "#print(area)\n",
    "\n",
    "for i in bigtest_df[\"Veg_class\"].iloc[1450319:1657508]:\n",
    "    index += 1\n",
    "    if i == \"woody\":\n",
    "        totalarea += bigtest_df.iat[index,4]\n",
    "        woodyarea += bigtest_df.iat[index,4]\n",
    "        #print(woodyarea)\n",
    "        woody += 1\n",
    "    if i == \"non-woody\":\n",
    "        totalarea += bigtest_df.iat[index,4]\n",
    "        nonwoodyarea += bigtest_df.iat[index,4]\n",
    "        #print(nonwoodyarea)\n",
    "        nw += 1\n",
    "print (woodyarea)\n",
    "print(nonwoodyarea)\n",
    "print(totalarea)\n",
    "FWCknn8 = woodyarea / totalarea * 100"
   ]
  },
  {
   "cell_type": "code",
   "execution_count": 55,
   "id": "810c7559",
   "metadata": {},
   "outputs": [
    {
     "name": "stdout",
     "output_type": "stream",
     "text": [
      "192875\n",
      "14314\n",
      "73.58529419431059\n"
     ]
    }
   ],
   "source": [
    "FWCknn = (FWCknn1 +FWCknn2 +FWCknn3+FWCknn4+FWCknn5+FWCknn6+FWCknn7+FWCknn8) /8\n",
    "print(woody)\n",
    "print(nw)\n",
    "print(FWCknn)"
   ]
  },
  {
   "cell_type": "code",
   "execution_count": 56,
   "id": "dbab039a",
   "metadata": {},
   "outputs": [
    {
     "data": {
      "text/html": [
       "<div>\n",
       "<style scoped>\n",
       "    .dataframe tbody tr th:only-of-type {\n",
       "        vertical-align: middle;\n",
       "    }\n",
       "\n",
       "    .dataframe tbody tr th {\n",
       "        vertical-align: top;\n",
       "    }\n",
       "\n",
       "    .dataframe thead th {\n",
       "        text-align: right;\n",
       "    }\n",
       "</style>\n",
       "<table border=\"1\" class=\"dataframe\">\n",
       "  <thead>\n",
       "    <tr style=\"text-align: right;\">\n",
       "      <th></th>\n",
       "      <th>Accuracy</th>\n",
       "      <th>Standard Error</th>\n",
       "      <th>Sensitivity</th>\n",
       "      <th>Specificity</th>\n",
       "      <th>Precision</th>\n",
       "      <th>F1-Score</th>\n",
       "      <th>Run Time</th>\n",
       "    </tr>\n",
       "  </thead>\n",
       "  <tbody>\n",
       "    <tr>\n",
       "      <th>LogReg</th>\n",
       "      <td>0.713480</td>\n",
       "      <td>0.013506</td>\n",
       "      <td>0.533265</td>\n",
       "      <td>0.818780</td>\n",
       "      <td>0.632282</td>\n",
       "      <td>0.578567</td>\n",
       "      <td>0.029563</td>\n",
       "    </tr>\n",
       "    <tr>\n",
       "      <th>LDA</th>\n",
       "      <td>0.762935</td>\n",
       "      <td>0.017527</td>\n",
       "      <td>0.642784</td>\n",
       "      <td>0.833134</td>\n",
       "      <td>0.692393</td>\n",
       "      <td>0.666667</td>\n",
       "      <td>37.953203</td>\n",
       "    </tr>\n",
       "    <tr>\n",
       "      <th>QDA</th>\n",
       "      <td>0.682144</td>\n",
       "      <td>0.026085</td>\n",
       "      <td>0.881269</td>\n",
       "      <td>0.565789</td>\n",
       "      <td>0.542533</td>\n",
       "      <td>0.671607</td>\n",
       "      <td>76.230772</td>\n",
       "    </tr>\n",
       "    <tr>\n",
       "      <th>KNN-CV</th>\n",
       "      <td>0.757274</td>\n",
       "      <td>0.019977</td>\n",
       "      <td>0.628454</td>\n",
       "      <td>0.832536</td>\n",
       "      <td>0.686801</td>\n",
       "      <td>0.656334</td>\n",
       "      <td>116.578195</td>\n",
       "    </tr>\n",
       "  </tbody>\n",
       "</table>\n",
       "</div>"
      ],
      "text/plain": [
       "        Accuracy  Standard Error  Sensitivity  Specificity  Precision  \\\n",
       "LogReg  0.713480        0.013506     0.533265     0.818780   0.632282   \n",
       "LDA     0.762935        0.017527     0.642784     0.833134   0.692393   \n",
       "QDA     0.682144        0.026085     0.881269     0.565789   0.542533   \n",
       "KNN-CV  0.757274        0.019977     0.628454     0.832536   0.686801   \n",
       "\n",
       "        F1-Score    Run Time  \n",
       "LogReg  0.578567    0.029563  \n",
       "LDA     0.666667   37.953203  \n",
       "QDA     0.671607   76.230772  \n",
       "KNN-CV  0.656334  116.578195  "
      ]
     },
     "execution_count": 56,
     "metadata": {},
     "output_type": "execute_result"
    }
   ],
   "source": [
    "transitionsdf = pd.DataFrame(\n",
    "    data = np.transpose(np.array([\n",
    "                                statallfeatures_dic[\"Accuracy\"],\n",
    "                                statallfeatures_dic[\"Standard Error\"],\n",
    "                                statallfeatures_dic[\"Sensitivity\"],\n",
    "                                statallfeatures_dic[\"Specificity\"],\n",
    "                                statallfeatures_dic[\"Precision\"],\n",
    "                                statallfeatures_dic[\"F1_Score\"],\n",
    "                                statallfeatures_dic[\"Run Time\"] \n",
    "                            ])\n",
    "                       ),\n",
    "    \n",
    "    columns = [\"Accuracy\", \"Standard Error\", \"Sensitivity\", \"Specificity\", \"Precision\", \"F1-Score\", \"Run Time\"]\n",
    "    \n",
    ")\n",
    "\n",
    "transitionsdf.set_index(pd.Index([\"LogReg\", \"LDA\", \"QDA\", \"KNN-CV\"]))"
   ]
  },
  {
   "cell_type": "code",
   "execution_count": 57,
   "id": "c7b7c1dd",
   "metadata": {},
   "outputs": [
    {
     "name": "stdout",
     "output_type": "stream",
     "text": [
      "['LogReg', 'LDA', 'QDA', 'KNN-CV']\n",
      "Accuracies[0.7134800442272711, 0.7629354067838927, 0.6821435959624782, 0.7572743160823198]\n",
      "Sen[0.5332650972364381, 0.6427840327533265, 0.8812691914022518, 0.6284544524053224]\n",
      "Spec[0.81877990430622, 0.8331339712918661, 0.5657894736842105, 0.8325358851674641]\n",
      "P[0.6322815533980582, 0.6923925027563396, 0.5425330812854442, 0.6868008948545862]\n",
      "F1[0.5785674625208218, 0.6666666666666666, 0.671606864274571, 0.6563335114911812]\n"
     ]
    },
    {
     "data": {
      "image/png": "[encoded data removed]",
      "text/plain": [
       "<Figure size 840x420 with 1 Axes>"
      ]
     },
     "metadata": {
      "image/png": {
       "height": 409,
       "width": 829
      }
     },
     "output_type": "display_data"
    }
   ],
   "source": [
    "#Bar Graph\n",
    "models = ['LogReg', 'LDA', 'QDA', 'KNN-CV']\n",
    "print(models)\n",
    "accuracies = statallfeatures_dic[\"Accuracy\"]\n",
    "print(\"Accuracies\" + str(accuracies))\n",
    "sensitivities = statallfeatures_dic[\"Sensitivity\"]\n",
    "print(\"Sen\" + str(sensitivities))\n",
    "specificities = statallfeatures_dic[\"Specificity\"]\n",
    "print(\"Spec\" + str(specificities))\n",
    "precisions = statallfeatures_dic[\"Precision\"]\n",
    "print(\"P\" + str(precisions))\n",
    "f1_scores = statallfeatures_dic[\"F1_Score\"]\n",
    "print(\"F1\" + str(f1_scores))\n",
    "\n",
    "x = 6*np.arange(len(models))\n",
    "width = 0.8\n",
    "\n",
    "fig, ax = plt.subplots(figsize=(12, 6))\n",
    "import seaborn as sns\n",
    "colors = sns.color_palette(\"BrBG\")\n",
    "\n",
    "acc = ax.bar(x-width*2, accuracies, width, label='Accuracy', color=colors[0])\n",
    "sen = ax.bar(x-width, sensitivities, width, label='Sensitivity', color=colors[1])\n",
    "spe = ax.bar(x,specificities, width, label='Specificity', color=colors[2])\n",
    "pre = ax.bar(x+width, precisions, width, label='Precision', color=colors[3])\n",
    "f1 = ax.bar(x+width*2 , f1_scores, width, label='F1_Score', color=colors[4])\n",
    "\n",
    "ax.set_xlabel('Classification Model', fontsize=14)\n",
    "ax.set_ylabel('Percentage', fontsize=14)\n",
    "ax.set_title('Model Performance For Predicting Woody and Nonwoody Plants Using All Features', fontsize=16)\n",
    "ax.set_xticks(x)\n",
    "ax.set_xticklabels(models)\n",
    "ax.legend()\n",
    "ax.set(ylim=(0.0, 1))\n",
    "\n",
    "\n",
    "fig.tight_layout()\n",
    "\n",
    "plt.legend(loc=\"upper left\", prop={'size': 10})\n",
    "plt.show()\n",
    "\n",
    "fig.savefig('AllFeaturesPerformance.png')\n",
    "\n",
    "#Code from https://matplotlib.org/stable/gallery/lines_bars_and_markers/barchart.html#sphx-glr-gallery-lines-bars-and-markers-barchart-py"
   ]
  },
  {
   "cell_type": "code",
   "execution_count": 61,
   "id": "ed4fc34c",
   "metadata": {},
   "outputs": [
    {
     "data": {
      "image/png": "[encoded data removed]",
      "text/plain": [
       "<Figure size 1050x525 with 1 Axes>"
      ]
     },
     "metadata": {
      "image/png": {
       "height": 463,
       "width": 875
      }
     },
     "output_type": "display_data"
    }
   ],
   "source": [
    "#Box Plot Accuracies\n",
    "\n",
    "models = ['LogReg', 'LDA', 'QDA', 'KNN-CV']\n",
    "\n",
    "x = np.arange(len(models))+1\n",
    "\n",
    "LogRegAcc = indaccs_dic['LogReg']\n",
    "LDAAcc = indaccs_dic['LDA']\n",
    "QDAAcc = indaccs_dic['QDA']\n",
    "KNNAcc = indaccs_dic['KNN']\n",
    "\n",
    "data = [LogRegAcc, LDAAcc, QDAAcc, KNNAcc]\n",
    "\n",
    "fig, ax = plt.subplots(figsize = (15,7.5))\n",
    "bplot = ax.boxplot(data, patch_artist = True)\n",
    "\n",
    "ax.set_title('Accuracies of Woody Plant Classification Using All Features for Various Classifiers', fontsize=15)\n",
    "ax.set_xlabel('Classification Model', fontsize=15)\n",
    "ax.set_ylabel('Accuracy', fontsize=15)\n",
    "ax.set_xticks(x)\n",
    "ax.set_xticklabels(models)\n",
    "\n",
    "import seaborn as sns\n",
    "#colors = sns.color_palette(\"colorblind\")\n",
    "colors = sns.color_palette()\n",
    "\n",
    "for patch, color in zip(bplot['boxes'], colors):\n",
    "        patch.set_facecolor(color)\n",
    "plt.show()"
   ]
  },
  {
   "cell_type": "code",
   "execution_count": 60,
   "id": "5e6ecc06",
   "metadata": {},
   "outputs": [
    {
     "name": "stdout",
     "output_type": "stream",
     "text": [
      "Log reg pred: 70.97474946877419\n",
      "QDA pred: 66.29526956804585\n",
      "LDA pred: 62.881457461927056\n",
      "KNN pred: 73.58529419431059\n"
     ]
    }
   ],
   "source": [
    "\n",
    "#print(\"Log reg act: \" + str())\n",
    "print(\"Log reg pred: \" + str(FWClog))\n",
    "#print(\"QDA act: \" + str(needed2))\n",
    "print(\"QDA pred: \" + str(FWCqda))\n",
    "#print(\"LDA act: \" + str(needed3))\n",
    "print(\"LDA pred: \" + str(FWClda))\n",
    "#print(\"KNN act: \" + str(needed4))\n",
    "print(\"KNN pred: \" +str(FWCknn))\n"
   ]
  },
  {
   "cell_type": "code",
   "execution_count": null,
   "id": "a9367dc3",
   "metadata": {},
   "outputs": [],
   "source": []
  }
 ],
 "metadata": {
  "kernelspec": {
   "display_name": "Python 3 (ipykernel)",
   "language": "python",
   "name": "python3"
  },
  "language_info": {
   "codemirror_mode": {
    "name": "ipython",
    "version": 3
   },
   "file_extension": ".py",
   "mimetype": "text/x-python",
   "name": "python",
   "nbconvert_exporter": "python",
   "pygments_lexer": "ipython3",
   "version": "3.9.12"
  }
 },
 "nbformat": 4,
 "nbformat_minor": 5
}
